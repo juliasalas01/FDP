{
 "cells": [
  {
   "cell_type": "code",
   "execution_count": 27,
   "id": "0d8b38f3",
   "metadata": {},
   "outputs": [],
   "source": [
    "setwd(\"~/smallRNAs/julia/\")"
   ]
  },
  {
   "cell_type": "code",
   "execution_count": 28,
   "id": "86ab78aa",
   "metadata": {},
   "outputs": [],
   "source": [
    "annotation<- read.table(\"annotation_human.bed\", header=FALSE, sep=\"\\t\")"
   ]
  },
  {
   "cell_type": "code",
   "execution_count": 39,
   "id": "f8bdcb95",
   "metadata": {},
   "outputs": [
    {
     "data": {
      "text/html": [
       "<table>\n",
       "<thead><tr><th scope=col>chr</th><th scope=col>start</th><th scope=col>end</th><th scope=col>type</th><th scope=col>name</th></tr></thead>\n",
       "<tbody>\n",
       "\t<tr><td>chr1          </td><td>109399042     </td><td>109426448     </td><td>protein_coding</td><td>1             </td></tr>\n",
       "\t<tr><td>chr1          </td><td>109466478     </td><td>109482142     </td><td>protein_coding</td><td>1             </td></tr>\n",
       "\t<tr><td>chr1          </td><td>109309575     </td><td>109397940     </td><td>protein_coding</td><td>1             </td></tr>\n",
       "\t<tr><td>chr1          </td><td>109598893     </td><td>109598967     </td><td>miRNA         </td><td>1             </td></tr>\n",
       "\t<tr><td>chr1          </td><td>109603091     </td><td>109619616     </td><td>protein_coding</td><td>1             </td></tr>\n",
       "\t<tr><td>chr1          </td><td>109619837     </td><td>109632055     </td><td>protein_coding</td><td>1             </td></tr>\n",
       "</tbody>\n",
       "</table>\n"
      ],
      "text/latex": [
       "\\begin{tabular}{r|lllll}\n",
       " chr & start & end & type & name\\\\\n",
       "\\hline\n",
       "\t chr1             & 109399042        & 109426448        & protein\\_coding & 1               \\\\\n",
       "\t chr1             & 109466478        & 109482142        & protein\\_coding & 1               \\\\\n",
       "\t chr1             & 109309575        & 109397940        & protein\\_coding & 1               \\\\\n",
       "\t chr1           & 109598893      & 109598967      & miRNA          & 1             \\\\\n",
       "\t chr1             & 109603091        & 109619616        & protein\\_coding & 1               \\\\\n",
       "\t chr1             & 109619837        & 109632055        & protein\\_coding & 1               \\\\\n",
       "\\end{tabular}\n"
      ],
      "text/markdown": [
       "\n",
       "| chr | start | end | type | name |\n",
       "|---|---|---|---|---|\n",
       "| chr1           | 109399042      | 109426448      | protein_coding | 1              |\n",
       "| chr1           | 109466478      | 109482142      | protein_coding | 1              |\n",
       "| chr1           | 109309575      | 109397940      | protein_coding | 1              |\n",
       "| chr1           | 109598893      | 109598967      | miRNA          | 1              |\n",
       "| chr1           | 109603091      | 109619616      | protein_coding | 1              |\n",
       "| chr1           | 109619837      | 109632055      | protein_coding | 1              |\n",
       "\n"
      ],
      "text/plain": [
       "  chr  start     end       type           name\n",
       "1 chr1 109399042 109426448 protein_coding 1   \n",
       "2 chr1 109466478 109482142 protein_coding 1   \n",
       "3 chr1 109309575 109397940 protein_coding 1   \n",
       "4 chr1 109598893 109598967 miRNA          1   \n",
       "5 chr1 109603091 109619616 protein_coding 1   \n",
       "6 chr1 109619837 109632055 protein_coding 1   "
      ]
     },
     "metadata": {},
     "output_type": "display_data"
    }
   ],
   "source": [
    "head(annotation)"
   ]
  },
  {
   "cell_type": "code",
   "execution_count": 31,
   "id": "e513438f",
   "metadata": {},
   "outputs": [],
   "source": [
    "library(stringr)\n",
    "pattern <- \"(?<=gene_biotype\\\\s)\\\\w+\"\n",
    "annotation$extracted_word <- str_extract(annotation$V4, pattern)\n",
    "annotation$extracted_word <- str_replace(annotation$extracted_word, \"gene_biotype \", \"\")"
   ]
  },
  {
   "cell_type": "code",
   "execution_count": 37,
   "id": "e36d0aaa",
   "metadata": {},
   "outputs": [
    {
     "ename": "ERROR",
     "evalue": "Error in `[.data.frame`(annotation, , c(1, 2, 3, 7, 5)): undefined columns selected\n",
     "output_type": "error",
     "traceback": [
      "Error in `[.data.frame`(annotation, , c(1, 2, 3, 7, 5)): undefined columns selected\nTraceback:\n",
      "1. annotation[, c(1, 2, 3, 7, 5)]",
      "2. `[.data.frame`(annotation, , c(1, 2, 3, 7, 5))",
      "3. stop(\"undefined columns selected\")"
     ]
    }
   ],
   "source": [
    "annotation <- annotation[,c(1,2,3,7,5)]"
   ]
  },
  {
   "cell_type": "code",
   "execution_count": 38,
   "id": "f74f6960",
   "metadata": {},
   "outputs": [],
   "source": [
    "colnames(annotation) <- c(\"chr\",\"start\",\"end\",\"type\",\"name\")"
   ]
  },
  {
   "cell_type": "code",
   "execution_count": 9,
   "id": "238972d7",
   "metadata": {},
   "outputs": [],
   "source": [
    "precursors<- read.table(\"h38.bed\", header=FALSE, sep=\"\\t\")"
   ]
  },
  {
   "cell_type": "code",
   "execution_count": 41,
   "id": "1282c9d3",
   "metadata": {},
   "outputs": [
    {
     "data": {
      "text/html": [
       "<table>\n",
       "<thead><tr><th scope=col>chr</th><th scope=col>start</th><th scope=col>end</th><th scope=col>type</th><th scope=col>name</th></tr></thead>\n",
       "<tbody>\n",
       "\t<tr><td>chr1        </td><td> 24251429   </td><td> 24335724   </td><td>Pachytene   </td><td>1-p36-1107  </td></tr>\n",
       "\t<tr><td>chr1        </td><td>179585426   </td><td>179591786   </td><td>Pachytene   </td><td>1-q25-2976  </td></tr>\n",
       "\t<tr><td>chr1        </td><td>222471907   </td><td>222489700   </td><td>Prepachytene</td><td>1-q41-289   </td></tr>\n",
       "\t<tr><td>chr10       </td><td> 28789400   </td><td> 28795995   </td><td>Pachytene   </td><td>10-p11-10777</td></tr>\n",
       "\t<tr><td>chr10       </td><td> 44997697   </td><td> 45000888   </td><td>Pachytene   </td><td>10-q11-242  </td></tr>\n",
       "\t<tr><td>chr10       </td><td> 77763999   </td><td> 77783913   </td><td>Pachytene   </td><td>10-q22-16903</td></tr>\n",
       "</tbody>\n",
       "</table>\n"
      ],
      "text/latex": [
       "\\begin{tabular}{r|lllll}\n",
       " chr & start & end & type & name\\\\\n",
       "\\hline\n",
       "\t chr1         &  24251429    &  24335724    & Pachytene    & 1-p36-1107  \\\\\n",
       "\t chr1         & 179585426    & 179591786    & Pachytene    & 1-q25-2976  \\\\\n",
       "\t chr1         & 222471907    & 222489700    & Prepachytene & 1-q41-289   \\\\\n",
       "\t chr10        &  28789400    &  28795995    & Pachytene    & 10-p11-10777\\\\\n",
       "\t chr10        &  44997697    &  45000888    & Pachytene    & 10-q11-242  \\\\\n",
       "\t chr10        &  77763999    &  77783913    & Pachytene    & 10-q22-16903\\\\\n",
       "\\end{tabular}\n"
      ],
      "text/markdown": [
       "\n",
       "| chr | start | end | type | name |\n",
       "|---|---|---|---|---|\n",
       "| chr1         |  24251429    |  24335724    | Pachytene    | 1-p36-1107   |\n",
       "| chr1         | 179585426    | 179591786    | Pachytene    | 1-q25-2976   |\n",
       "| chr1         | 222471907    | 222489700    | Prepachytene | 1-q41-289    |\n",
       "| chr10        |  28789400    |  28795995    | Pachytene    | 10-p11-10777 |\n",
       "| chr10        |  44997697    |  45000888    | Pachytene    | 10-q11-242   |\n",
       "| chr10        |  77763999    |  77783913    | Pachytene    | 10-q22-16903 |\n",
       "\n"
      ],
      "text/plain": [
       "  chr   start     end       type         name        \n",
       "1 chr1   24251429  24335724 Pachytene    1-p36-1107  \n",
       "2 chr1  179585426 179591786 Pachytene    1-q25-2976  \n",
       "3 chr1  222471907 222489700 Prepachytene 1-q41-289   \n",
       "4 chr10  28789400  28795995 Pachytene    10-p11-10777\n",
       "5 chr10  44997697  45000888 Pachytene    10-q11-242  \n",
       "6 chr10  77763999  77783913 Pachytene    10-q22-16903"
      ]
     },
     "metadata": {},
     "output_type": "display_data"
    }
   ],
   "source": [
    "head(precursors)"
   ]
  },
  {
   "cell_type": "code",
   "execution_count": 11,
   "id": "552cb769",
   "metadata": {},
   "outputs": [],
   "source": [
    "precursors$V7<- \"precursor\""
   ]
  },
  {
   "cell_type": "code",
   "execution_count": 35,
   "id": "05609b7e",
   "metadata": {},
   "outputs": [],
   "source": [
    "precursors<- precursors[,c(1,2,3,4,5)]"
   ]
  },
  {
   "cell_type": "code",
   "execution_count": 40,
   "id": "906f8a77",
   "metadata": {},
   "outputs": [],
   "source": [
    "colnames(precursors) <- c(\"chr\",\"start\",\"end\",\"type\",\"name\")"
   ]
  },
  {
   "cell_type": "code",
   "execution_count": 42,
   "id": "a47f3445",
   "metadata": {},
   "outputs": [],
   "source": [
    "all_annotation <- rbind(annotation,precursors)"
   ]
  },
  {
   "cell_type": "code",
   "execution_count": 43,
   "id": "c8c54532",
   "metadata": {},
   "outputs": [
    {
     "data": {
      "text/html": [
       "<table>\n",
       "<thead><tr><th scope=col>chr</th><th scope=col>start</th><th scope=col>end</th><th scope=col>type</th><th scope=col>name</th></tr></thead>\n",
       "<tbody>\n",
       "\t<tr><td>chr1          </td><td>109399042     </td><td>109426448     </td><td>protein_coding</td><td>1             </td></tr>\n",
       "\t<tr><td>chr1          </td><td>109466478     </td><td>109482142     </td><td>protein_coding</td><td>1             </td></tr>\n",
       "\t<tr><td>chr1          </td><td>109309575     </td><td>109397940     </td><td>protein_coding</td><td>1             </td></tr>\n",
       "\t<tr><td>chr1          </td><td>109598893     </td><td>109598967     </td><td>miRNA         </td><td>1             </td></tr>\n",
       "\t<tr><td>chr1          </td><td>109603091     </td><td>109619616     </td><td>protein_coding</td><td>1             </td></tr>\n",
       "\t<tr><td>chr1          </td><td>109619837     </td><td>109632055     </td><td>protein_coding</td><td>1             </td></tr>\n",
       "</tbody>\n",
       "</table>\n"
      ],
      "text/latex": [
       "\\begin{tabular}{r|lllll}\n",
       " chr & start & end & type & name\\\\\n",
       "\\hline\n",
       "\t chr1             & 109399042        & 109426448        & protein\\_coding & 1               \\\\\n",
       "\t chr1             & 109466478        & 109482142        & protein\\_coding & 1               \\\\\n",
       "\t chr1             & 109309575        & 109397940        & protein\\_coding & 1               \\\\\n",
       "\t chr1           & 109598893      & 109598967      & miRNA          & 1             \\\\\n",
       "\t chr1             & 109603091        & 109619616        & protein\\_coding & 1               \\\\\n",
       "\t chr1             & 109619837        & 109632055        & protein\\_coding & 1               \\\\\n",
       "\\end{tabular}\n"
      ],
      "text/markdown": [
       "\n",
       "| chr | start | end | type | name |\n",
       "|---|---|---|---|---|\n",
       "| chr1           | 109399042      | 109426448      | protein_coding | 1              |\n",
       "| chr1           | 109466478      | 109482142      | protein_coding | 1              |\n",
       "| chr1           | 109309575      | 109397940      | protein_coding | 1              |\n",
       "| chr1           | 109598893      | 109598967      | miRNA          | 1              |\n",
       "| chr1           | 109603091      | 109619616      | protein_coding | 1              |\n",
       "| chr1           | 109619837      | 109632055      | protein_coding | 1              |\n",
       "\n"
      ],
      "text/plain": [
       "  chr  start     end       type           name\n",
       "1 chr1 109399042 109426448 protein_coding 1   \n",
       "2 chr1 109466478 109482142 protein_coding 1   \n",
       "3 chr1 109309575 109397940 protein_coding 1   \n",
       "4 chr1 109598893 109598967 miRNA          1   \n",
       "5 chr1 109603091 109619616 protein_coding 1   \n",
       "6 chr1 109619837 109632055 protein_coding 1   "
      ]
     },
     "metadata": {},
     "output_type": "display_data"
    }
   ],
   "source": [
    "head(all_annotation)"
   ]
  },
  {
   "cell_type": "code",
   "execution_count": 44,
   "id": "0eb71cb8",
   "metadata": {},
   "outputs": [
    {
     "data": {
      "text/html": [
       "182"
      ],
      "text/latex": [
       "182"
      ],
      "text/markdown": [
       "182"
      ],
      "text/plain": [
       "[1] 182"
      ]
     },
     "metadata": {},
     "output_type": "display_data"
    },
    {
     "data": {
      "text/html": [
       "16825"
      ],
      "text/latex": [
       "16825"
      ],
      "text/markdown": [
       "16825"
      ],
      "text/plain": [
       "[1] 16825"
      ]
     },
     "metadata": {},
     "output_type": "display_data"
    },
    {
     "data": {
      "text/html": [
       "17007"
      ],
      "text/latex": [
       "17007"
      ],
      "text/markdown": [
       "17007"
      ],
      "text/plain": [
       "[1] 17007"
      ]
     },
     "metadata": {},
     "output_type": "display_data"
    },
    {
     "data": {
      "text/html": [
       "17007"
      ],
      "text/latex": [
       "17007"
      ],
      "text/markdown": [
       "17007"
      ],
      "text/plain": [
       "[1] 17007"
      ]
     },
     "metadata": {},
     "output_type": "display_data"
    }
   ],
   "source": [
    "nrow(precursors)\n",
    "nrow(annotation)\n",
    "nrow(precursors)+nrow(annotation)\n",
    "nrow(all_annotation)"
   ]
  },
  {
   "cell_type": "code",
   "execution_count": 45,
   "id": "438b730e",
   "metadata": {},
   "outputs": [],
   "source": [
    "write.table(all_annotation, file = \"all_annotation.bed\", quote=FALSE, sep=\"\\t\", row.names = FALSE, col.names=FALSE)"
   ]
  },
  {
   "cell_type": "code",
   "execution_count": null,
   "id": "dfd96d87",
   "metadata": {},
   "outputs": [],
   "source": []
  }
 ],
 "metadata": {
  "kernelspec": {
   "display_name": "R",
   "language": "R",
   "name": "ir"
  },
  "language_info": {
   "codemirror_mode": "r",
   "file_extension": ".r",
   "mimetype": "text/x-r-source",
   "name": "R",
   "pygments_lexer": "r",
   "version": "3.6.1"
  }
 },
 "nbformat": 4,
 "nbformat_minor": 5
}
