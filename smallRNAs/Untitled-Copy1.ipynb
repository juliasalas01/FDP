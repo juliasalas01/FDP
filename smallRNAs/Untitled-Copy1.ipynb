{
 "cells": [
  {
   "cell_type": "code",
   "execution_count": 1,
   "id": "8ed801c1",
   "metadata": {},
   "outputs": [
    {
     "name": "stderr",
     "output_type": "stream",
     "text": [
      "\n",
      "Attaching package: ‘dplyr’\n",
      "\n",
      "The following objects are masked from ‘package:stats’:\n",
      "\n",
      "    filter, lag\n",
      "\n",
      "The following objects are masked from ‘package:base’:\n",
      "\n",
      "    intersect, setdiff, setequal, union\n",
      "\n"
     ]
    }
   ],
   "source": [
    "library(dplyr)\n",
    "library(ggplot2)\n"
   ]
  },
  {
   "cell_type": "code",
   "execution_count": 2,
   "id": "6b4fb670",
   "metadata": {},
   "outputs": [],
   "source": [
    "setwd(\"~/piRNA/Workspaces/julia/PrimaryData/ref_data/human\")\n",
    "#chromosome data\n",
    "chromosome_data_1<- read.table(\"summary_chroms.tsv\", header=TRUE)"
   ]
  },
  {
   "cell_type": "code",
   "execution_count": 2,
   "id": "e1d7899a",
   "metadata": {},
   "outputs": [
    {
     "data": {
      "text/html": [
       "<table>\n",
       "<thead><tr><th scope=col>CHROM</th><th scope=col>UCSC_CHROM</th><th scope=col>REFSEQ_CHROM</th><th scope=col>NCBI_CHROM</th></tr></thead>\n",
       "<tbody>\n",
       "\t<tr><td>1                     </td><td>chr1                  </td><td>NC_000001.11          </td><td>GCF_000001305.15      </td></tr>\n",
       "\t<tr><td>1                     </td><td>chr1_KI270706v1_random</td><td>NT_187361.1           </td><td>GCF_000001305.15      </td></tr>\n",
       "\t<tr><td>1                     </td><td>chr1_KI270707v1_random</td><td>NT_187362.1           </td><td>GCF_000001305.15      </td></tr>\n",
       "\t<tr><td>1                     </td><td>chr1_KI270708v1_random</td><td>NT_187363.1           </td><td>GCF_000001305.15      </td></tr>\n",
       "\t<tr><td>1                     </td><td>chr1_KI270709v1_random</td><td>NT_187364.1           </td><td>GCF_000001305.15      </td></tr>\n",
       "\t<tr><td>1                     </td><td>chr1_KI270710v1_random</td><td>NT_187365.1           </td><td>GCF_000001305.15      </td></tr>\n",
       "</tbody>\n",
       "</table>\n"
      ],
      "text/latex": [
       "\\begin{tabular}{r|llll}\n",
       " CHROM & UCSC\\_CHROM & REFSEQ\\_CHROM & NCBI\\_CHROM\\\\\n",
       "\\hline\n",
       "\t 1                      & chr1                   & NC\\_000001.11         & GCF\\_000001305.15    \\\\\n",
       "\t 1                          & chr1\\_KI270706v1\\_random & NT\\_187361.1              & GCF\\_000001305.15        \\\\\n",
       "\t 1                          & chr1\\_KI270707v1\\_random & NT\\_187362.1              & GCF\\_000001305.15        \\\\\n",
       "\t 1                          & chr1\\_KI270708v1\\_random & NT\\_187363.1              & GCF\\_000001305.15        \\\\\n",
       "\t 1                          & chr1\\_KI270709v1\\_random & NT\\_187364.1              & GCF\\_000001305.15        \\\\\n",
       "\t 1                          & chr1\\_KI270710v1\\_random & NT\\_187365.1              & GCF\\_000001305.15        \\\\\n",
       "\\end{tabular}\n"
      ],
      "text/markdown": [
       "\n",
       "| CHROM | UCSC_CHROM | REFSEQ_CHROM | NCBI_CHROM |\n",
       "|---|---|---|---|\n",
       "| 1                      | chr1                   | NC_000001.11           | GCF_000001305.15       |\n",
       "| 1                      | chr1_KI270706v1_random | NT_187361.1            | GCF_000001305.15       |\n",
       "| 1                      | chr1_KI270707v1_random | NT_187362.1            | GCF_000001305.15       |\n",
       "| 1                      | chr1_KI270708v1_random | NT_187363.1            | GCF_000001305.15       |\n",
       "| 1                      | chr1_KI270709v1_random | NT_187364.1            | GCF_000001305.15       |\n",
       "| 1                      | chr1_KI270710v1_random | NT_187365.1            | GCF_000001305.15       |\n",
       "\n"
      ],
      "text/plain": [
       "  CHROM UCSC_CHROM             REFSEQ_CHROM NCBI_CHROM      \n",
       "1 1     chr1                   NC_000001.11 GCF_000001305.15\n",
       "2 1     chr1_KI270706v1_random NT_187361.1  GCF_000001305.15\n",
       "3 1     chr1_KI270707v1_random NT_187362.1  GCF_000001305.15\n",
       "4 1     chr1_KI270708v1_random NT_187363.1  GCF_000001305.15\n",
       "5 1     chr1_KI270709v1_random NT_187364.1  GCF_000001305.15\n",
       "6 1     chr1_KI270710v1_random NT_187365.1  GCF_000001305.15"
      ]
     },
     "metadata": {},
     "output_type": "display_data"
    }
   ],
   "source": [
    "head(chromosome_data_1)"
   ]
  },
  {
   "cell_type": "code",
   "execution_count": 7,
   "id": "39c17257",
   "metadata": {},
   "outputs": [],
   "source": [
    "setwd(\"~/smallRNAs/julia/20\")\n",
    "M4<- read.table(\"1_C2_Next_map.bed\", header=FALSE)"
   ]
  },
  {
   "cell_type": "code",
   "execution_count": 8,
   "id": "e3404798",
   "metadata": {},
   "outputs": [
    {
     "data": {
      "text/html": [
       "<table>\n",
       "<thead><tr><th scope=col>V1</th><th scope=col>V2</th><th scope=col>V3</th><th scope=col>V4</th><th scope=col>V5</th><th scope=col>V6</th></tr></thead>\n",
       "<tbody>\n",
       "\t<tr><td>NC_000010.11                           </td><td>  700                                  </td><td>  711                                  </td><td>A00709:419:H3NGNDSX5:2:1462:18340:22545</td><td>0                                      </td><td>+                                      </td></tr>\n",
       "\t<tr><td>NC_000010.11                           </td><td> 9620                                  </td><td> 9630                                  </td><td>A00709:419:H3NGNDSX5:2:2455:31006:36213</td><td>0                                      </td><td>-                                      </td></tr>\n",
       "\t<tr><td>NC_000010.11                           </td><td> 9770                                  </td><td> 9780                                  </td><td>A00709:419:H3NGNDSX5:2:2114:7826:27195 </td><td>0                                      </td><td>+                                      </td></tr>\n",
       "\t<tr><td>NC_000010.11                           </td><td>10785                                  </td><td>10795                                  </td><td>A00709:419:H3NGNDSX5:2:2649:20654:2190 </td><td>0                                      </td><td>-                                      </td></tr>\n",
       "\t<tr><td>NC_000010.11                           </td><td>10790                                  </td><td>10800                                  </td><td>A00709:419:H3NGNDSX5:2:1177:15989:3192 </td><td>0                                      </td><td>-                                      </td></tr>\n",
       "\t<tr><td>NC_000010.11                           </td><td>11023                                  </td><td>11033                                  </td><td>A00709:419:H3NGNDSX5:2:1343:8431:32440 </td><td>0                                      </td><td>+                                      </td></tr>\n",
       "</tbody>\n",
       "</table>\n"
      ],
      "text/latex": [
       "\\begin{tabular}{r|llllll}\n",
       " V1 & V2 & V3 & V4 & V5 & V6\\\\\n",
       "\\hline\n",
       "\t NC\\_000010.11                          &   700                                   &   711                                   & A00709:419:H3NGNDSX5:2:1462:18340:22545 & 0                                       & +                                      \\\\\n",
       "\t NC\\_000010.11                          &  9620                                   &  9630                                   & A00709:419:H3NGNDSX5:2:2455:31006:36213 & 0                                       & -                                      \\\\\n",
       "\t NC\\_000010.11                          &  9770                                   &  9780                                   & A00709:419:H3NGNDSX5:2:2114:7826:27195  & 0                                       & +                                      \\\\\n",
       "\t NC\\_000010.11                          & 10785                                   & 10795                                   & A00709:419:H3NGNDSX5:2:2649:20654:2190  & 0                                       & -                                      \\\\\n",
       "\t NC\\_000010.11                          & 10790                                   & 10800                                   & A00709:419:H3NGNDSX5:2:1177:15989:3192  & 0                                       & -                                      \\\\\n",
       "\t NC\\_000010.11                          & 11023                                   & 11033                                   & A00709:419:H3NGNDSX5:2:1343:8431:32440  & 0                                       & +                                      \\\\\n",
       "\\end{tabular}\n"
      ],
      "text/markdown": [
       "\n",
       "| V1 | V2 | V3 | V4 | V5 | V6 |\n",
       "|---|---|---|---|---|---|\n",
       "| NC_000010.11                            |   700                                   |   711                                   | A00709:419:H3NGNDSX5:2:1462:18340:22545 | 0                                       | +                                       |\n",
       "| NC_000010.11                            |  9620                                   |  9630                                   | A00709:419:H3NGNDSX5:2:2455:31006:36213 | 0                                       | -                                       |\n",
       "| NC_000010.11                            |  9770                                   |  9780                                   | A00709:419:H3NGNDSX5:2:2114:7826:27195  | 0                                       | +                                       |\n",
       "| NC_000010.11                            | 10785                                   | 10795                                   | A00709:419:H3NGNDSX5:2:2649:20654:2190  | 0                                       | -                                       |\n",
       "| NC_000010.11                            | 10790                                   | 10800                                   | A00709:419:H3NGNDSX5:2:1177:15989:3192  | 0                                       | -                                       |\n",
       "| NC_000010.11                            | 11023                                   | 11033                                   | A00709:419:H3NGNDSX5:2:1343:8431:32440  | 0                                       | +                                       |\n",
       "\n"
      ],
      "text/plain": [
       "  V1           V2    V3    V4                                      V5 V6\n",
       "1 NC_000010.11   700   711 A00709:419:H3NGNDSX5:2:1462:18340:22545 0  + \n",
       "2 NC_000010.11  9620  9630 A00709:419:H3NGNDSX5:2:2455:31006:36213 0  - \n",
       "3 NC_000010.11  9770  9780 A00709:419:H3NGNDSX5:2:2114:7826:27195  0  + \n",
       "4 NC_000010.11 10785 10795 A00709:419:H3NGNDSX5:2:2649:20654:2190  0  - \n",
       "5 NC_000010.11 10790 10800 A00709:419:H3NGNDSX5:2:1177:15989:3192  0  - \n",
       "6 NC_000010.11 11023 11033 A00709:419:H3NGNDSX5:2:1343:8431:32440  0  + "
      ]
     },
     "metadata": {},
     "output_type": "display_data"
    }
   ],
   "source": [
    "head(M4)"
   ]
  },
  {
   "cell_type": "code",
   "execution_count": 108,
   "id": "348965d0",
   "metadata": {},
   "outputs": [],
   "source": [
    "setwd(\"~/smallRNAs/julia/20\")\n",
    "Mo3<- read.table(\"1_Mo3_bam.bed\", header=FALSE)"
   ]
  },
  {
   "cell_type": "code",
   "execution_count": 108,
   "id": "053776e8",
   "metadata": {},
   "outputs": [],
   "source": [
    "setwd(\"~/smallRNAs/julia/20\")\n",
    "C2_Neb<- read.table(\"1_C2_Neb_bam.bed\", header=FALSE)"
   ]
  },
  {
   "cell_type": "code",
   "execution_count": 108,
   "id": "a3d3ab0c",
   "metadata": {},
   "outputs": [],
   "source": [
    "setwd(\"~/smallRNAs/julia/20\")\n",
    "C2_Next<- read.table(\"1_C2_Next_bam.bed\", header=FALSE)"
   ]
  },
  {
   "cell_type": "code",
   "execution_count": 108,
   "id": "45ca7133",
   "metadata": {},
   "outputs": [],
   "source": [
    "setwd(\"~/smallRNAs/julia/20\")\n",
    "G2_Neb<- read.table(\"1_G2_Neb_bam.bed\", header=FALSE)"
   ]
  },
  {
   "cell_type": "code",
   "execution_count": 108,
   "id": "7b27e3b0",
   "metadata": {},
   "outputs": [],
   "source": [
    "setwd(\"~/smallRNAs/julia/20\")\n",
    "G2_Next<- read.table(\"1_G2_Next_bam.bed\", header=FALSE)"
   ]
  },
  {
   "cell_type": "code",
   "execution_count": 108,
   "id": "9c9edcc9",
   "metadata": {},
   "outputs": [],
   "source": [
    "setwd(\"~/smallRNAs/julia/20\")\n",
    "C2_Neb_2<- read.table(\"2_C2_Neb_bam.bed\", header=FALSE)"
   ]
  },
  {
   "cell_type": "code",
   "execution_count": 108,
   "id": "ff8775fb",
   "metadata": {},
   "outputs": [],
   "source": [
    "setwd(\"~/smallRNAs/julia/20\")\n",
    "G2_Neb_2<- read.table(\"2_G2_Neb_bam.bed\", header=FALSE)"
   ]
  },
  {
   "cell_type": "code",
   "execution_count": 9,
   "id": "8a9ba1d4",
   "metadata": {},
   "outputs": [],
   "source": [
    "names(M4)[names(M4) == \"V1\"]<- \"REFSEQ_CHROM\"\n",
    "data<- merge(M4, chromosome_data_1, by= \"REFSEQ_CHROM\")"
   ]
  },
  {
   "cell_type": "code",
   "execution_count": 10,
   "id": "e632ed70",
   "metadata": {},
   "outputs": [],
   "source": [
    "data<-data[,c(8,2,3,4)]"
   ]
  },
  {
   "cell_type": "code",
   "execution_count": 160,
   "id": "46aa4660",
   "metadata": {},
   "outputs": [
    {
     "data": {
      "text/html": [
       "<table>\n",
       "<thead><tr><th scope=col>UCSC_CHROM</th><th scope=col>V2</th><th scope=col>V3</th><th scope=col>V4</th></tr></thead>\n",
       "<tbody>\n",
       "\t<tr><td>chr1                                   </td><td> 99051                                 </td><td> 99080                                 </td><td>A00551:501:H33GNDSX5:3:1446:31792:28369</td></tr>\n",
       "\t<tr><td>chr1                                   </td><td>185489                                 </td><td>185515                                 </td><td>A00551:501:H33GNDSX5:3:2207:2835:30890 </td></tr>\n",
       "\t<tr><td>chr1                                   </td><td>275623                                 </td><td>275652                                 </td><td>A00551:501:H33GNDSX5:3:1257:20817:25927</td></tr>\n",
       "\t<tr><td>chr1                                   </td><td>275623                                 </td><td>275652                                 </td><td>A00551:501:H33GNDSX5:3:1629:29423:34162</td></tr>\n",
       "\t<tr><td>chr1                                   </td><td>275623                                 </td><td>275652                                 </td><td>A00551:501:H33GNDSX5:3:2116:11948:36119</td></tr>\n",
       "\t<tr><td>chr1                                   </td><td>629186                                 </td><td>629214                                 </td><td>A00551:501:H33GNDSX5:3:1632:28492:12383</td></tr>\n",
       "</tbody>\n",
       "</table>\n"
      ],
      "text/latex": [
       "\\begin{tabular}{r|llll}\n",
       " UCSC\\_CHROM & V2 & V3 & V4\\\\\n",
       "\\hline\n",
       "\t chr1                                    &  99051                                  &  99080                                  & A00551:501:H33GNDSX5:3:1446:31792:28369\\\\\n",
       "\t chr1                                    & 185489                                  & 185515                                  & A00551:501:H33GNDSX5:3:2207:2835:30890 \\\\\n",
       "\t chr1                                    & 275623                                  & 275652                                  & A00551:501:H33GNDSX5:3:1257:20817:25927\\\\\n",
       "\t chr1                                    & 275623                                  & 275652                                  & A00551:501:H33GNDSX5:3:1629:29423:34162\\\\\n",
       "\t chr1                                    & 275623                                  & 275652                                  & A00551:501:H33GNDSX5:3:2116:11948:36119\\\\\n",
       "\t chr1                                    & 629186                                  & 629214                                  & A00551:501:H33GNDSX5:3:1632:28492:12383\\\\\n",
       "\\end{tabular}\n"
      ],
      "text/markdown": [
       "\n",
       "| UCSC_CHROM | V2 | V3 | V4 |\n",
       "|---|---|---|---|\n",
       "| chr1                                    |  99051                                  |  99080                                  | A00551:501:H33GNDSX5:3:1446:31792:28369 |\n",
       "| chr1                                    | 185489                                  | 185515                                  | A00551:501:H33GNDSX5:3:2207:2835:30890  |\n",
       "| chr1                                    | 275623                                  | 275652                                  | A00551:501:H33GNDSX5:3:1257:20817:25927 |\n",
       "| chr1                                    | 275623                                  | 275652                                  | A00551:501:H33GNDSX5:3:1629:29423:34162 |\n",
       "| chr1                                    | 275623                                  | 275652                                  | A00551:501:H33GNDSX5:3:2116:11948:36119 |\n",
       "| chr1                                    | 629186                                  | 629214                                  | A00551:501:H33GNDSX5:3:1632:28492:12383 |\n",
       "\n"
      ],
      "text/plain": [
       "  UCSC_CHROM V2     V3     V4                                     \n",
       "1 chr1        99051  99080 A00551:501:H33GNDSX5:3:1446:31792:28369\n",
       "2 chr1       185489 185515 A00551:501:H33GNDSX5:3:2207:2835:30890 \n",
       "3 chr1       275623 275652 A00551:501:H33GNDSX5:3:1257:20817:25927\n",
       "4 chr1       275623 275652 A00551:501:H33GNDSX5:3:1629:29423:34162\n",
       "5 chr1       275623 275652 A00551:501:H33GNDSX5:3:2116:11948:36119\n",
       "6 chr1       629186 629214 A00551:501:H33GNDSX5:3:1632:28492:12383"
      ]
     },
     "metadata": {},
     "output_type": "display_data"
    }
   ],
   "source": [
    "head(data)"
   ]
  },
  {
   "cell_type": "code",
   "execution_count": 11,
   "id": "f94419a9",
   "metadata": {},
   "outputs": [],
   "source": [
    "setwd(\"~/smallRNAs/julia/20\")\n",
    "write.table(data, file = \"1_C2_Next_map_chr.bed\", quote=FALSE, sep=\"\\t\", row.names = FALSE, col.names=FALSE)"
   ]
  },
  {
   "cell_type": "code",
   "execution_count": null,
   "id": "c67273a8",
   "metadata": {},
   "outputs": [],
   "source": []
  },
  {
   "cell_type": "code",
   "execution_count": 108,
   "id": "ed5ea76e",
   "metadata": {},
   "outputs": [],
   "source": [
    "setwd(\"~/smallRNAs/julia/30\")\n",
    "M4<- read.table(\"1_M4_bam.bed\", header=FALSE)"
   ]
  },
  {
   "cell_type": "code",
   "execution_count": 108,
   "id": "aae624b6",
   "metadata": {},
   "outputs": [],
   "source": [
    "setwd(\"~/smallRNAs/julia/30\")\n",
    "Mo3<- read.table(\"1_Mo3_bam.bed\", header=FALSE)"
   ]
  },
  {
   "cell_type": "code",
   "execution_count": 108,
   "id": "653fa88f",
   "metadata": {},
   "outputs": [],
   "source": [
    "setwd(\"~/smallRNAs/julia/30\")\n",
    "C2_Neb<- read.table(\"1_C2_Neb_bam.bed\", header=FALSE)"
   ]
  },
  {
   "cell_type": "code",
   "execution_count": 108,
   "id": "c1953da2",
   "metadata": {},
   "outputs": [],
   "source": [
    "setwd(\"~/smallRNAs/julia/30\")\n",
    "C2_Next<- read.table(\"1_C2_Next_bam.bed\", header=FALSE)"
   ]
  },
  {
   "cell_type": "code",
   "execution_count": 108,
   "id": "84df2911",
   "metadata": {},
   "outputs": [],
   "source": [
    "setwd(\"~/smallRNAs/julia/30\")\n",
    "G2_Neb<- read.table(\"1_G2_Neb_bam.bed\", header=FALSE)"
   ]
  },
  {
   "cell_type": "code",
   "execution_count": 108,
   "id": "217d5784",
   "metadata": {},
   "outputs": [],
   "source": [
    "setwd(\"~/smallRNAs/julia/30\")\n",
    "G2_Next<- read.table(\"1_G2_Next_bam.bed\", header=FALSE)"
   ]
  },
  {
   "cell_type": "code",
   "execution_count": 108,
   "id": "2390de4b",
   "metadata": {},
   "outputs": [],
   "source": [
    "setwd(\"~/smallRNAs/julia/30\")\n",
    "C2_Neb_2<- read.table(\"2_C2_Neb_bam.bed\", header=FALSE)"
   ]
  },
  {
   "cell_type": "code",
   "execution_count": 108,
   "id": "d0107619",
   "metadata": {},
   "outputs": [],
   "source": [
    "setwd(\"~/smallRNAs/julia/30\")\n",
    "G2_Neb_2<- read.table(\"2_G2_Neb_bam.bed\", header=FALSE)"
   ]
  },
  {
   "cell_type": "code",
   "execution_count": 113,
   "id": "5cfcf1e3",
   "metadata": {},
   "outputs": [],
   "source": [
    "names(M4)[names(M4) == \"V1\"]<- \"REFSEQ_CHROM\"\n",
    "data<- merge(M4, chromosome_data_1, by= \"REFSEQ_CHROM\")"
   ]
  },
  {
   "cell_type": "code",
   "execution_count": 114,
   "id": "4d3eae46",
   "metadata": {},
   "outputs": [],
   "source": [
    "data<-data[,c(8,2,3,4)]"
   ]
  },
  {
   "cell_type": "code",
   "execution_count": 115,
   "id": "86a1b1fc",
   "metadata": {},
   "outputs": [],
   "source": [
    "setwd(\"~/piRNA/Workspaces/julia/per_size/map/33\")\n",
    "write.table(data, file = \"Hum2_map_all.bed\", quote=FALSE, sep=\"\\t\", row.names = FALSE, col.names=FALSE)"
   ]
  },
  {
   "cell_type": "code",
   "execution_count": null,
   "id": "bcafc6f7",
   "metadata": {},
   "outputs": [],
   "source": []
  },
  {
   "cell_type": "code",
   "execution_count": 108,
   "id": "436c2b33",
   "metadata": {},
   "outputs": [],
   "source": [
    "setwd(\"~/smallRNAs/julia/60\")\n",
    "M4<- read.table(\"1_M4_bam.bed\", header=FALSE)"
   ]
  },
  {
   "cell_type": "code",
   "execution_count": 108,
   "id": "28ee1383",
   "metadata": {},
   "outputs": [],
   "source": [
    "setwd(\"~/smallRNAs/julia/60\")\n",
    "Mo3<- read.table(\"1_Mo3_bam.bed\", header=FALSE)"
   ]
  },
  {
   "cell_type": "code",
   "execution_count": 108,
   "id": "b87bd572",
   "metadata": {},
   "outputs": [],
   "source": [
    "setwd(\"~/smallRNAs/julia/60\")\n",
    "C2_Neb<- read.table(\"1_C2_Neb_bam.bed\", header=FALSE)"
   ]
  },
  {
   "cell_type": "code",
   "execution_count": 108,
   "id": "1113a107",
   "metadata": {},
   "outputs": [],
   "source": [
    "setwd(\"~/smallRNAs/julia/60\")\n",
    "C2_Next<- read.table(\"1_C2_Next_bam.bed\", header=FALSE)"
   ]
  },
  {
   "cell_type": "code",
   "execution_count": 108,
   "id": "a83dd7dd",
   "metadata": {},
   "outputs": [],
   "source": [
    "setwd(\"~/smallRNAs/julia/60\")\n",
    "G2_Neb<- read.table(\"1_G2_Neb_bam.bed\", header=FALSE)"
   ]
  },
  {
   "cell_type": "code",
   "execution_count": 108,
   "id": "9b948762",
   "metadata": {},
   "outputs": [],
   "source": [
    "setwd(\"~/smallRNAs/julia/60\")\n",
    "G2_Next<- read.table(\"1_G2_Next_bam.bed\", header=FALSE)"
   ]
  },
  {
   "cell_type": "code",
   "execution_count": 108,
   "id": "dcab1715",
   "metadata": {},
   "outputs": [],
   "source": [
    "setwd(\"~/smallRNAs/julia/60\")\n",
    "C2_Neb_2<- read.table(\"2_C2_Neb_bam.bed\", header=FALSE)"
   ]
  },
  {
   "cell_type": "code",
   "execution_count": 108,
   "id": "36108d78",
   "metadata": {},
   "outputs": [],
   "source": [
    "setwd(\"~/smallRNAs/julia/60\")\n",
    "G2_Neb_2<- read.table(\"2_G2_Neb_bam.bed\", header=FALSE)"
   ]
  },
  {
   "cell_type": "code",
   "execution_count": 113,
   "id": "7abbc2ff",
   "metadata": {},
   "outputs": [],
   "source": [
    "names(M4)[names(M4) == \"V1\"]<- \"REFSEQ_CHROM\"\n",
    "data<- merge(M4, chromosome_data_1, by= \"REFSEQ_CHROM\")"
   ]
  },
  {
   "cell_type": "code",
   "execution_count": 114,
   "id": "711bc81b",
   "metadata": {},
   "outputs": [],
   "source": [
    "data<-data[,c(8,2,3,4)]"
   ]
  },
  {
   "cell_type": "code",
   "execution_count": 115,
   "id": "9df88e1d",
   "metadata": {},
   "outputs": [],
   "source": [
    "setwd(\"~/piRNA/Workspaces/julia/per_size/map/33\")\n",
    "write.table(data, file = \"Hum2_map_all.bed\", quote=FALSE, sep=\"\\t\", row.names = FALSE, col.names=FALSE)"
   ]
  },
  {
   "cell_type": "code",
   "execution_count": null,
   "id": "791009be",
   "metadata": {},
   "outputs": [],
   "source": []
  },
  {
   "cell_type": "code",
   "execution_count": 108,
   "id": "d237f1a5",
   "metadata": {},
   "outputs": [],
   "source": [
    "setwd(\"~/smallRNAs/julia/160\")\n",
    "M4<- read.table(\"1_M4_bam.bed\", header=FALSE)"
   ]
  },
  {
   "cell_type": "code",
   "execution_count": 108,
   "id": "aefdd8e2",
   "metadata": {},
   "outputs": [],
   "source": [
    "setwd(\"~/smallRNAs/julia/160\")\n",
    "M4_2<- read.table(\"2_M4_bam.bed\", header=FALSE)"
   ]
  },
  {
   "cell_type": "code",
   "execution_count": 108,
   "id": "33bd0525",
   "metadata": {},
   "outputs": [],
   "source": [
    "setwd(\"~/smallRNAs/julia/160\")\n",
    "Mo3<- read.table(\"1_Mo3_bam.bed\", header=FALSE)"
   ]
  },
  {
   "cell_type": "code",
   "execution_count": 108,
   "id": "5044b6a4",
   "metadata": {},
   "outputs": [],
   "source": [
    "setwd(\"~/smallRNAs/julia/160\")\n",
    "Mo3_2<- read.table(\"2_Mo3_bam.bed\", header=FALSE)"
   ]
  },
  {
   "cell_type": "code",
   "execution_count": 108,
   "id": "1621de22",
   "metadata": {},
   "outputs": [],
   "source": [
    "setwd(\"~/smallRNAs/julia/160\")\n",
    "C2_Neb<- read.table(\"1_C2_Neb_bam.bed\", header=FALSE)"
   ]
  },
  {
   "cell_type": "code",
   "execution_count": 108,
   "id": "0dca2ce7",
   "metadata": {},
   "outputs": [],
   "source": [
    "setwd(\"~/smallRNAs/julia/160\")\n",
    "C2_Next<- read.table(\"1_C2_Next_bam.bed\", header=FALSE)"
   ]
  },
  {
   "cell_type": "code",
   "execution_count": 108,
   "id": "746c2321",
   "metadata": {},
   "outputs": [],
   "source": [
    "setwd(\"~/smallRNAs/julia/160\")\n",
    "C2_Next_2<- read.table(\"2_C2_Next_bam.bed\", header=FALSE)"
   ]
  },
  {
   "cell_type": "code",
   "execution_count": 108,
   "id": "7a0fe0db",
   "metadata": {},
   "outputs": [],
   "source": [
    "setwd(\"~/smallRNAs/julia/160\")\n",
    "G2_Neb<- read.table(\"1_G2_Neb_bam.bed\", header=FALSE)"
   ]
  },
  {
   "cell_type": "code",
   "execution_count": 108,
   "id": "8bc869f1",
   "metadata": {},
   "outputs": [],
   "source": [
    "setwd(\"~/smallRNAs/julia/160\")\n",
    "G2_Next<- read.table(\"1_G2_Next_bam.bed\", header=FALSE)"
   ]
  },
  {
   "cell_type": "code",
   "execution_count": 108,
   "id": "f3ea5247",
   "metadata": {},
   "outputs": [],
   "source": [
    "setwd(\"~/smallRNAs/julia/160\")\n",
    "G2_Next_2<- read.table(\"2_G2_Next_bam.bed\", header=FALSE)"
   ]
  },
  {
   "cell_type": "code",
   "execution_count": 108,
   "id": "10d49cd0",
   "metadata": {},
   "outputs": [],
   "source": [
    "setwd(\"~/smallRNAs/julia/160\")\n",
    "C2_Neb_2<- read.table(\"2_C2_Neb_bam.bed\", header=FALSE)"
   ]
  },
  {
   "cell_type": "code",
   "execution_count": 108,
   "id": "6b80b485",
   "metadata": {},
   "outputs": [],
   "source": [
    "setwd(\"~/smallRNAs/julia/160\")\n",
    "G2_Neb_2<- read.table(\"2_G2_Neb_bam.bed\", header=FALSE)"
   ]
  },
  {
   "cell_type": "code",
   "execution_count": 109,
   "id": "7da44b58",
   "metadata": {},
   "outputs": [],
   "source": [
    "names(hum)[names(hum) == \"V1\"]<- \"REFSEQ_CHROM\"\n",
    "data<- merge(hum, chromosome_data_1, by= \"REFSEQ_CHROM\")"
   ]
  },
  {
   "cell_type": "code",
   "execution_count": 27,
   "id": "da1b7a72",
   "metadata": {},
   "outputs": [
    {
     "data": {
      "text/html": [
       "<table>\n",
       "<thead><tr><th scope=col>UCSC_CHROM</th><th scope=col>V2</th><th scope=col>V3</th><th scope=col>V4</th></tr></thead>\n",
       "<tbody>\n",
       "\t<tr><td>chr1                                   </td><td>629507                                 </td><td>629527                                 </td><td>A00253:327:H3N37DRXY:2:2255:10429:12602</td></tr>\n",
       "\t<tr><td>chr1                                   </td><td>629507                                 </td><td>629527                                 </td><td>A00253:327:H3N37DRXY:2:2231:9751:10708 </td></tr>\n",
       "\t<tr><td>chr1                                   </td><td>629507                                 </td><td>629527                                 </td><td>A00253:327:H3N37DRXY:2:2233:16062:17440</td></tr>\n",
       "\t<tr><td>chr1                                   </td><td>629501                                 </td><td>629521                                 </td><td>A00253:327:H3N37DRXY:2:2175:2519:33379 </td></tr>\n",
       "\t<tr><td>chr1                                   </td><td>629501                                 </td><td>629521                                 </td><td>A00253:327:H3N37DRXY:2:2248:29423:31407</td></tr>\n",
       "\t<tr><td>chr1                                   </td><td>629502                                 </td><td>629522                                 </td><td>A00253:327:H3N37DRXY:2:2120:8106:36260 </td></tr>\n",
       "</tbody>\n",
       "</table>\n"
      ],
      "text/latex": [
       "\\begin{tabular}{r|llll}\n",
       " UCSC\\_CHROM & V2 & V3 & V4\\\\\n",
       "\\hline\n",
       "\t chr1                                    & 629507                                  & 629527                                  & A00253:327:H3N37DRXY:2:2255:10429:12602\\\\\n",
       "\t chr1                                    & 629507                                  & 629527                                  & A00253:327:H3N37DRXY:2:2231:9751:10708 \\\\\n",
       "\t chr1                                    & 629507                                  & 629527                                  & A00253:327:H3N37DRXY:2:2233:16062:17440\\\\\n",
       "\t chr1                                    & 629501                                  & 629521                                  & A00253:327:H3N37DRXY:2:2175:2519:33379 \\\\\n",
       "\t chr1                                    & 629501                                  & 629521                                  & A00253:327:H3N37DRXY:2:2248:29423:31407\\\\\n",
       "\t chr1                                    & 629502                                  & 629522                                  & A00253:327:H3N37DRXY:2:2120:8106:36260 \\\\\n",
       "\\end{tabular}\n"
      ],
      "text/markdown": [
       "\n",
       "| UCSC_CHROM | V2 | V3 | V4 |\n",
       "|---|---|---|---|\n",
       "| chr1                                    | 629507                                  | 629527                                  | A00253:327:H3N37DRXY:2:2255:10429:12602 |\n",
       "| chr1                                    | 629507                                  | 629527                                  | A00253:327:H3N37DRXY:2:2231:9751:10708  |\n",
       "| chr1                                    | 629507                                  | 629527                                  | A00253:327:H3N37DRXY:2:2233:16062:17440 |\n",
       "| chr1                                    | 629501                                  | 629521                                  | A00253:327:H3N37DRXY:2:2175:2519:33379  |\n",
       "| chr1                                    | 629501                                  | 629521                                  | A00253:327:H3N37DRXY:2:2248:29423:31407 |\n",
       "| chr1                                    | 629502                                  | 629522                                  | A00253:327:H3N37DRXY:2:2120:8106:36260  |\n",
       "\n"
      ],
      "text/plain": [
       "  UCSC_CHROM V2     V3     V4                                     \n",
       "1 chr1       629507 629527 A00253:327:H3N37DRXY:2:2255:10429:12602\n",
       "2 chr1       629507 629527 A00253:327:H3N37DRXY:2:2231:9751:10708 \n",
       "3 chr1       629507 629527 A00253:327:H3N37DRXY:2:2233:16062:17440\n",
       "4 chr1       629501 629521 A00253:327:H3N37DRXY:2:2175:2519:33379 \n",
       "5 chr1       629501 629521 A00253:327:H3N37DRXY:2:2248:29423:31407\n",
       "6 chr1       629502 629522 A00253:327:H3N37DRXY:2:2120:8106:36260 "
      ]
     },
     "metadata": {},
     "output_type": "display_data"
    }
   ],
   "source": [
    "head(data)"
   ]
  },
  {
   "cell_type": "code",
   "execution_count": 17,
   "id": "4e727293",
   "metadata": {
    "scrolled": true
   },
   "outputs": [],
   "source": [
    "setwd(\"~/smallRNAs/julia/20\")\n",
    "hum<- read.table(\"intersect_1_C2_Next.bed\", header=FALSE, sep=\"\\t\", fill=TRUE)"
   ]
  },
  {
   "cell_type": "code",
   "execution_count": 18,
   "id": "fbd53dcf",
   "metadata": {},
   "outputs": [
    {
     "data": {
      "text/html": [
       "2334561"
      ],
      "text/latex": [
       "2334561"
      ],
      "text/markdown": [
       "2334561"
      ],
      "text/plain": [
       "[1] 2334561"
      ]
     },
     "metadata": {},
     "output_type": "display_data"
    }
   ],
   "source": [
    "nrow(hum)"
   ]
  },
  {
   "cell_type": "code",
   "execution_count": 19,
   "id": "d66c7aeb",
   "metadata": {},
   "outputs": [
    {
     "data": {
      "text/html": [
       "<table>\n",
       "<thead><tr><th scope=col>V1</th><th scope=col>V2</th><th scope=col>V3</th><th scope=col>V4</th></tr></thead>\n",
       "<tbody>\n",
       "\t<tr><td>chr1          </td><td>109400168     </td><td>109400179     </td><td>protein_coding</td></tr>\n",
       "\t<tr><td>chr1          </td><td>109400169     </td><td>109400179     </td><td>protein_coding</td></tr>\n",
       "\t<tr><td>chr1          </td><td>109413922     </td><td>109413934     </td><td>protein_coding</td></tr>\n",
       "\t<tr><td>chr1          </td><td>109421304     </td><td>109421314     </td><td>protein_coding</td></tr>\n",
       "\t<tr><td>chr1          </td><td>109424318     </td><td>109424328     </td><td>protein_coding</td></tr>\n",
       "\t<tr><td>chr1          </td><td>109466590     </td><td>109466603     </td><td>protein_coding</td></tr>\n",
       "</tbody>\n",
       "</table>\n"
      ],
      "text/latex": [
       "\\begin{tabular}{r|llll}\n",
       " V1 & V2 & V3 & V4\\\\\n",
       "\\hline\n",
       "\t chr1             & 109400168        & 109400179        & protein\\_coding\\\\\n",
       "\t chr1             & 109400169        & 109400179        & protein\\_coding\\\\\n",
       "\t chr1             & 109413922        & 109413934        & protein\\_coding\\\\\n",
       "\t chr1             & 109421304        & 109421314        & protein\\_coding\\\\\n",
       "\t chr1             & 109424318        & 109424328        & protein\\_coding\\\\\n",
       "\t chr1             & 109466590        & 109466603        & protein\\_coding\\\\\n",
       "\\end{tabular}\n"
      ],
      "text/markdown": [
       "\n",
       "| V1 | V2 | V3 | V4 |\n",
       "|---|---|---|---|\n",
       "| chr1           | 109400168      | 109400179      | protein_coding |\n",
       "| chr1           | 109400169      | 109400179      | protein_coding |\n",
       "| chr1           | 109413922      | 109413934      | protein_coding |\n",
       "| chr1           | 109421304      | 109421314      | protein_coding |\n",
       "| chr1           | 109424318      | 109424328      | protein_coding |\n",
       "| chr1           | 109466590      | 109466603      | protein_coding |\n",
       "\n"
      ],
      "text/plain": [
       "  V1   V2        V3        V4            \n",
       "1 chr1 109400168 109400179 protein_coding\n",
       "2 chr1 109400169 109400179 protein_coding\n",
       "3 chr1 109413922 109413934 protein_coding\n",
       "4 chr1 109421304 109421314 protein_coding\n",
       "5 chr1 109424318 109424328 protein_coding\n",
       "6 chr1 109466590 109466603 protein_coding"
      ]
     },
     "metadata": {},
     "output_type": "display_data"
    }
   ],
   "source": [
    "head(hum)"
   ]
  },
  {
   "cell_type": "code",
   "execution_count": 20,
   "id": "5c8b875d",
   "metadata": {
    "scrolled": true
   },
   "outputs": [
    {
     "data": {
      "text/plain": [
       "\n",
       "         antisense_RNA              guide_RNA                 lncRNA \n",
       "                   324                     75                 471614 \n",
       "                 miRNA               misc_RNA              precursor \n",
       "                299930                    143                  24979 \n",
       "        protein_coding             pseudogene          RNase_MRP_RNA \n",
       "                918024                   7313                     13 \n",
       "                  rRNA                 snoRNA                  snRNA \n",
       "                413848                   2457                    916 \n",
       "        telomerase_RNA transcribed_pseudogene                   tRNA \n",
       "                    13                  65714                 127539 \n",
       "             V_segment                  Y_RNA \n",
       "                     1                   1658 "
      ]
     },
     "metadata": {},
     "output_type": "display_data"
    }
   ],
   "source": [
    "(table(hum$V4))"
   ]
  },
  {
   "cell_type": "code",
   "execution_count": 21,
   "id": "8c7d3182",
   "metadata": {},
   "outputs": [
    {
     "data": {
      "text/html": [
       "<ol class=list-inline>\n",
       "\t<li>324</li>\n",
       "\t<li>75</li>\n",
       "\t<li>471614</li>\n",
       "\t<li>299930</li>\n",
       "\t<li>143</li>\n",
       "\t<li>24979</li>\n",
       "\t<li>918024</li>\n",
       "\t<li>7313</li>\n",
       "\t<li>13</li>\n",
       "\t<li>413848</li>\n",
       "\t<li>2457</li>\n",
       "\t<li>916</li>\n",
       "\t<li>13</li>\n",
       "\t<li>65714</li>\n",
       "\t<li>127539</li>\n",
       "\t<li>1</li>\n",
       "\t<li>1658</li>\n",
       "</ol>\n"
      ],
      "text/latex": [
       "\\begin{enumerate*}\n",
       "\\item 324\n",
       "\\item 75\n",
       "\\item 471614\n",
       "\\item 299930\n",
       "\\item 143\n",
       "\\item 24979\n",
       "\\item 918024\n",
       "\\item 7313\n",
       "\\item 13\n",
       "\\item 413848\n",
       "\\item 2457\n",
       "\\item 916\n",
       "\\item 13\n",
       "\\item 65714\n",
       "\\item 127539\n",
       "\\item 1\n",
       "\\item 1658\n",
       "\\end{enumerate*}\n"
      ],
      "text/markdown": [
       "1. 324\n",
       "2. 75\n",
       "3. 471614\n",
       "4. 299930\n",
       "5. 143\n",
       "6. 24979\n",
       "7. 918024\n",
       "8. 7313\n",
       "9. 13\n",
       "10. 413848\n",
       "11. 2457\n",
       "12. 916\n",
       "13. 13\n",
       "14. 65714\n",
       "15. 127539\n",
       "16. 1\n",
       "17. 1658\n",
       "\n",
       "\n"
      ],
      "text/plain": [
       " [1]    324     75 471614 299930    143  24979 918024   7313     13 413848\n",
       "[11]   2457    916     13  65714 127539      1   1658"
      ]
     },
     "metadata": {},
     "output_type": "display_data"
    }
   ],
   "source": [
    "as.numeric(table(hum$V4))"
   ]
  },
  {
   "cell_type": "code",
   "execution_count": null,
   "id": "4209aac6",
   "metadata": {},
   "outputs": [],
   "source": []
  },
  {
   "cell_type": "code",
   "execution_count": null,
   "id": "eba7c545",
   "metadata": {},
   "outputs": [],
   "source": []
  }
 ],
 "metadata": {
  "kernelspec": {
   "display_name": "R",
   "language": "R",
   "name": "ir"
  },
  "language_info": {
   "codemirror_mode": "r",
   "file_extension": ".r",
   "mimetype": "text/x-r-source",
   "name": "R",
   "pygments_lexer": "r",
   "version": "3.6.1"
  }
 },
 "nbformat": 4,
 "nbformat_minor": 5
}
