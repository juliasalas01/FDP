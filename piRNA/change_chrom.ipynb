{
 "cells": [
  {
   "cell_type": "code",
   "execution_count": 52,
   "id": "1a535d79",
   "metadata": {},
   "outputs": [],
   "source": [
    "setwd(\"~/piRNA/Workspaces/julia/PrimaryData/ref_data/human\")\n",
    "#chromosome data\n",
    "chromosome_data<- read.table(\"summary_chroms.tsv\", header=TRUE, sep=\"\\t\")"
   ]
  },
  {
   "cell_type": "code",
   "execution_count": 62,
   "id": "ec7f6ba6",
   "metadata": {},
   "outputs": [],
   "source": [
    "setwd(\"~/piRNA/Workspaces/julia/piRNA_reads/mapping_human/Pongo\")"
   ]
  },
  {
   "cell_type": "code",
   "execution_count": 63,
   "id": "4f03fe90",
   "metadata": {},
   "outputs": [],
   "source": [
    "coverage<- read.table(\"Pongo_coverage\", header = FALSE)"
   ]
  },
  {
   "cell_type": "code",
   "execution_count": 64,
   "id": "40e08b73",
   "metadata": {},
   "outputs": [],
   "source": [
    "names(coverage)[names(coverage) == \"V1\"]<- \"REFSEQ_CHROM\"\n",
    "data<- merge(coverage, chromosome_data, by= \"REFSEQ_CHROM\")\n",
    "data$position<- data$V2-1\n",
    "data<- data[,c(5,7,2,3)]\n",
    "options(scipen = 99999)\n",
    "write.table(data, file = \"Pongo_coverage.bed\", quote=FALSE, sep=\"\\t\", row.names = FALSE, col.names=FALSE)"
   ]
  },
  {
   "cell_type": "code",
   "execution_count": null,
   "id": "e6ca46e1",
   "metadata": {},
   "outputs": [],
   "source": []
  },
  {
   "cell_type": "code",
   "execution_count": null,
   "id": "d2b3e643",
   "metadata": {},
   "outputs": [],
   "source": []
  }
 ],
 "metadata": {
  "kernelspec": {
   "display_name": "R",
   "language": "R",
   "name": "ir"
  },
  "language_info": {
   "codemirror_mode": "r",
   "file_extension": ".r",
   "mimetype": "text/x-r-source",
   "name": "R",
   "pygments_lexer": "r",
   "version": "3.6.1"
  }
 },
 "nbformat": 4,
 "nbformat_minor": 5
}
