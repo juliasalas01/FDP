{
 "cells": [
  {
   "cell_type": "code",
   "execution_count": 1,
   "id": "b9bd0f6a",
   "metadata": {},
   "outputs": [
    {
     "name": "stderr",
     "output_type": "stream",
     "text": [
      "\n",
      "Attaching package: ‘dplyr’\n",
      "\n",
      "The following objects are masked from ‘package:stats’:\n",
      "\n",
      "    filter, lag\n",
      "\n",
      "The following objects are masked from ‘package:base’:\n",
      "\n",
      "    intersect, setdiff, setequal, union\n",
      "\n"
     ]
    }
   ],
   "source": [
    "library(\"dplyr\")\n",
    "library(\"ggplot2\")"
   ]
  },
  {
   "cell_type": "code",
   "execution_count": 2,
   "id": "9f034cb4",
   "metadata": {},
   "outputs": [],
   "source": [
    "setwd(\"~/piRNA/Workspaces/julia/piRNA_reads/mapping_species/coverage/Baboon1\")"
   ]
  },
  {
   "cell_type": "code",
   "execution_count": 3,
   "id": "b6e18778",
   "metadata": {},
   "outputs": [],
   "source": [
    "coverage<- read.table(\"Baboon1_coverage\", header = FALSE)"
   ]
  },
  {
   "cell_type": "code",
   "execution_count": 4,
   "id": "8d0734f9",
   "metadata": {},
   "outputs": [
    {
     "data": {
      "text/html": [
       "<table>\n",
       "<thead><tr><th scope=col>V1</th><th scope=col>V2</th><th scope=col>V3</th></tr></thead>\n",
       "<tbody>\n",
       "\t<tr><td>NC_044976.1</td><td>376        </td><td>1          </td></tr>\n",
       "\t<tr><td>NC_044976.1</td><td>377        </td><td>1          </td></tr>\n",
       "\t<tr><td>NC_044976.1</td><td>378        </td><td>1          </td></tr>\n",
       "\t<tr><td>NC_044976.1</td><td>379        </td><td>1          </td></tr>\n",
       "\t<tr><td>NC_044976.1</td><td>380        </td><td>1          </td></tr>\n",
       "\t<tr><td>NC_044976.1</td><td>381        </td><td>1          </td></tr>\n",
       "</tbody>\n",
       "</table>\n"
      ],
      "text/latex": [
       "\\begin{tabular}{r|lll}\n",
       " V1 & V2 & V3\\\\\n",
       "\\hline\n",
       "\t NC\\_044976.1 & 376           & 1            \\\\\n",
       "\t NC\\_044976.1 & 377           & 1            \\\\\n",
       "\t NC\\_044976.1 & 378           & 1            \\\\\n",
       "\t NC\\_044976.1 & 379           & 1            \\\\\n",
       "\t NC\\_044976.1 & 380           & 1            \\\\\n",
       "\t NC\\_044976.1 & 381           & 1            \\\\\n",
       "\\end{tabular}\n"
      ],
      "text/markdown": [
       "\n",
       "| V1 | V2 | V3 |\n",
       "|---|---|---|\n",
       "| NC_044976.1 | 376         | 1           |\n",
       "| NC_044976.1 | 377         | 1           |\n",
       "| NC_044976.1 | 378         | 1           |\n",
       "| NC_044976.1 | 379         | 1           |\n",
       "| NC_044976.1 | 380         | 1           |\n",
       "| NC_044976.1 | 381         | 1           |\n",
       "\n"
      ],
      "text/plain": [
       "  V1          V2  V3\n",
       "1 NC_044976.1 376 1 \n",
       "2 NC_044976.1 377 1 \n",
       "3 NC_044976.1 378 1 \n",
       "4 NC_044976.1 379 1 \n",
       "5 NC_044976.1 380 1 \n",
       "6 NC_044976.1 381 1 "
      ]
     },
     "metadata": {},
     "output_type": "display_data"
    }
   ],
   "source": [
    "head(coverage)"
   ]
  },
  {
   "cell_type": "code",
   "execution_count": 5,
   "id": "130a3913",
   "metadata": {},
   "outputs": [
    {
     "data": {
      "image/png": "[encoded data removed]",
      "text/plain": [
       "plot without title"
      ]
     },
     "metadata": {},
     "output_type": "display_data"
    }
   ],
   "source": [
    "ggplot(coverage, aes(V2, V3)) +\n",
    "  geom_line(color=\"dark green\") +\n",
    "  theme_minimal()+\n",
    "  ggtitle(\"Coverage Baboon1\") +\n",
    "    labs(x=\"Position\", y=\"Coverage\")"
   ]
  },
  {
   "cell_type": "code",
   "execution_count": 6,
   "id": "aa8e911d",
   "metadata": {},
   "outputs": [],
   "source": [
    "setwd(\"~/piRNA/Workspaces/julia/piRNA_reads/mapping_species/coverage/Baboon2\")\n",
    "coverage<- read.table(\"Baboon2_coverage\", header = FALSE)"
   ]
  },
  {
   "cell_type": "code",
   "execution_count": null,
   "id": "6d3a5d85",
   "metadata": {},
   "outputs": [],
   "source": [
    "ggplot(coverage, aes(V2, V3)) +\n",
    "  geom_line(color=\"dark green\") +\n",
    "  theme_minimal()+\n",
    "  ggtitle(\"Coverage Baboon2\") +\n",
    "    labs(x=\"Position\", y=\"Coverage\")"
   ]
  },
  {
   "cell_type": "code",
   "execution_count": null,
   "id": "c485f270",
   "metadata": {},
   "outputs": [],
   "source": [
    "setwd(\"~/piRNA/Workspaces/julia/piRNA_reads/mapping_species/coverage/Bonobo\")\n",
    "coverage<- read.table(\"Bonobo_coverage\", header = FALSE)"
   ]
  },
  {
   "cell_type": "code",
   "execution_count": null,
   "id": "ff2f8c1c",
   "metadata": {},
   "outputs": [],
   "source": [
    "ggplot(coverage, aes(V2, V3)) +\n",
    "  geom_line(color=\"dark green\") +\n",
    "  theme_minimal()+\n",
    "  ggtitle(\"Coverage Bonobo\") +\n",
    "    labs(x=\"Position\", y=\"Coverage\")"
   ]
  },
  {
   "cell_type": "code",
   "execution_count": null,
   "id": "1a44209d",
   "metadata": {},
   "outputs": [],
   "source": [
    "setwd(\"~/piRNA/Workspaces/julia/piRNA_reads/mapping_species/coverage/Carl\")\n",
    "coverage<- read.table(\"Carl_coverage\", header = FALSE)"
   ]
  },
  {
   "cell_type": "code",
   "execution_count": null,
   "id": "bfeb7a29",
   "metadata": {},
   "outputs": [],
   "source": [
    "ggplot(coverage, aes(V2, V3)) +\n",
    "  geom_line(color=\"dark green\") +\n",
    "  theme_minimal()+\n",
    "  ggtitle(\"Coverage Carl\") +\n",
    "    labs(x=\"Position\", y=\"Coverage\")"
   ]
  },
  {
   "cell_type": "code",
   "execution_count": null,
   "id": "b2471ac3",
   "metadata": {},
   "outputs": [],
   "source": [
    "setwd(\"~/piRNA/Workspaces/julia/piRNA_reads/mapping_species/coverage/Chimp1\")\n",
    "coverage<- read.table(\"Chimp1_coverage\", header = FALSE)"
   ]
  },
  {
   "cell_type": "code",
   "execution_count": null,
   "id": "dba4136b",
   "metadata": {},
   "outputs": [],
   "source": [
    "ggplot(coverage, aes(V2, V3)) +\n",
    "  geom_line(color=\"dark green\") +\n",
    "  theme_minimal()+\n",
    "  ggtitle(\"Coverage Chimp1\") +\n",
    "    labs(x=\"Position\", y=\"Coverage\")"
   ]
  },
  {
   "cell_type": "code",
   "execution_count": null,
   "id": "ec31d215",
   "metadata": {},
   "outputs": [],
   "source": [
    "setwd(\"~/piRNA/Workspaces/julia/piRNA_reads/mapping_species/coverage/Chimp2\")\n",
    "coverage<- read.table(\"Chimp2_coverage\", header = FALSE)"
   ]
  },
  {
   "cell_type": "code",
   "execution_count": null,
   "id": "f521b0a4",
   "metadata": {},
   "outputs": [],
   "source": [
    "ggplot(coverage, aes(V2, V3)) +\n",
    "  geom_line(color=\"dark green\") +\n",
    "  theme_minimal()+\n",
    "  ggtitle(\"Coverage Chimp2\") +\n",
    "    labs(x=\"Position\", y=\"Coverage\")"
   ]
  },
  {
   "cell_type": "code",
   "execution_count": null,
   "id": "19ed7942",
   "metadata": {},
   "outputs": [],
   "source": [
    "setwd(\"~/piRNA/Workspaces/julia/piRNA_reads/mapping_species/coverage/Hum1\")\n",
    "coverage<- read.table(\"Hum1_coverage\", header = FALSE)"
   ]
  },
  {
   "cell_type": "code",
   "execution_count": null,
   "id": "82590b4a",
   "metadata": {},
   "outputs": [],
   "source": [
    "ggplot(coverage, aes(V2, V3)) +\n",
    "  geom_line(color=\"dark green\") +\n",
    "  theme_minimal()+\n",
    "  ggtitle(\"Coverage Hum1\") +\n",
    "    labs(x=\"Position\", y=\"Coverage\")"
   ]
  },
  {
   "cell_type": "code",
   "execution_count": null,
   "id": "f72fd354",
   "metadata": {},
   "outputs": [],
   "source": [
    "setwd(\"~/piRNA/Workspaces/julia/piRNA_reads/mapping_species/coverage/Hum2\")\n",
    "coverage<- read.table(\"Hum2_coverage\", header = FALSE)"
   ]
  },
  {
   "cell_type": "code",
   "execution_count": null,
   "id": "754c3591",
   "metadata": {},
   "outputs": [],
   "source": [
    "ggplot(coverage, aes(V2, V3)) +\n",
    "  geom_line(color=\"dark green\") +\n",
    "  theme_minimal()+\n",
    "  ggtitle(\"Coverage Hum2\") +\n",
    "    labs(x=\"Position\", y=\"Coverage\")"
   ]
  },
  {
   "cell_type": "code",
   "execution_count": null,
   "id": "5f63f207",
   "metadata": {},
   "outputs": [],
   "source": [
    "setwd(\"~/piRNA/Workspaces/julia/piRNA_reads/mapping_species/coverage/Gibbon\")\n",
    "coverage<- read.table(\"Gibbon_coverage\", header = FALSE)"
   ]
  },
  {
   "cell_type": "code",
   "execution_count": null,
   "id": "22a092fc",
   "metadata": {},
   "outputs": [],
   "source": [
    "ggplot(coverage, aes(V2, V3)) +\n",
    "  geom_line(color=\"dark green\") +\n",
    "  theme_minimal()+\n",
    "  ggtitle(\"Coverage Gibbon\") +\n",
    "    labs(x=\"Position\", y=\"Coverage\")"
   ]
  },
  {
   "cell_type": "code",
   "execution_count": null,
   "id": "500dafff",
   "metadata": {},
   "outputs": [],
   "source": [
    "setwd(\"~/piRNA/Workspaces/julia/piRNA_reads/mapping_species/coverage/Martin\")\n",
    "coverage<- read.table(\"Martin_coverage\", header = FALSE)"
   ]
  },
  {
   "cell_type": "code",
   "execution_count": null,
   "id": "0b681763",
   "metadata": {},
   "outputs": [],
   "source": [
    "ggplot(coverage, aes(V2, V3)) +\n",
    "  geom_line(color=\"dark green\") +\n",
    "  theme_minimal()+\n",
    "  ggtitle(\"Coverage Martin\") +\n",
    "    labs(x=\"Position\", y=\"Coverage\")"
   ]
  },
  {
   "cell_type": "code",
   "execution_count": null,
   "id": "0a05a528",
   "metadata": {},
   "outputs": [],
   "source": [
    "setwd(\"~/piRNA/Workspaces/julia/piRNA_reads/mapping_species/coverage/Kat34\")\n",
    "coverage<- read.table(\"Kat34_coverage\", header = FALSE)"
   ]
  },
  {
   "cell_type": "code",
   "execution_count": null,
   "id": "0aba2a04",
   "metadata": {},
   "outputs": [],
   "source": [
    "ggplot(coverage, aes(V2, V3)) +\n",
    "  geom_line(color=\"dark green\") +\n",
    "  theme_minimal()+\n",
    "  ggtitle(\"Coverage Kat34\") +\n",
    "    labs(x=\"Position\", y=\"Coverage\")"
   ]
  },
  {
   "cell_type": "code",
   "execution_count": null,
   "id": "9e3c66aa",
   "metadata": {},
   "outputs": [],
   "source": [
    "setwd(\"~/piRNA/Workspaces/julia/piRNA_reads/mapping_species/coverage/Kat35\")\n",
    "coverage<- read.table(\"Kat35_coverage\", header = FALSE)"
   ]
  },
  {
   "cell_type": "code",
   "execution_count": null,
   "id": "5dd208c3",
   "metadata": {},
   "outputs": [],
   "source": [
    "ggplot(coverage, aes(V2, V3)) +\n",
    "  geom_line(color=\"dark green\") +\n",
    "  theme_minimal()+\n",
    "  ggtitle(\"Coverage Kat35\") +\n",
    "    labs(x=\"Position\", y=\"Coverage\")"
   ]
  },
  {
   "cell_type": "code",
   "execution_count": null,
   "id": "bc05b44f",
   "metadata": {},
   "outputs": [],
   "source": [
    "setwd(\"~/piRNA/Workspaces/julia/piRNA_reads/mapping_species/coverage/Makak\")\n",
    "coverage<- read.table(\"Makak_coverage\", header = FALSE)"
   ]
  },
  {
   "cell_type": "code",
   "execution_count": null,
   "id": "23c2ceac",
   "metadata": {},
   "outputs": [],
   "source": [
    "ggplot(coverage, aes(V2, V3)) +\n",
    "  geom_line(color=\"dark green\") +\n",
    "  theme_minimal()+\n",
    "  ggtitle(\"Coverage Kat36\") +\n",
    "    labs(x=\"Position\", y=\"Coverage\")"
   ]
  },
  {
   "cell_type": "code",
   "execution_count": null,
   "id": "04e6eff7",
   "metadata": {},
   "outputs": [],
   "source": [
    "setwd(\"~/piRNA/Workspaces/julia/piRNA_reads/mapping_species/coverage/Pongo\")\n",
    "coverage<- read.table(\"Pongo_coverage\", header = FALSE)"
   ]
  },
  {
   "cell_type": "code",
   "execution_count": null,
   "id": "01334b61",
   "metadata": {},
   "outputs": [],
   "source": [
    "ggplot(coverage, aes(V2, V3)) +\n",
    "  geom_line(color=\"dark green\") +\n",
    "  theme_minimal()+\n",
    "  ggtitle(\"Coverage Pongo\") +\n",
    "    labs(x=\"Position\", y=\"Coverage\")"
   ]
  },
  {
   "cell_type": "code",
   "execution_count": null,
   "id": "70760cf3",
   "metadata": {},
   "outputs": [],
   "source": [
    "setwd(\"~/piRNA/Workspaces/julia/piRNA_reads/mapping_species/coverage/Orang1\")\n",
    "coverage<- read.table(\"Orang1_coverage\", header = FALSE)"
   ]
  },
  {
   "cell_type": "code",
   "execution_count": null,
   "id": "9b0fa45a",
   "metadata": {},
   "outputs": [],
   "source": [
    "ggplot(coverage, aes(V2, V3)) +\n",
    "  geom_line(color=\"dark green\") +\n",
    "  theme_minimal()+\n",
    "  ggtitle(\"Coverage Orang1\") +\n",
    "    labs(x=\"Position\", y=\"Coverage\")"
   ]
  },
  {
   "cell_type": "code",
   "execution_count": null,
   "id": "4fb9cc8d",
   "metadata": {},
   "outputs": [],
   "source": [
    "setwd(\"~/piRNA/Workspaces/julia/piRNA_reads/mapping_species/coverage/MBewe\")\n",
    "coverage<- read.table(\"MBewe_coverage\", header = FALSE)"
   ]
  },
  {
   "cell_type": "code",
   "execution_count": null,
   "id": "dc09c058",
   "metadata": {},
   "outputs": [],
   "source": [
    "ggplot(coverage, aes(V2, V3)) +\n",
    "  geom_line(color=\"dark green\") +\n",
    "  theme_minimal()+\n",
    "  ggtitle(\"Coverage MBewe\") +\n",
    "    labs(x=\"Position\", y=\"Coverage\")"
   ]
  },
  {
   "cell_type": "code",
   "execution_count": null,
   "id": "41a0fa22",
   "metadata": {},
   "outputs": [],
   "source": [
    "setwd(\"~/piRNA/Workspaces/julia/piRNA_reads/mapping_species/coverage/Sqa\")\n",
    "coverage<- read.table(\"Hum2_coverage\", header = FALSE)"
   ]
  },
  {
   "cell_type": "code",
   "execution_count": null,
   "id": "09280389",
   "metadata": {},
   "outputs": [],
   "source": [
    "ggplot(coverage, aes(V2, V3)) +\n",
    "  geom_line(color=\"dark green\") +\n",
    "  theme_minimal()+\n",
    "  ggtitle(\"Coverage Hum2\") +\n",
    "    labs(x=\"Position\", y=\"Coverage\")"
   ]
  },
  {
   "cell_type": "code",
   "execution_count": null,
   "id": "31f41f69",
   "metadata": {},
   "outputs": [],
   "source": [
    "ggplot(coverage, aes(V2, V3)) +\n",
    "  geom_line(color=\"dark green\") +\n",
    "  theme_minimal()+\n",
    "  ggtitle(\"Coverage Chimp1\") +\n",
    "    labs(x=\"Position\", y=\"Coverage\")"
   ]
  }
 ],
 "metadata": {
  "kernelspec": {
   "display_name": "R",
   "language": "R",
   "name": "ir"
  },
  "language_info": {
   "codemirror_mode": "r",
   "file_extension": ".r",
   "mimetype": "text/x-r-source",
   "name": "R",
   "pygments_lexer": "r",
   "version": "3.6.1"
  }
 },
 "nbformat": 4,
 "nbformat_minor": 5
}
