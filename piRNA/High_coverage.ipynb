{
 "cells": [
  {
   "cell_type": "code",
   "execution_count": 2,
   "id": "c8f1b16b",
   "metadata": {},
   "outputs": [
    {
     "name": "stderr",
     "output_type": "stream",
     "text": [
      "\n",
      "Attaching package: ‘dplyr’\n",
      "\n",
      "The following objects are masked from ‘package:stats’:\n",
      "\n",
      "    filter, lag\n",
      "\n",
      "The following objects are masked from ‘package:base’:\n",
      "\n",
      "    intersect, setdiff, setequal, union\n",
      "\n"
     ]
    }
   ],
   "source": [
    "library(ggplot2)\n",
    "library(dplyr)"
   ]
  },
  {
   "cell_type": "code",
   "execution_count": 3,
   "id": "fa7d28f9",
   "metadata": {},
   "outputs": [],
   "source": [
    "setwd(\"~/piRNA/Workspaces/julia/piRNA_reads/mapping_species/coverage/Hum1\")\n",
    "coverage<- read.table(\"Hum1_coverage.bed\", header=FALSE)"
   ]
  },
  {
   "cell_type": "code",
   "execution_count": 4,
   "id": "f4b8d3ef",
   "metadata": {
    "scrolled": true
   },
   "outputs": [
    {
     "data": {
      "text/html": [
       "<table>\n",
       "<thead><tr><th scope=col>V1</th><th scope=col>V2</th><th scope=col>V3</th><th scope=col>V4</th></tr></thead>\n",
       "<tbody>\n",
       "\t<tr><td>chr1 </td><td>12536</td><td>12537</td><td>1    </td></tr>\n",
       "\t<tr><td>chr1 </td><td>12537</td><td>12538</td><td>1    </td></tr>\n",
       "\t<tr><td>chr1 </td><td>12538</td><td>12539</td><td>1    </td></tr>\n",
       "\t<tr><td>chr1 </td><td>12539</td><td>12540</td><td>1    </td></tr>\n",
       "\t<tr><td>chr1 </td><td>12540</td><td>12541</td><td>1    </td></tr>\n",
       "\t<tr><td>chr1 </td><td>12541</td><td>12542</td><td>1    </td></tr>\n",
       "</tbody>\n",
       "</table>\n"
      ],
      "text/latex": [
       "\\begin{tabular}{r|llll}\n",
       " V1 & V2 & V3 & V4\\\\\n",
       "\\hline\n",
       "\t chr1  & 12536 & 12537 & 1    \\\\\n",
       "\t chr1  & 12537 & 12538 & 1    \\\\\n",
       "\t chr1  & 12538 & 12539 & 1    \\\\\n",
       "\t chr1  & 12539 & 12540 & 1    \\\\\n",
       "\t chr1  & 12540 & 12541 & 1    \\\\\n",
       "\t chr1  & 12541 & 12542 & 1    \\\\\n",
       "\\end{tabular}\n"
      ],
      "text/markdown": [
       "\n",
       "| V1 | V2 | V3 | V4 |\n",
       "|---|---|---|---|\n",
       "| chr1  | 12536 | 12537 | 1     |\n",
       "| chr1  | 12537 | 12538 | 1     |\n",
       "| chr1  | 12538 | 12539 | 1     |\n",
       "| chr1  | 12539 | 12540 | 1     |\n",
       "| chr1  | 12540 | 12541 | 1     |\n",
       "| chr1  | 12541 | 12542 | 1     |\n",
       "\n"
      ],
      "text/plain": [
       "  V1   V2    V3    V4\n",
       "1 chr1 12536 12537 1 \n",
       "2 chr1 12537 12538 1 \n",
       "3 chr1 12538 12539 1 \n",
       "4 chr1 12539 12540 1 \n",
       "5 chr1 12540 12541 1 \n",
       "6 chr1 12541 12542 1 "
      ]
     },
     "metadata": {},
     "output_type": "display_data"
    }
   ],
   "source": [
    "head(coverage)"
   ]
  },
  {
   "cell_type": "code",
   "execution_count": 5,
   "id": "a9591df7",
   "metadata": {},
   "outputs": [],
   "source": [
    "high_coverage<- coverage %>% filter(V4 > 50)"
   ]
  },
  {
   "cell_type": "code",
   "execution_count": 6,
   "id": "ea074652",
   "metadata": {},
   "outputs": [],
   "source": [
    "write.table(high_coverage, file = \"Hum1_high_coverage.bed\", quote=FALSE, sep=\"\\t\", row.names = FALSE, col.names=FALSE)"
   ]
  },
  {
   "cell_type": "code",
   "execution_count": null,
   "id": "f98af163",
   "metadata": {},
   "outputs": [],
   "source": []
  },
  {
   "cell_type": "code",
   "execution_count": 26,
   "id": "c6806f1c",
   "metadata": {},
   "outputs": [],
   "source": [
    "setwd(\"~/piRNA/Workspaces/julia/piRNA_reads/mapping_human/Baboon2\")\n",
    "coverage<- read.table(\"Baboon2_coverage\", header=FALSE)"
   ]
  },
  {
   "cell_type": "code",
   "execution_count": 27,
   "id": "6c88216b",
   "metadata": {},
   "outputs": [],
   "source": [
    "setwd(\"~/piRNA/Workspaces/julia/PrimaryData/ref_data/human\")\n",
    "#chromosome data\n",
    "chromosome_data_1<- read.table(\"summary_chroms.tsv\", header=TRUE)"
   ]
  },
  {
   "cell_type": "code",
   "execution_count": 28,
   "id": "3f14602c",
   "metadata": {},
   "outputs": [],
   "source": [
    "names(coverage)[names(coverage) == \"V1\"]<- \"REFSEQ_CHROM\"\n",
    "data<- merge(coverage, chromosome_data_1, by= \"REFSEQ_CHROM\")"
   ]
  },
  {
   "cell_type": "code",
   "execution_count": 32,
   "id": "d9e34d42",
   "metadata": {
    "scrolled": false
   },
   "outputs": [
    {
     "data": {
      "text/html": [
       "<table>\n",
       "<thead><tr><th scope=col>UCSC_CHROM</th><th scope=col>position</th><th scope=col>V2</th><th scope=col>V3</th></tr></thead>\n",
       "<tbody>\n",
       "\t<tr><td>chr1 </td><td>13550</td><td>13551</td><td>1    </td></tr>\n",
       "\t<tr><td>chr1 </td><td>13551</td><td>13552</td><td>1    </td></tr>\n",
       "\t<tr><td>chr1 </td><td>13552</td><td>13553</td><td>1    </td></tr>\n",
       "\t<tr><td>chr1 </td><td>13553</td><td>13554</td><td>1    </td></tr>\n",
       "\t<tr><td>chr1 </td><td>13554</td><td>13555</td><td>1    </td></tr>\n",
       "\t<tr><td>chr1 </td><td>13555</td><td>13556</td><td>1    </td></tr>\n",
       "</tbody>\n",
       "</table>\n"
      ],
      "text/latex": [
       "\\begin{tabular}{r|llll}\n",
       " UCSC\\_CHROM & position & V2 & V3\\\\\n",
       "\\hline\n",
       "\t chr1  & 13550 & 13551 & 1    \\\\\n",
       "\t chr1  & 13551 & 13552 & 1    \\\\\n",
       "\t chr1  & 13552 & 13553 & 1    \\\\\n",
       "\t chr1  & 13553 & 13554 & 1    \\\\\n",
       "\t chr1  & 13554 & 13555 & 1    \\\\\n",
       "\t chr1  & 13555 & 13556 & 1    \\\\\n",
       "\\end{tabular}\n"
      ],
      "text/markdown": [
       "\n",
       "| UCSC_CHROM | position | V2 | V3 |\n",
       "|---|---|---|---|\n",
       "| chr1  | 13550 | 13551 | 1     |\n",
       "| chr1  | 13551 | 13552 | 1     |\n",
       "| chr1  | 13552 | 13553 | 1     |\n",
       "| chr1  | 13553 | 13554 | 1     |\n",
       "| chr1  | 13554 | 13555 | 1     |\n",
       "| chr1  | 13555 | 13556 | 1     |\n",
       "\n"
      ],
      "text/plain": [
       "  UCSC_CHROM position V2    V3\n",
       "1 chr1       13550    13551 1 \n",
       "2 chr1       13551    13552 1 \n",
       "3 chr1       13552    13553 1 \n",
       "4 chr1       13553    13554 1 \n",
       "5 chr1       13554    13555 1 \n",
       "6 chr1       13555    13556 1 "
      ]
     },
     "metadata": {},
     "output_type": "display_data"
    }
   ],
   "source": [
    "head(data)"
   ]
  },
  {
   "cell_type": "code",
   "execution_count": 30,
   "id": "003be5f9",
   "metadata": {},
   "outputs": [],
   "source": [
    "data$position<- data$V2-1 "
   ]
  },
  {
   "cell_type": "code",
   "execution_count": 31,
   "id": "e7d1c1bd",
   "metadata": {},
   "outputs": [],
   "source": [
    "data<- data[,c(5,7,2,3)]"
   ]
  },
  {
   "cell_type": "code",
   "execution_count": 33,
   "id": "06fdb3cd",
   "metadata": {},
   "outputs": [],
   "source": [
    "high_coverage<- coverage %>% filter(V3 > 50)"
   ]
  },
  {
   "cell_type": "code",
   "execution_count": 34,
   "id": "3a7dc7f8",
   "metadata": {},
   "outputs": [],
   "source": [
    "write.table(high_coverage, file = \"Baboon2_high_coverage.bed\", quote=FALSE, sep=\"\\t\", row.names = FALSE, col.names=FALSE)"
   ]
  },
  {
   "cell_type": "code",
   "execution_count": null,
   "id": "57d8d80f",
   "metadata": {},
   "outputs": [],
   "source": []
  },
  {
   "cell_type": "code",
   "execution_count": 35,
   "id": "80671275",
   "metadata": {},
   "outputs": [],
   "source": [
    "setwd(\"~/piRNA/Workspaces/julia/piRNA_reads/mapping_human/Bonobo\")\n",
    "coverage<- read.table(\"Bonobo_coverage\", header=FALSE)"
   ]
  },
  {
   "cell_type": "code",
   "execution_count": 36,
   "id": "eee7d603",
   "metadata": {},
   "outputs": [],
   "source": [
    "setwd(\"~/piRNA/Workspaces/julia/PrimaryData/ref_data/human\")\n",
    "#chromosome data\n",
    "chromosome_data_1<- read.table(\"summary_chroms.tsv\", header=TRUE)"
   ]
  },
  {
   "cell_type": "code",
   "execution_count": 37,
   "id": "98fef9a7",
   "metadata": {},
   "outputs": [],
   "source": [
    "names(coverage)[names(coverage) == \"V1\"]<- \"REFSEQ_CHROM\"\n",
    "data<- merge(coverage, chromosome_data_1, by= \"REFSEQ_CHROM\")"
   ]
  },
  {
   "cell_type": "code",
   "execution_count": 38,
   "id": "1cec8125",
   "metadata": {
    "scrolled": false
   },
   "outputs": [
    {
     "data": {
      "text/html": [
       "<table>\n",
       "<thead><tr><th scope=col>REFSEQ_CHROM</th><th scope=col>V2</th><th scope=col>V3</th><th scope=col>CHROM</th><th scope=col>UCSC_CHROM</th><th scope=col>NCBI_CHROM</th></tr></thead>\n",
       "<tbody>\n",
       "\t<tr><td>NC_000001.11    </td><td>12298           </td><td>1               </td><td>1               </td><td>chr1            </td><td>GCF_000001305.15</td></tr>\n",
       "\t<tr><td>NC_000001.11    </td><td>12299           </td><td>1               </td><td>1               </td><td>chr1            </td><td>GCF_000001305.15</td></tr>\n",
       "\t<tr><td>NC_000001.11    </td><td>12300           </td><td>1               </td><td>1               </td><td>chr1            </td><td>GCF_000001305.15</td></tr>\n",
       "\t<tr><td>NC_000001.11    </td><td>12301           </td><td>1               </td><td>1               </td><td>chr1            </td><td>GCF_000001305.15</td></tr>\n",
       "\t<tr><td>NC_000001.11    </td><td>12302           </td><td>1               </td><td>1               </td><td>chr1            </td><td>GCF_000001305.15</td></tr>\n",
       "\t<tr><td>NC_000001.11    </td><td>12303           </td><td>1               </td><td>1               </td><td>chr1            </td><td>GCF_000001305.15</td></tr>\n",
       "</tbody>\n",
       "</table>\n"
      ],
      "text/latex": [
       "\\begin{tabular}{r|llllll}\n",
       " REFSEQ\\_CHROM & V2 & V3 & CHROM & UCSC\\_CHROM & NCBI\\_CHROM\\\\\n",
       "\\hline\n",
       "\t NC\\_000001.11     & 12298              & 1                  & 1                  & chr1               & GCF\\_000001305.15\\\\\n",
       "\t NC\\_000001.11     & 12299              & 1                  & 1                  & chr1               & GCF\\_000001305.15\\\\\n",
       "\t NC\\_000001.11     & 12300              & 1                  & 1                  & chr1               & GCF\\_000001305.15\\\\\n",
       "\t NC\\_000001.11     & 12301              & 1                  & 1                  & chr1               & GCF\\_000001305.15\\\\\n",
       "\t NC\\_000001.11     & 12302              & 1                  & 1                  & chr1               & GCF\\_000001305.15\\\\\n",
       "\t NC\\_000001.11     & 12303              & 1                  & 1                  & chr1               & GCF\\_000001305.15\\\\\n",
       "\\end{tabular}\n"
      ],
      "text/markdown": [
       "\n",
       "| REFSEQ_CHROM | V2 | V3 | CHROM | UCSC_CHROM | NCBI_CHROM |\n",
       "|---|---|---|---|---|---|\n",
       "| NC_000001.11     | 12298            | 1                | 1                | chr1             | GCF_000001305.15 |\n",
       "| NC_000001.11     | 12299            | 1                | 1                | chr1             | GCF_000001305.15 |\n",
       "| NC_000001.11     | 12300            | 1                | 1                | chr1             | GCF_000001305.15 |\n",
       "| NC_000001.11     | 12301            | 1                | 1                | chr1             | GCF_000001305.15 |\n",
       "| NC_000001.11     | 12302            | 1                | 1                | chr1             | GCF_000001305.15 |\n",
       "| NC_000001.11     | 12303            | 1                | 1                | chr1             | GCF_000001305.15 |\n",
       "\n"
      ],
      "text/plain": [
       "  REFSEQ_CHROM V2    V3 CHROM UCSC_CHROM NCBI_CHROM      \n",
       "1 NC_000001.11 12298 1  1     chr1       GCF_000001305.15\n",
       "2 NC_000001.11 12299 1  1     chr1       GCF_000001305.15\n",
       "3 NC_000001.11 12300 1  1     chr1       GCF_000001305.15\n",
       "4 NC_000001.11 12301 1  1     chr1       GCF_000001305.15\n",
       "5 NC_000001.11 12302 1  1     chr1       GCF_000001305.15\n",
       "6 NC_000001.11 12303 1  1     chr1       GCF_000001305.15"
      ]
     },
     "metadata": {},
     "output_type": "display_data"
    }
   ],
   "source": [
    "head(data)"
   ]
  },
  {
   "cell_type": "code",
   "execution_count": 39,
   "id": "7bca9b01",
   "metadata": {},
   "outputs": [],
   "source": [
    "data$position<- data$V2-1 "
   ]
  },
  {
   "cell_type": "code",
   "execution_count": 40,
   "id": "1a54b686",
   "metadata": {},
   "outputs": [],
   "source": [
    "data<- data[,c(5,7,2,3)]"
   ]
  },
  {
   "cell_type": "code",
   "execution_count": 41,
   "id": "4f44e165",
   "metadata": {},
   "outputs": [],
   "source": [
    "high_coverage<- coverage %>% filter(V3 > 50)"
   ]
  },
  {
   "cell_type": "code",
   "execution_count": 42,
   "id": "8a8d177f",
   "metadata": {},
   "outputs": [],
   "source": [
    "write.table(high_coverage, file = \"Bonobo_high_coverage.bed\", quote=FALSE, sep=\"\\t\", row.names = FALSE, col.names=FALSE)"
   ]
  },
  {
   "cell_type": "code",
   "execution_count": null,
   "id": "d58f8ba9",
   "metadata": {},
   "outputs": [],
   "source": []
  },
  {
   "cell_type": "code",
   "execution_count": 43,
   "id": "6270bf37",
   "metadata": {},
   "outputs": [],
   "source": [
    "setwd(\"~/piRNA/Workspaces/julia/piRNA_reads/mapping_human/Carl\")\n",
    "coverage<- read.table(\"Carl_coverage\", header=FALSE)"
   ]
  },
  {
   "cell_type": "code",
   "execution_count": 44,
   "id": "a1229077",
   "metadata": {},
   "outputs": [],
   "source": [
    "setwd(\"~/piRNA/Workspaces/julia/PrimaryData/ref_data/human\")\n",
    "#chromosome data\n",
    "chromosome_data_1<- read.table(\"summary_chroms.tsv\", header=TRUE)"
   ]
  },
  {
   "cell_type": "code",
   "execution_count": 45,
   "id": "18c6457a",
   "metadata": {},
   "outputs": [],
   "source": [
    "names(coverage)[names(coverage) == \"V1\"]<- \"REFSEQ_CHROM\"\n",
    "data<- merge(coverage, chromosome_data_1, by= \"REFSEQ_CHROM\")"
   ]
  },
  {
   "cell_type": "code",
   "execution_count": 46,
   "id": "7dbf5bc2",
   "metadata": {
    "scrolled": false
   },
   "outputs": [
    {
     "data": {
      "text/html": [
       "<table>\n",
       "<thead><tr><th scope=col>REFSEQ_CHROM</th><th scope=col>V2</th><th scope=col>V3</th><th scope=col>CHROM</th><th scope=col>UCSC_CHROM</th><th scope=col>NCBI_CHROM</th></tr></thead>\n",
       "<tbody>\n",
       "\t<tr><td>NC_000001.11    </td><td>11126           </td><td>1               </td><td>1               </td><td>chr1            </td><td>GCF_000001305.15</td></tr>\n",
       "\t<tr><td>NC_000001.11    </td><td>11127           </td><td>1               </td><td>1               </td><td>chr1            </td><td>GCF_000001305.15</td></tr>\n",
       "\t<tr><td>NC_000001.11    </td><td>11128           </td><td>1               </td><td>1               </td><td>chr1            </td><td>GCF_000001305.15</td></tr>\n",
       "\t<tr><td>NC_000001.11    </td><td>11129           </td><td>1               </td><td>1               </td><td>chr1            </td><td>GCF_000001305.15</td></tr>\n",
       "\t<tr><td>NC_000001.11    </td><td>11130           </td><td>1               </td><td>1               </td><td>chr1            </td><td>GCF_000001305.15</td></tr>\n",
       "\t<tr><td>NC_000001.11    </td><td>11131           </td><td>1               </td><td>1               </td><td>chr1            </td><td>GCF_000001305.15</td></tr>\n",
       "</tbody>\n",
       "</table>\n"
      ],
      "text/latex": [
       "\\begin{tabular}{r|llllll}\n",
       " REFSEQ\\_CHROM & V2 & V3 & CHROM & UCSC\\_CHROM & NCBI\\_CHROM\\\\\n",
       "\\hline\n",
       "\t NC\\_000001.11     & 11126              & 1                  & 1                  & chr1               & GCF\\_000001305.15\\\\\n",
       "\t NC\\_000001.11     & 11127              & 1                  & 1                  & chr1               & GCF\\_000001305.15\\\\\n",
       "\t NC\\_000001.11     & 11128              & 1                  & 1                  & chr1               & GCF\\_000001305.15\\\\\n",
       "\t NC\\_000001.11     & 11129              & 1                  & 1                  & chr1               & GCF\\_000001305.15\\\\\n",
       "\t NC\\_000001.11     & 11130              & 1                  & 1                  & chr1               & GCF\\_000001305.15\\\\\n",
       "\t NC\\_000001.11     & 11131              & 1                  & 1                  & chr1               & GCF\\_000001305.15\\\\\n",
       "\\end{tabular}\n"
      ],
      "text/markdown": [
       "\n",
       "| REFSEQ_CHROM | V2 | V3 | CHROM | UCSC_CHROM | NCBI_CHROM |\n",
       "|---|---|---|---|---|---|\n",
       "| NC_000001.11     | 11126            | 1                | 1                | chr1             | GCF_000001305.15 |\n",
       "| NC_000001.11     | 11127            | 1                | 1                | chr1             | GCF_000001305.15 |\n",
       "| NC_000001.11     | 11128            | 1                | 1                | chr1             | GCF_000001305.15 |\n",
       "| NC_000001.11     | 11129            | 1                | 1                | chr1             | GCF_000001305.15 |\n",
       "| NC_000001.11     | 11130            | 1                | 1                | chr1             | GCF_000001305.15 |\n",
       "| NC_000001.11     | 11131            | 1                | 1                | chr1             | GCF_000001305.15 |\n",
       "\n"
      ],
      "text/plain": [
       "  REFSEQ_CHROM V2    V3 CHROM UCSC_CHROM NCBI_CHROM      \n",
       "1 NC_000001.11 11126 1  1     chr1       GCF_000001305.15\n",
       "2 NC_000001.11 11127 1  1     chr1       GCF_000001305.15\n",
       "3 NC_000001.11 11128 1  1     chr1       GCF_000001305.15\n",
       "4 NC_000001.11 11129 1  1     chr1       GCF_000001305.15\n",
       "5 NC_000001.11 11130 1  1     chr1       GCF_000001305.15\n",
       "6 NC_000001.11 11131 1  1     chr1       GCF_000001305.15"
      ]
     },
     "metadata": {},
     "output_type": "display_data"
    }
   ],
   "source": [
    "head(data)"
   ]
  },
  {
   "cell_type": "code",
   "execution_count": 47,
   "id": "bd64c870",
   "metadata": {},
   "outputs": [],
   "source": [
    "data$position<- data$V2-1 "
   ]
  },
  {
   "cell_type": "code",
   "execution_count": 48,
   "id": "006d87ee",
   "metadata": {},
   "outputs": [],
   "source": [
    "data<- data[,c(5,7,2,3)]"
   ]
  },
  {
   "cell_type": "code",
   "execution_count": 49,
   "id": "ee7ed1a4",
   "metadata": {},
   "outputs": [],
   "source": [
    "high_coverage<- coverage %>% filter(V3 > 50)"
   ]
  },
  {
   "cell_type": "code",
   "execution_count": 50,
   "id": "0e355d6f",
   "metadata": {},
   "outputs": [],
   "source": [
    "write.table(high_coverage, file = \"Carl_high_coverage.bed\", quote=FALSE, sep=\"\\t\", row.names = FALSE, col.names=FALSE)"
   ]
  },
  {
   "cell_type": "code",
   "execution_count": null,
   "id": "6df269ce",
   "metadata": {},
   "outputs": [],
   "source": []
  },
  {
   "cell_type": "code",
   "execution_count": 52,
   "id": "c75ee59e",
   "metadata": {},
   "outputs": [],
   "source": [
    "setwd(\"~/piRNA/Workspaces/julia/piRNA_reads/mapping_human/Chimp1\")\n",
    "coverage<- read.table(\"Chimp1_coverage\", header=FALSE)"
   ]
  },
  {
   "cell_type": "code",
   "execution_count": 53,
   "id": "14474e05",
   "metadata": {},
   "outputs": [],
   "source": [
    "setwd(\"~/piRNA/Workspaces/julia/PrimaryData/ref_data/human\")\n",
    "#chromosome data\n",
    "chromosome_data_1<- read.table(\"summary_chroms.tsv\", header=TRUE)"
   ]
  },
  {
   "cell_type": "code",
   "execution_count": 54,
   "id": "f3ffb5b4",
   "metadata": {},
   "outputs": [],
   "source": [
    "names(coverage)[names(coverage) == \"V1\"]<- \"REFSEQ_CHROM\"\n",
    "data<- merge(coverage, chromosome_data_1, by= \"REFSEQ_CHROM\")"
   ]
  },
  {
   "cell_type": "code",
   "execution_count": 55,
   "id": "084f5333",
   "metadata": {
    "scrolled": false
   },
   "outputs": [
    {
     "data": {
      "text/html": [
       "<table>\n",
       "<thead><tr><th scope=col>REFSEQ_CHROM</th><th scope=col>V2</th><th scope=col>V3</th><th scope=col>CHROM</th><th scope=col>UCSC_CHROM</th><th scope=col>NCBI_CHROM</th></tr></thead>\n",
       "<tbody>\n",
       "\t<tr><td>NC_000001.11    </td><td>14619           </td><td>1               </td><td>1               </td><td>chr1            </td><td>GCF_000001305.15</td></tr>\n",
       "\t<tr><td>NC_000001.11    </td><td>14620           </td><td>1               </td><td>1               </td><td>chr1            </td><td>GCF_000001305.15</td></tr>\n",
       "\t<tr><td>NC_000001.11    </td><td>14621           </td><td>1               </td><td>1               </td><td>chr1            </td><td>GCF_000001305.15</td></tr>\n",
       "\t<tr><td>NC_000001.11    </td><td>14622           </td><td>2               </td><td>1               </td><td>chr1            </td><td>GCF_000001305.15</td></tr>\n",
       "\t<tr><td>NC_000001.11    </td><td>14623           </td><td>3               </td><td>1               </td><td>chr1            </td><td>GCF_000001305.15</td></tr>\n",
       "\t<tr><td>NC_000001.11    </td><td>14624           </td><td>3               </td><td>1               </td><td>chr1            </td><td>GCF_000001305.15</td></tr>\n",
       "</tbody>\n",
       "</table>\n"
      ],
      "text/latex": [
       "\\begin{tabular}{r|llllll}\n",
       " REFSEQ\\_CHROM & V2 & V3 & CHROM & UCSC\\_CHROM & NCBI\\_CHROM\\\\\n",
       "\\hline\n",
       "\t NC\\_000001.11     & 14619              & 1                  & 1                  & chr1               & GCF\\_000001305.15\\\\\n",
       "\t NC\\_000001.11     & 14620              & 1                  & 1                  & chr1               & GCF\\_000001305.15\\\\\n",
       "\t NC\\_000001.11     & 14621              & 1                  & 1                  & chr1               & GCF\\_000001305.15\\\\\n",
       "\t NC\\_000001.11     & 14622              & 2                  & 1                  & chr1               & GCF\\_000001305.15\\\\\n",
       "\t NC\\_000001.11     & 14623              & 3                  & 1                  & chr1               & GCF\\_000001305.15\\\\\n",
       "\t NC\\_000001.11     & 14624              & 3                  & 1                  & chr1               & GCF\\_000001305.15\\\\\n",
       "\\end{tabular}\n"
      ],
      "text/markdown": [
       "\n",
       "| REFSEQ_CHROM | V2 | V3 | CHROM | UCSC_CHROM | NCBI_CHROM |\n",
       "|---|---|---|---|---|---|\n",
       "| NC_000001.11     | 14619            | 1                | 1                | chr1             | GCF_000001305.15 |\n",
       "| NC_000001.11     | 14620            | 1                | 1                | chr1             | GCF_000001305.15 |\n",
       "| NC_000001.11     | 14621            | 1                | 1                | chr1             | GCF_000001305.15 |\n",
       "| NC_000001.11     | 14622            | 2                | 1                | chr1             | GCF_000001305.15 |\n",
       "| NC_000001.11     | 14623            | 3                | 1                | chr1             | GCF_000001305.15 |\n",
       "| NC_000001.11     | 14624            | 3                | 1                | chr1             | GCF_000001305.15 |\n",
       "\n"
      ],
      "text/plain": [
       "  REFSEQ_CHROM V2    V3 CHROM UCSC_CHROM NCBI_CHROM      \n",
       "1 NC_000001.11 14619 1  1     chr1       GCF_000001305.15\n",
       "2 NC_000001.11 14620 1  1     chr1       GCF_000001305.15\n",
       "3 NC_000001.11 14621 1  1     chr1       GCF_000001305.15\n",
       "4 NC_000001.11 14622 2  1     chr1       GCF_000001305.15\n",
       "5 NC_000001.11 14623 3  1     chr1       GCF_000001305.15\n",
       "6 NC_000001.11 14624 3  1     chr1       GCF_000001305.15"
      ]
     },
     "metadata": {},
     "output_type": "display_data"
    }
   ],
   "source": [
    "head(data)"
   ]
  },
  {
   "cell_type": "code",
   "execution_count": 56,
   "id": "08b8f4ac",
   "metadata": {},
   "outputs": [],
   "source": [
    "data$position<- data$V2-1 "
   ]
  },
  {
   "cell_type": "code",
   "execution_count": 57,
   "id": "4bd0abfc",
   "metadata": {},
   "outputs": [],
   "source": [
    "data<- data[,c(5,7,2,3)]"
   ]
  },
  {
   "cell_type": "code",
   "execution_count": 58,
   "id": "04aecf6a",
   "metadata": {},
   "outputs": [],
   "source": [
    "high_coverage<- coverage %>% filter(V3 > 50)"
   ]
  },
  {
   "cell_type": "code",
   "execution_count": 59,
   "id": "cd686fc7",
   "metadata": {},
   "outputs": [],
   "source": [
    "write.table(high_coverage, file = \"Chimp1_high_coverage.bed\", quote=FALSE, sep=\"\\t\", row.names = FALSE, col.names=FALSE)"
   ]
  },
  {
   "cell_type": "code",
   "execution_count": null,
   "id": "997a2a6b",
   "metadata": {},
   "outputs": [],
   "source": []
  },
  {
   "cell_type": "code",
   "execution_count": 60,
   "id": "d496507a",
   "metadata": {},
   "outputs": [],
   "source": [
    "setwd(\"~/piRNA/Workspaces/julia/piRNA_reads/mapping_human/Chimp2\")\n",
    "coverage<- read.table(\"Chimp2_coverage\", header=FALSE)"
   ]
  },
  {
   "cell_type": "code",
   "execution_count": 61,
   "id": "ca806e9e",
   "metadata": {},
   "outputs": [],
   "source": [
    "setwd(\"~/piRNA/Workspaces/julia/PrimaryData/ref_data/human\")\n",
    "#chromosome data\n",
    "chromosome_data_1<- read.table(\"summary_chroms.tsv\", header=TRUE)"
   ]
  },
  {
   "cell_type": "code",
   "execution_count": 62,
   "id": "1fce3610",
   "metadata": {},
   "outputs": [],
   "source": [
    "names(coverage)[names(coverage) == \"V1\"]<- \"REFSEQ_CHROM\"\n",
    "data<- merge(coverage, chromosome_data_1, by= \"REFSEQ_CHROM\")"
   ]
  },
  {
   "cell_type": "code",
   "execution_count": 63,
   "id": "17ca0f55",
   "metadata": {
    "scrolled": false
   },
   "outputs": [
    {
     "data": {
      "text/html": [
       "<table>\n",
       "<thead><tr><th scope=col>REFSEQ_CHROM</th><th scope=col>V2</th><th scope=col>V3</th><th scope=col>CHROM</th><th scope=col>UCSC_CHROM</th><th scope=col>NCBI_CHROM</th></tr></thead>\n",
       "<tbody>\n",
       "\t<tr><td>NC_000001.11    </td><td>14076           </td><td>1               </td><td>1               </td><td>chr1            </td><td>GCF_000001305.15</td></tr>\n",
       "\t<tr><td>NC_000001.11    </td><td>14077           </td><td>1               </td><td>1               </td><td>chr1            </td><td>GCF_000001305.15</td></tr>\n",
       "\t<tr><td>NC_000001.11    </td><td>14078           </td><td>1               </td><td>1               </td><td>chr1            </td><td>GCF_000001305.15</td></tr>\n",
       "\t<tr><td>NC_000001.11    </td><td>14079           </td><td>1               </td><td>1               </td><td>chr1            </td><td>GCF_000001305.15</td></tr>\n",
       "\t<tr><td>NC_000001.11    </td><td>14080           </td><td>1               </td><td>1               </td><td>chr1            </td><td>GCF_000001305.15</td></tr>\n",
       "\t<tr><td>NC_000001.11    </td><td>14081           </td><td>1               </td><td>1               </td><td>chr1            </td><td>GCF_000001305.15</td></tr>\n",
       "</tbody>\n",
       "</table>\n"
      ],
      "text/latex": [
       "\\begin{tabular}{r|llllll}\n",
       " REFSEQ\\_CHROM & V2 & V3 & CHROM & UCSC\\_CHROM & NCBI\\_CHROM\\\\\n",
       "\\hline\n",
       "\t NC\\_000001.11     & 14076              & 1                  & 1                  & chr1               & GCF\\_000001305.15\\\\\n",
       "\t NC\\_000001.11     & 14077              & 1                  & 1                  & chr1               & GCF\\_000001305.15\\\\\n",
       "\t NC\\_000001.11     & 14078              & 1                  & 1                  & chr1               & GCF\\_000001305.15\\\\\n",
       "\t NC\\_000001.11     & 14079              & 1                  & 1                  & chr1               & GCF\\_000001305.15\\\\\n",
       "\t NC\\_000001.11     & 14080              & 1                  & 1                  & chr1               & GCF\\_000001305.15\\\\\n",
       "\t NC\\_000001.11     & 14081              & 1                  & 1                  & chr1               & GCF\\_000001305.15\\\\\n",
       "\\end{tabular}\n"
      ],
      "text/markdown": [
       "\n",
       "| REFSEQ_CHROM | V2 | V3 | CHROM | UCSC_CHROM | NCBI_CHROM |\n",
       "|---|---|---|---|---|---|\n",
       "| NC_000001.11     | 14076            | 1                | 1                | chr1             | GCF_000001305.15 |\n",
       "| NC_000001.11     | 14077            | 1                | 1                | chr1             | GCF_000001305.15 |\n",
       "| NC_000001.11     | 14078            | 1                | 1                | chr1             | GCF_000001305.15 |\n",
       "| NC_000001.11     | 14079            | 1                | 1                | chr1             | GCF_000001305.15 |\n",
       "| NC_000001.11     | 14080            | 1                | 1                | chr1             | GCF_000001305.15 |\n",
       "| NC_000001.11     | 14081            | 1                | 1                | chr1             | GCF_000001305.15 |\n",
       "\n"
      ],
      "text/plain": [
       "  REFSEQ_CHROM V2    V3 CHROM UCSC_CHROM NCBI_CHROM      \n",
       "1 NC_000001.11 14076 1  1     chr1       GCF_000001305.15\n",
       "2 NC_000001.11 14077 1  1     chr1       GCF_000001305.15\n",
       "3 NC_000001.11 14078 1  1     chr1       GCF_000001305.15\n",
       "4 NC_000001.11 14079 1  1     chr1       GCF_000001305.15\n",
       "5 NC_000001.11 14080 1  1     chr1       GCF_000001305.15\n",
       "6 NC_000001.11 14081 1  1     chr1       GCF_000001305.15"
      ]
     },
     "metadata": {},
     "output_type": "display_data"
    }
   ],
   "source": [
    "head(data)"
   ]
  },
  {
   "cell_type": "code",
   "execution_count": 64,
   "id": "c5e4245e",
   "metadata": {},
   "outputs": [],
   "source": [
    "data$position<- data$V2-1 "
   ]
  },
  {
   "cell_type": "code",
   "execution_count": 65,
   "id": "2247a012",
   "metadata": {},
   "outputs": [],
   "source": [
    "data<- data[,c(5,7,2,3)]"
   ]
  },
  {
   "cell_type": "code",
   "execution_count": 66,
   "id": "08398a4e",
   "metadata": {},
   "outputs": [],
   "source": [
    "high_coverage<- coverage %>% filter(V3 > 50)"
   ]
  },
  {
   "cell_type": "code",
   "execution_count": 67,
   "id": "e56b7360",
   "metadata": {},
   "outputs": [],
   "source": [
    "write.table(high_coverage, file = \"Chimp2_high_coverage.bed\", quote=FALSE, sep=\"\\t\", row.names = FALSE, col.names=FALSE)"
   ]
  },
  {
   "cell_type": "code",
   "execution_count": null,
   "id": "d850a4ef",
   "metadata": {},
   "outputs": [],
   "source": []
  },
  {
   "cell_type": "code",
   "execution_count": 68,
   "id": "8dd1c45b",
   "metadata": {},
   "outputs": [],
   "source": [
    "setwd(\"~/piRNA/Workspaces/julia/piRNA_reads/mapping_human/Gibbon\")\n",
    "coverage<- read.table(\"Gibbon_coverage\", header=FALSE)"
   ]
  },
  {
   "cell_type": "code",
   "execution_count": 69,
   "id": "e3504973",
   "metadata": {},
   "outputs": [],
   "source": [
    "setwd(\"~/piRNA/Workspaces/julia/PrimaryData/ref_data/human\")\n",
    "#chromosome data\n",
    "chromosome_data_1<- read.table(\"summary_chroms.tsv\", header=TRUE)"
   ]
  },
  {
   "cell_type": "code",
   "execution_count": 70,
   "id": "1b918909",
   "metadata": {},
   "outputs": [],
   "source": [
    "names(coverage)[names(coverage) == \"V1\"]<- \"REFSEQ_CHROM\"\n",
    "data<- merge(coverage, chromosome_data_1, by= \"REFSEQ_CHROM\")"
   ]
  },
  {
   "cell_type": "code",
   "execution_count": 71,
   "id": "9c89fd4f",
   "metadata": {
    "scrolled": false
   },
   "outputs": [
    {
     "data": {
      "text/html": [
       "<table>\n",
       "<thead><tr><th scope=col>REFSEQ_CHROM</th><th scope=col>V2</th><th scope=col>V3</th><th scope=col>CHROM</th><th scope=col>UCSC_CHROM</th><th scope=col>NCBI_CHROM</th></tr></thead>\n",
       "<tbody>\n",
       "\t<tr><td>NC_000001.11    </td><td>12827           </td><td>1               </td><td>1               </td><td>chr1            </td><td>GCF_000001305.15</td></tr>\n",
       "\t<tr><td>NC_000001.11    </td><td>12828           </td><td>1               </td><td>1               </td><td>chr1            </td><td>GCF_000001305.15</td></tr>\n",
       "\t<tr><td>NC_000001.11    </td><td>12829           </td><td>1               </td><td>1               </td><td>chr1            </td><td>GCF_000001305.15</td></tr>\n",
       "\t<tr><td>NC_000001.11    </td><td>12830           </td><td>1               </td><td>1               </td><td>chr1            </td><td>GCF_000001305.15</td></tr>\n",
       "\t<tr><td>NC_000001.11    </td><td>12831           </td><td>1               </td><td>1               </td><td>chr1            </td><td>GCF_000001305.15</td></tr>\n",
       "\t<tr><td>NC_000001.11    </td><td>12832           </td><td>1               </td><td>1               </td><td>chr1            </td><td>GCF_000001305.15</td></tr>\n",
       "</tbody>\n",
       "</table>\n"
      ],
      "text/latex": [
       "\\begin{tabular}{r|llllll}\n",
       " REFSEQ\\_CHROM & V2 & V3 & CHROM & UCSC\\_CHROM & NCBI\\_CHROM\\\\\n",
       "\\hline\n",
       "\t NC\\_000001.11     & 12827              & 1                  & 1                  & chr1               & GCF\\_000001305.15\\\\\n",
       "\t NC\\_000001.11     & 12828              & 1                  & 1                  & chr1               & GCF\\_000001305.15\\\\\n",
       "\t NC\\_000001.11     & 12829              & 1                  & 1                  & chr1               & GCF\\_000001305.15\\\\\n",
       "\t NC\\_000001.11     & 12830              & 1                  & 1                  & chr1               & GCF\\_000001305.15\\\\\n",
       "\t NC\\_000001.11     & 12831              & 1                  & 1                  & chr1               & GCF\\_000001305.15\\\\\n",
       "\t NC\\_000001.11     & 12832              & 1                  & 1                  & chr1               & GCF\\_000001305.15\\\\\n",
       "\\end{tabular}\n"
      ],
      "text/markdown": [
       "\n",
       "| REFSEQ_CHROM | V2 | V3 | CHROM | UCSC_CHROM | NCBI_CHROM |\n",
       "|---|---|---|---|---|---|\n",
       "| NC_000001.11     | 12827            | 1                | 1                | chr1             | GCF_000001305.15 |\n",
       "| NC_000001.11     | 12828            | 1                | 1                | chr1             | GCF_000001305.15 |\n",
       "| NC_000001.11     | 12829            | 1                | 1                | chr1             | GCF_000001305.15 |\n",
       "| NC_000001.11     | 12830            | 1                | 1                | chr1             | GCF_000001305.15 |\n",
       "| NC_000001.11     | 12831            | 1                | 1                | chr1             | GCF_000001305.15 |\n",
       "| NC_000001.11     | 12832            | 1                | 1                | chr1             | GCF_000001305.15 |\n",
       "\n"
      ],
      "text/plain": [
       "  REFSEQ_CHROM V2    V3 CHROM UCSC_CHROM NCBI_CHROM      \n",
       "1 NC_000001.11 12827 1  1     chr1       GCF_000001305.15\n",
       "2 NC_000001.11 12828 1  1     chr1       GCF_000001305.15\n",
       "3 NC_000001.11 12829 1  1     chr1       GCF_000001305.15\n",
       "4 NC_000001.11 12830 1  1     chr1       GCF_000001305.15\n",
       "5 NC_000001.11 12831 1  1     chr1       GCF_000001305.15\n",
       "6 NC_000001.11 12832 1  1     chr1       GCF_000001305.15"
      ]
     },
     "metadata": {},
     "output_type": "display_data"
    }
   ],
   "source": [
    "head(data)"
   ]
  },
  {
   "cell_type": "code",
   "execution_count": 72,
   "id": "a7f6d532",
   "metadata": {},
   "outputs": [],
   "source": [
    "data$position<- data$V2-1 "
   ]
  },
  {
   "cell_type": "code",
   "execution_count": 73,
   "id": "a7e8b33a",
   "metadata": {},
   "outputs": [],
   "source": [
    "data<- data[,c(5,7,2,3)]"
   ]
  },
  {
   "cell_type": "code",
   "execution_count": 74,
   "id": "93df9995",
   "metadata": {},
   "outputs": [],
   "source": [
    "high_coverage<- coverage %>% filter(V3 > 50)"
   ]
  },
  {
   "cell_type": "code",
   "execution_count": 75,
   "id": "d06076b8",
   "metadata": {},
   "outputs": [],
   "source": [
    "write.table(high_coverage, file = \"Gibbon_high_coverage.bed\", quote=FALSE, sep=\"\\t\", row.names = FALSE, col.names=FALSE)"
   ]
  },
  {
   "cell_type": "code",
   "execution_count": null,
   "id": "e1a51cba",
   "metadata": {},
   "outputs": [],
   "source": []
  },
  {
   "cell_type": "code",
   "execution_count": 76,
   "id": "121f386b",
   "metadata": {},
   "outputs": [],
   "source": [
    "setwd(\"~/piRNA/Workspaces/julia/piRNA_reads/mapping_human/Hum2\")\n",
    "coverage<- read.table(\"Hum2_coverage\", header=FALSE)"
   ]
  },
  {
   "cell_type": "code",
   "execution_count": 77,
   "id": "a4ee5429",
   "metadata": {},
   "outputs": [],
   "source": [
    "setwd(\"~/piRNA/Workspaces/julia/PrimaryData/ref_data/human\")\n",
    "#chromosome data\n",
    "chromosome_data_1<- read.table(\"summary_chroms.tsv\", header=TRUE)"
   ]
  },
  {
   "cell_type": "code",
   "execution_count": 78,
   "id": "b1a9eec7",
   "metadata": {},
   "outputs": [],
   "source": [
    "names(coverage)[names(coverage) == \"V1\"]<- \"REFSEQ_CHROM\"\n",
    "data<- merge(coverage, chromosome_data_1, by= \"REFSEQ_CHROM\")"
   ]
  },
  {
   "cell_type": "code",
   "execution_count": 79,
   "id": "4822b368",
   "metadata": {
    "scrolled": false
   },
   "outputs": [
    {
     "data": {
      "text/html": [
       "<table>\n",
       "<thead><tr><th scope=col>REFSEQ_CHROM</th><th scope=col>V2</th><th scope=col>V3</th><th scope=col>CHROM</th><th scope=col>UCSC_CHROM</th><th scope=col>NCBI_CHROM</th></tr></thead>\n",
       "<tbody>\n",
       "\t<tr><td>NC_000001.11    </td><td>10538           </td><td>1               </td><td>1               </td><td>chr1            </td><td>GCF_000001305.15</td></tr>\n",
       "\t<tr><td>NC_000001.11    </td><td>10539           </td><td>1               </td><td>1               </td><td>chr1            </td><td>GCF_000001305.15</td></tr>\n",
       "\t<tr><td>NC_000001.11    </td><td>10540           </td><td>1               </td><td>1               </td><td>chr1            </td><td>GCF_000001305.15</td></tr>\n",
       "\t<tr><td>NC_000001.11    </td><td>10541           </td><td>1               </td><td>1               </td><td>chr1            </td><td>GCF_000001305.15</td></tr>\n",
       "\t<tr><td>NC_000001.11    </td><td>10542           </td><td>1               </td><td>1               </td><td>chr1            </td><td>GCF_000001305.15</td></tr>\n",
       "\t<tr><td>NC_000001.11    </td><td>10543           </td><td>1               </td><td>1               </td><td>chr1            </td><td>GCF_000001305.15</td></tr>\n",
       "</tbody>\n",
       "</table>\n"
      ],
      "text/latex": [
       "\\begin{tabular}{r|llllll}\n",
       " REFSEQ\\_CHROM & V2 & V3 & CHROM & UCSC\\_CHROM & NCBI\\_CHROM\\\\\n",
       "\\hline\n",
       "\t NC\\_000001.11     & 10538              & 1                  & 1                  & chr1               & GCF\\_000001305.15\\\\\n",
       "\t NC\\_000001.11     & 10539              & 1                  & 1                  & chr1               & GCF\\_000001305.15\\\\\n",
       "\t NC\\_000001.11     & 10540              & 1                  & 1                  & chr1               & GCF\\_000001305.15\\\\\n",
       "\t NC\\_000001.11     & 10541              & 1                  & 1                  & chr1               & GCF\\_000001305.15\\\\\n",
       "\t NC\\_000001.11     & 10542              & 1                  & 1                  & chr1               & GCF\\_000001305.15\\\\\n",
       "\t NC\\_000001.11     & 10543              & 1                  & 1                  & chr1               & GCF\\_000001305.15\\\\\n",
       "\\end{tabular}\n"
      ],
      "text/markdown": [
       "\n",
       "| REFSEQ_CHROM | V2 | V3 | CHROM | UCSC_CHROM | NCBI_CHROM |\n",
       "|---|---|---|---|---|---|\n",
       "| NC_000001.11     | 10538            | 1                | 1                | chr1             | GCF_000001305.15 |\n",
       "| NC_000001.11     | 10539            | 1                | 1                | chr1             | GCF_000001305.15 |\n",
       "| NC_000001.11     | 10540            | 1                | 1                | chr1             | GCF_000001305.15 |\n",
       "| NC_000001.11     | 10541            | 1                | 1                | chr1             | GCF_000001305.15 |\n",
       "| NC_000001.11     | 10542            | 1                | 1                | chr1             | GCF_000001305.15 |\n",
       "| NC_000001.11     | 10543            | 1                | 1                | chr1             | GCF_000001305.15 |\n",
       "\n"
      ],
      "text/plain": [
       "  REFSEQ_CHROM V2    V3 CHROM UCSC_CHROM NCBI_CHROM      \n",
       "1 NC_000001.11 10538 1  1     chr1       GCF_000001305.15\n",
       "2 NC_000001.11 10539 1  1     chr1       GCF_000001305.15\n",
       "3 NC_000001.11 10540 1  1     chr1       GCF_000001305.15\n",
       "4 NC_000001.11 10541 1  1     chr1       GCF_000001305.15\n",
       "5 NC_000001.11 10542 1  1     chr1       GCF_000001305.15\n",
       "6 NC_000001.11 10543 1  1     chr1       GCF_000001305.15"
      ]
     },
     "metadata": {},
     "output_type": "display_data"
    }
   ],
   "source": [
    "head(data)"
   ]
  },
  {
   "cell_type": "code",
   "execution_count": 80,
   "id": "1c68404d",
   "metadata": {},
   "outputs": [],
   "source": [
    "data$position<- data$V2-1 "
   ]
  },
  {
   "cell_type": "code",
   "execution_count": 81,
   "id": "b2013d28",
   "metadata": {},
   "outputs": [],
   "source": [
    "data<- data[,c(5,7,2,3)]"
   ]
  },
  {
   "cell_type": "code",
   "execution_count": 82,
   "id": "a4385563",
   "metadata": {},
   "outputs": [],
   "source": [
    "high_coverage<- coverage %>% filter(V3 > 50)"
   ]
  },
  {
   "cell_type": "code",
   "execution_count": 83,
   "id": "ff2f7ac6",
   "metadata": {},
   "outputs": [],
   "source": [
    "write.table(high_coverage, file = \"Hum2_high_coverage.bed\", quote=FALSE, sep=\"\\t\", row.names = FALSE, col.names=FALSE)"
   ]
  },
  {
   "cell_type": "code",
   "execution_count": null,
   "id": "a08a6902",
   "metadata": {},
   "outputs": [],
   "source": []
  },
  {
   "cell_type": "code",
   "execution_count": 84,
   "id": "2cd80e1b",
   "metadata": {},
   "outputs": [],
   "source": [
    "setwd(\"~/piRNA/Workspaces/julia/piRNA_reads/mapping_human/Kat34\")\n",
    "coverage<- read.table(\"Kat34_coverage\", header=FALSE)"
   ]
  },
  {
   "cell_type": "code",
   "execution_count": 85,
   "id": "c4b88fcd",
   "metadata": {},
   "outputs": [],
   "source": [
    "setwd(\"~/piRNA/Workspaces/julia/PrimaryData/ref_data/human\")\n",
    "#chromosome data\n",
    "chromosome_data_1<- read.table(\"summary_chroms.tsv\", header=TRUE)"
   ]
  },
  {
   "cell_type": "code",
   "execution_count": 86,
   "id": "7a1909b3",
   "metadata": {},
   "outputs": [],
   "source": [
    "names(coverage)[names(coverage) == \"V1\"]<- \"REFSEQ_CHROM\"\n",
    "data<- merge(coverage, chromosome_data_1, by= \"REFSEQ_CHROM\")"
   ]
  },
  {
   "cell_type": "code",
   "execution_count": 87,
   "id": "a54e106a",
   "metadata": {
    "scrolled": false
   },
   "outputs": [
    {
     "data": {
      "text/html": [
       "<table>\n",
       "<thead><tr><th scope=col>REFSEQ_CHROM</th><th scope=col>V2</th><th scope=col>V3</th><th scope=col>CHROM</th><th scope=col>UCSC_CHROM</th><th scope=col>NCBI_CHROM</th></tr></thead>\n",
       "<tbody>\n",
       "\t<tr><td>NC_000001.11    </td><td>14986           </td><td>1               </td><td>1               </td><td>chr1            </td><td>GCF_000001305.15</td></tr>\n",
       "\t<tr><td>NC_000001.11    </td><td>14987           </td><td>1               </td><td>1               </td><td>chr1            </td><td>GCF_000001305.15</td></tr>\n",
       "\t<tr><td>NC_000001.11    </td><td>14988           </td><td>1               </td><td>1               </td><td>chr1            </td><td>GCF_000001305.15</td></tr>\n",
       "\t<tr><td>NC_000001.11    </td><td>14989           </td><td>1               </td><td>1               </td><td>chr1            </td><td>GCF_000001305.15</td></tr>\n",
       "\t<tr><td>NC_000001.11    </td><td>14990           </td><td>1               </td><td>1               </td><td>chr1            </td><td>GCF_000001305.15</td></tr>\n",
       "\t<tr><td>NC_000001.11    </td><td>14991           </td><td>1               </td><td>1               </td><td>chr1            </td><td>GCF_000001305.15</td></tr>\n",
       "</tbody>\n",
       "</table>\n"
      ],
      "text/latex": [
       "\\begin{tabular}{r|llllll}\n",
       " REFSEQ\\_CHROM & V2 & V3 & CHROM & UCSC\\_CHROM & NCBI\\_CHROM\\\\\n",
       "\\hline\n",
       "\t NC\\_000001.11     & 14986              & 1                  & 1                  & chr1               & GCF\\_000001305.15\\\\\n",
       "\t NC\\_000001.11     & 14987              & 1                  & 1                  & chr1               & GCF\\_000001305.15\\\\\n",
       "\t NC\\_000001.11     & 14988              & 1                  & 1                  & chr1               & GCF\\_000001305.15\\\\\n",
       "\t NC\\_000001.11     & 14989              & 1                  & 1                  & chr1               & GCF\\_000001305.15\\\\\n",
       "\t NC\\_000001.11     & 14990              & 1                  & 1                  & chr1               & GCF\\_000001305.15\\\\\n",
       "\t NC\\_000001.11     & 14991              & 1                  & 1                  & chr1               & GCF\\_000001305.15\\\\\n",
       "\\end{tabular}\n"
      ],
      "text/markdown": [
       "\n",
       "| REFSEQ_CHROM | V2 | V3 | CHROM | UCSC_CHROM | NCBI_CHROM |\n",
       "|---|---|---|---|---|---|\n",
       "| NC_000001.11     | 14986            | 1                | 1                | chr1             | GCF_000001305.15 |\n",
       "| NC_000001.11     | 14987            | 1                | 1                | chr1             | GCF_000001305.15 |\n",
       "| NC_000001.11     | 14988            | 1                | 1                | chr1             | GCF_000001305.15 |\n",
       "| NC_000001.11     | 14989            | 1                | 1                | chr1             | GCF_000001305.15 |\n",
       "| NC_000001.11     | 14990            | 1                | 1                | chr1             | GCF_000001305.15 |\n",
       "| NC_000001.11     | 14991            | 1                | 1                | chr1             | GCF_000001305.15 |\n",
       "\n"
      ],
      "text/plain": [
       "  REFSEQ_CHROM V2    V3 CHROM UCSC_CHROM NCBI_CHROM      \n",
       "1 NC_000001.11 14986 1  1     chr1       GCF_000001305.15\n",
       "2 NC_000001.11 14987 1  1     chr1       GCF_000001305.15\n",
       "3 NC_000001.11 14988 1  1     chr1       GCF_000001305.15\n",
       "4 NC_000001.11 14989 1  1     chr1       GCF_000001305.15\n",
       "5 NC_000001.11 14990 1  1     chr1       GCF_000001305.15\n",
       "6 NC_000001.11 14991 1  1     chr1       GCF_000001305.15"
      ]
     },
     "metadata": {},
     "output_type": "display_data"
    }
   ],
   "source": [
    "head(data)"
   ]
  },
  {
   "cell_type": "code",
   "execution_count": 88,
   "id": "ac1705f7",
   "metadata": {},
   "outputs": [],
   "source": [
    "data$position<- data$V2-1 "
   ]
  },
  {
   "cell_type": "code",
   "execution_count": 89,
   "id": "c1878cf1",
   "metadata": {},
   "outputs": [],
   "source": [
    "data<- data[,c(5,7,2,3)]"
   ]
  },
  {
   "cell_type": "code",
   "execution_count": 90,
   "id": "40147e45",
   "metadata": {},
   "outputs": [],
   "source": [
    "high_coverage<- coverage %>% filter(V3 > 50)"
   ]
  },
  {
   "cell_type": "code",
   "execution_count": 91,
   "id": "09b6f7b0",
   "metadata": {},
   "outputs": [],
   "source": [
    "write.table(high_coverage, file = \"Kat34_high_coverage.bed\", quote=FALSE, sep=\"\\t\", row.names = FALSE, col.names=FALSE)"
   ]
  },
  {
   "cell_type": "code",
   "execution_count": null,
   "id": "b197c69d",
   "metadata": {},
   "outputs": [],
   "source": []
  },
  {
   "cell_type": "code",
   "execution_count": 92,
   "id": "812c3a88",
   "metadata": {},
   "outputs": [],
   "source": [
    "setwd(\"~/piRNA/Workspaces/julia/piRNA_reads/mapping_human/Kat35\")\n",
    "coverage<- read.table(\"Kat35_coverage\", header=FALSE)"
   ]
  },
  {
   "cell_type": "code",
   "execution_count": 93,
   "id": "93fd71d1",
   "metadata": {},
   "outputs": [],
   "source": [
    "setwd(\"~/piRNA/Workspaces/julia/PrimaryData/ref_data/human\")\n",
    "#chromosome data\n",
    "chromosome_data_1<- read.table(\"summary_chroms.tsv\", header=TRUE)"
   ]
  },
  {
   "cell_type": "code",
   "execution_count": 94,
   "id": "de02d3ed",
   "metadata": {},
   "outputs": [],
   "source": [
    "names(coverage)[names(coverage) == \"V1\"]<- \"REFSEQ_CHROM\"\n",
    "data<- merge(coverage, chromosome_data_1, by= \"REFSEQ_CHROM\")"
   ]
  },
  {
   "cell_type": "code",
   "execution_count": 95,
   "id": "5f0674a9",
   "metadata": {
    "scrolled": false
   },
   "outputs": [
    {
     "data": {
      "text/html": [
       "<table>\n",
       "<thead><tr><th scope=col>REFSEQ_CHROM</th><th scope=col>V2</th><th scope=col>V3</th><th scope=col>CHROM</th><th scope=col>UCSC_CHROM</th><th scope=col>NCBI_CHROM</th></tr></thead>\n",
       "<tbody>\n",
       "\t<tr><td>NC_000001.11    </td><td>54842           </td><td>1               </td><td>1               </td><td>chr1            </td><td>GCF_000001305.15</td></tr>\n",
       "\t<tr><td>NC_000001.11    </td><td>54843           </td><td>2               </td><td>1               </td><td>chr1            </td><td>GCF_000001305.15</td></tr>\n",
       "\t<tr><td>NC_000001.11    </td><td>54844           </td><td>2               </td><td>1               </td><td>chr1            </td><td>GCF_000001305.15</td></tr>\n",
       "\t<tr><td>NC_000001.11    </td><td>54845           </td><td>2               </td><td>1               </td><td>chr1            </td><td>GCF_000001305.15</td></tr>\n",
       "\t<tr><td>NC_000001.11    </td><td>54846           </td><td>2               </td><td>1               </td><td>chr1            </td><td>GCF_000001305.15</td></tr>\n",
       "\t<tr><td>NC_000001.11    </td><td>54847           </td><td>2               </td><td>1               </td><td>chr1            </td><td>GCF_000001305.15</td></tr>\n",
       "</tbody>\n",
       "</table>\n"
      ],
      "text/latex": [
       "\\begin{tabular}{r|llllll}\n",
       " REFSEQ\\_CHROM & V2 & V3 & CHROM & UCSC\\_CHROM & NCBI\\_CHROM\\\\\n",
       "\\hline\n",
       "\t NC\\_000001.11     & 54842              & 1                  & 1                  & chr1               & GCF\\_000001305.15\\\\\n",
       "\t NC\\_000001.11     & 54843              & 2                  & 1                  & chr1               & GCF\\_000001305.15\\\\\n",
       "\t NC\\_000001.11     & 54844              & 2                  & 1                  & chr1               & GCF\\_000001305.15\\\\\n",
       "\t NC\\_000001.11     & 54845              & 2                  & 1                  & chr1               & GCF\\_000001305.15\\\\\n",
       "\t NC\\_000001.11     & 54846              & 2                  & 1                  & chr1               & GCF\\_000001305.15\\\\\n",
       "\t NC\\_000001.11     & 54847              & 2                  & 1                  & chr1               & GCF\\_000001305.15\\\\\n",
       "\\end{tabular}\n"
      ],
      "text/markdown": [
       "\n",
       "| REFSEQ_CHROM | V2 | V3 | CHROM | UCSC_CHROM | NCBI_CHROM |\n",
       "|---|---|---|---|---|---|\n",
       "| NC_000001.11     | 54842            | 1                | 1                | chr1             | GCF_000001305.15 |\n",
       "| NC_000001.11     | 54843            | 2                | 1                | chr1             | GCF_000001305.15 |\n",
       "| NC_000001.11     | 54844            | 2                | 1                | chr1             | GCF_000001305.15 |\n",
       "| NC_000001.11     | 54845            | 2                | 1                | chr1             | GCF_000001305.15 |\n",
       "| NC_000001.11     | 54846            | 2                | 1                | chr1             | GCF_000001305.15 |\n",
       "| NC_000001.11     | 54847            | 2                | 1                | chr1             | GCF_000001305.15 |\n",
       "\n"
      ],
      "text/plain": [
       "  REFSEQ_CHROM V2    V3 CHROM UCSC_CHROM NCBI_CHROM      \n",
       "1 NC_000001.11 54842 1  1     chr1       GCF_000001305.15\n",
       "2 NC_000001.11 54843 2  1     chr1       GCF_000001305.15\n",
       "3 NC_000001.11 54844 2  1     chr1       GCF_000001305.15\n",
       "4 NC_000001.11 54845 2  1     chr1       GCF_000001305.15\n",
       "5 NC_000001.11 54846 2  1     chr1       GCF_000001305.15\n",
       "6 NC_000001.11 54847 2  1     chr1       GCF_000001305.15"
      ]
     },
     "metadata": {},
     "output_type": "display_data"
    }
   ],
   "source": [
    "head(data)"
   ]
  },
  {
   "cell_type": "code",
   "execution_count": 96,
   "id": "e663ea43",
   "metadata": {},
   "outputs": [],
   "source": [
    "data$position<- data$V2-1 "
   ]
  },
  {
   "cell_type": "code",
   "execution_count": 97,
   "id": "5353f4ec",
   "metadata": {},
   "outputs": [],
   "source": [
    "data<- data[,c(5,7,2,3)]"
   ]
  },
  {
   "cell_type": "code",
   "execution_count": 98,
   "id": "a9ed1149",
   "metadata": {},
   "outputs": [],
   "source": [
    "high_coverage<- coverage %>% filter(V3 > 50)"
   ]
  },
  {
   "cell_type": "code",
   "execution_count": 99,
   "id": "ad5e779c",
   "metadata": {},
   "outputs": [],
   "source": [
    "write.table(high_coverage, file = \"Kat35_high_coverage.bed\", quote=FALSE, sep=\"\\t\", row.names = FALSE, col.names=FALSE)"
   ]
  },
  {
   "cell_type": "code",
   "execution_count": null,
   "id": "77d30aab",
   "metadata": {},
   "outputs": [],
   "source": []
  },
  {
   "cell_type": "code",
   "execution_count": 100,
   "id": "527e529f",
   "metadata": {},
   "outputs": [],
   "source": [
    "setwd(\"~/piRNA/Workspaces/julia/piRNA_reads/mapping_human/Makak\")\n",
    "coverage<- read.table(\"Makak_coverage\", header=FALSE)"
   ]
  },
  {
   "cell_type": "code",
   "execution_count": 101,
   "id": "cee2a8a4",
   "metadata": {},
   "outputs": [],
   "source": [
    "setwd(\"~/piRNA/Workspaces/julia/PrimaryData/ref_data/human\")\n",
    "#chromosome data\n",
    "chromosome_data_1<- read.table(\"summary_chroms.tsv\", header=TRUE)"
   ]
  },
  {
   "cell_type": "code",
   "execution_count": 102,
   "id": "edc477d3",
   "metadata": {},
   "outputs": [],
   "source": [
    "names(coverage)[names(coverage) == \"V1\"]<- \"REFSEQ_CHROM\"\n",
    "data<- merge(coverage, chromosome_data_1, by= \"REFSEQ_CHROM\")"
   ]
  },
  {
   "cell_type": "code",
   "execution_count": 103,
   "id": "469dd187",
   "metadata": {
    "scrolled": false
   },
   "outputs": [
    {
     "data": {
      "text/html": [
       "<table>\n",
       "<thead><tr><th scope=col>REFSEQ_CHROM</th><th scope=col>V2</th><th scope=col>V3</th><th scope=col>CHROM</th><th scope=col>UCSC_CHROM</th><th scope=col>NCBI_CHROM</th></tr></thead>\n",
       "<tbody>\n",
       "\t<tr><td>NC_000001.11    </td><td>78771           </td><td>1               </td><td>1               </td><td>chr1            </td><td>GCF_000001305.15</td></tr>\n",
       "\t<tr><td>NC_000001.11    </td><td>78772           </td><td>3               </td><td>1               </td><td>chr1            </td><td>GCF_000001305.15</td></tr>\n",
       "\t<tr><td>NC_000001.11    </td><td>78773           </td><td>3               </td><td>1               </td><td>chr1            </td><td>GCF_000001305.15</td></tr>\n",
       "\t<tr><td>NC_000001.11    </td><td>78774           </td><td>3               </td><td>1               </td><td>chr1            </td><td>GCF_000001305.15</td></tr>\n",
       "\t<tr><td>NC_000001.11    </td><td>78775           </td><td>3               </td><td>1               </td><td>chr1            </td><td>GCF_000001305.15</td></tr>\n",
       "\t<tr><td>NC_000001.11    </td><td>78776           </td><td>3               </td><td>1               </td><td>chr1            </td><td>GCF_000001305.15</td></tr>\n",
       "</tbody>\n",
       "</table>\n"
      ],
      "text/latex": [
       "\\begin{tabular}{r|llllll}\n",
       " REFSEQ\\_CHROM & V2 & V3 & CHROM & UCSC\\_CHROM & NCBI\\_CHROM\\\\\n",
       "\\hline\n",
       "\t NC\\_000001.11     & 78771              & 1                  & 1                  & chr1               & GCF\\_000001305.15\\\\\n",
       "\t NC\\_000001.11     & 78772              & 3                  & 1                  & chr1               & GCF\\_000001305.15\\\\\n",
       "\t NC\\_000001.11     & 78773              & 3                  & 1                  & chr1               & GCF\\_000001305.15\\\\\n",
       "\t NC\\_000001.11     & 78774              & 3                  & 1                  & chr1               & GCF\\_000001305.15\\\\\n",
       "\t NC\\_000001.11     & 78775              & 3                  & 1                  & chr1               & GCF\\_000001305.15\\\\\n",
       "\t NC\\_000001.11     & 78776              & 3                  & 1                  & chr1               & GCF\\_000001305.15\\\\\n",
       "\\end{tabular}\n"
      ],
      "text/markdown": [
       "\n",
       "| REFSEQ_CHROM | V2 | V3 | CHROM | UCSC_CHROM | NCBI_CHROM |\n",
       "|---|---|---|---|---|---|\n",
       "| NC_000001.11     | 78771            | 1                | 1                | chr1             | GCF_000001305.15 |\n",
       "| NC_000001.11     | 78772            | 3                | 1                | chr1             | GCF_000001305.15 |\n",
       "| NC_000001.11     | 78773            | 3                | 1                | chr1             | GCF_000001305.15 |\n",
       "| NC_000001.11     | 78774            | 3                | 1                | chr1             | GCF_000001305.15 |\n",
       "| NC_000001.11     | 78775            | 3                | 1                | chr1             | GCF_000001305.15 |\n",
       "| NC_000001.11     | 78776            | 3                | 1                | chr1             | GCF_000001305.15 |\n",
       "\n"
      ],
      "text/plain": [
       "  REFSEQ_CHROM V2    V3 CHROM UCSC_CHROM NCBI_CHROM      \n",
       "1 NC_000001.11 78771 1  1     chr1       GCF_000001305.15\n",
       "2 NC_000001.11 78772 3  1     chr1       GCF_000001305.15\n",
       "3 NC_000001.11 78773 3  1     chr1       GCF_000001305.15\n",
       "4 NC_000001.11 78774 3  1     chr1       GCF_000001305.15\n",
       "5 NC_000001.11 78775 3  1     chr1       GCF_000001305.15\n",
       "6 NC_000001.11 78776 3  1     chr1       GCF_000001305.15"
      ]
     },
     "metadata": {},
     "output_type": "display_data"
    }
   ],
   "source": [
    "head(data)"
   ]
  },
  {
   "cell_type": "code",
   "execution_count": 104,
   "id": "c792ad0d",
   "metadata": {},
   "outputs": [],
   "source": [
    "data$position<- data$V2-1 "
   ]
  },
  {
   "cell_type": "code",
   "execution_count": 105,
   "id": "037e388f",
   "metadata": {},
   "outputs": [],
   "source": [
    "data<- data[,c(5,7,2,3)]"
   ]
  },
  {
   "cell_type": "code",
   "execution_count": 106,
   "id": "c08e865a",
   "metadata": {},
   "outputs": [],
   "source": [
    "high_coverage<- coverage %>% filter(V3 > 50)"
   ]
  },
  {
   "cell_type": "code",
   "execution_count": 107,
   "id": "971d1241",
   "metadata": {},
   "outputs": [],
   "source": [
    "write.table(high_coverage, file = \"Makak_high_coverage.bed\", quote=FALSE, sep=\"\\t\", row.names = FALSE, col.names=FALSE)"
   ]
  },
  {
   "cell_type": "code",
   "execution_count": null,
   "id": "cd705394",
   "metadata": {},
   "outputs": [],
   "source": []
  },
  {
   "cell_type": "code",
   "execution_count": 35,
   "id": "2a101e7d",
   "metadata": {},
   "outputs": [],
   "source": [
    "setwd(\"~/piRNA/Workspaces/julia/piRNA_reads/mapping_human/Martin\")\n",
    "coverage<- read.table(\"Martin_coverage\", header=FALSE)"
   ]
  },
  {
   "cell_type": "code",
   "execution_count": 36,
   "id": "858d2999",
   "metadata": {},
   "outputs": [],
   "source": [
    "setwd(\"~/piRNA/Workspaces/julia/PrimaryData/ref_data/human\")\n",
    "#chromosome data\n",
    "chromosome_data_1<- read.table(\"summary_chroms.tsv\", header=TRUE)"
   ]
  },
  {
   "cell_type": "code",
   "execution_count": 37,
   "id": "dcd722fa",
   "metadata": {},
   "outputs": [],
   "source": [
    "names(coverage)[names(coverage) == \"V1\"]<- \"REFSEQ_CHROM\"\n",
    "data<- merge(coverage, chromosome_data_1, by= \"REFSEQ_CHROM\")"
   ]
  },
  {
   "cell_type": "code",
   "execution_count": 38,
   "id": "29c67af3",
   "metadata": {
    "scrolled": false
   },
   "outputs": [
    {
     "data": {
      "text/html": [
       "<table>\n",
       "<thead><tr><th scope=col>REFSEQ_CHROM</th><th scope=col>V2</th><th scope=col>V3</th><th scope=col>CHROM</th><th scope=col>UCSC_CHROM</th><th scope=col>NCBI_CHROM</th></tr></thead>\n",
       "<tbody>\n",
       "\t<tr><td>NC_000001.11    </td><td>12298           </td><td>1               </td><td>1               </td><td>chr1            </td><td>GCF_000001305.15</td></tr>\n",
       "\t<tr><td>NC_000001.11    </td><td>12299           </td><td>1               </td><td>1               </td><td>chr1            </td><td>GCF_000001305.15</td></tr>\n",
       "\t<tr><td>NC_000001.11    </td><td>12300           </td><td>1               </td><td>1               </td><td>chr1            </td><td>GCF_000001305.15</td></tr>\n",
       "\t<tr><td>NC_000001.11    </td><td>12301           </td><td>1               </td><td>1               </td><td>chr1            </td><td>GCF_000001305.15</td></tr>\n",
       "\t<tr><td>NC_000001.11    </td><td>12302           </td><td>1               </td><td>1               </td><td>chr1            </td><td>GCF_000001305.15</td></tr>\n",
       "\t<tr><td>NC_000001.11    </td><td>12303           </td><td>1               </td><td>1               </td><td>chr1            </td><td>GCF_000001305.15</td></tr>\n",
       "</tbody>\n",
       "</table>\n"
      ],
      "text/latex": [
       "\\begin{tabular}{r|llllll}\n",
       " REFSEQ\\_CHROM & V2 & V3 & CHROM & UCSC\\_CHROM & NCBI\\_CHROM\\\\\n",
       "\\hline\n",
       "\t NC\\_000001.11     & 12298              & 1                  & 1                  & chr1               & GCF\\_000001305.15\\\\\n",
       "\t NC\\_000001.11     & 12299              & 1                  & 1                  & chr1               & GCF\\_000001305.15\\\\\n",
       "\t NC\\_000001.11     & 12300              & 1                  & 1                  & chr1               & GCF\\_000001305.15\\\\\n",
       "\t NC\\_000001.11     & 12301              & 1                  & 1                  & chr1               & GCF\\_000001305.15\\\\\n",
       "\t NC\\_000001.11     & 12302              & 1                  & 1                  & chr1               & GCF\\_000001305.15\\\\\n",
       "\t NC\\_000001.11     & 12303              & 1                  & 1                  & chr1               & GCF\\_000001305.15\\\\\n",
       "\\end{tabular}\n"
      ],
      "text/markdown": [
       "\n",
       "| REFSEQ_CHROM | V2 | V3 | CHROM | UCSC_CHROM | NCBI_CHROM |\n",
       "|---|---|---|---|---|---|\n",
       "| NC_000001.11     | 12298            | 1                | 1                | chr1             | GCF_000001305.15 |\n",
       "| NC_000001.11     | 12299            | 1                | 1                | chr1             | GCF_000001305.15 |\n",
       "| NC_000001.11     | 12300            | 1                | 1                | chr1             | GCF_000001305.15 |\n",
       "| NC_000001.11     | 12301            | 1                | 1                | chr1             | GCF_000001305.15 |\n",
       "| NC_000001.11     | 12302            | 1                | 1                | chr1             | GCF_000001305.15 |\n",
       "| NC_000001.11     | 12303            | 1                | 1                | chr1             | GCF_000001305.15 |\n",
       "\n"
      ],
      "text/plain": [
       "  REFSEQ_CHROM V2    V3 CHROM UCSC_CHROM NCBI_CHROM      \n",
       "1 NC_000001.11 12298 1  1     chr1       GCF_000001305.15\n",
       "2 NC_000001.11 12299 1  1     chr1       GCF_000001305.15\n",
       "3 NC_000001.11 12300 1  1     chr1       GCF_000001305.15\n",
       "4 NC_000001.11 12301 1  1     chr1       GCF_000001305.15\n",
       "5 NC_000001.11 12302 1  1     chr1       GCF_000001305.15\n",
       "6 NC_000001.11 12303 1  1     chr1       GCF_000001305.15"
      ]
     },
     "metadata": {},
     "output_type": "display_data"
    }
   ],
   "source": [
    "head(data)"
   ]
  },
  {
   "cell_type": "code",
   "execution_count": 39,
   "id": "7073033d",
   "metadata": {},
   "outputs": [],
   "source": [
    "data$position<- data$V2-1 "
   ]
  },
  {
   "cell_type": "code",
   "execution_count": 40,
   "id": "1db49656",
   "metadata": {},
   "outputs": [],
   "source": [
    "data<- data[,c(5,7,2,3)]"
   ]
  },
  {
   "cell_type": "code",
   "execution_count": 41,
   "id": "9807cf90",
   "metadata": {},
   "outputs": [],
   "source": [
    "high_coverage<- coverage %>% filter(V3 > 50)"
   ]
  },
  {
   "cell_type": "code",
   "execution_count": 42,
   "id": "0ef8b8aa",
   "metadata": {},
   "outputs": [],
   "source": [
    "write.table(high_coverage, file = \"Martin_high_coverage.bed\", quote=FALSE, sep=\"\\t\", row.names = FALSE, col.names=FALSE)"
   ]
  },
  {
   "cell_type": "code",
   "execution_count": null,
   "id": "b470c58a",
   "metadata": {},
   "outputs": [],
   "source": []
  },
  {
   "cell_type": "code",
   "execution_count": 35,
   "id": "1509426d",
   "metadata": {},
   "outputs": [],
   "source": [
    "setwd(\"~/piRNA/Workspaces/julia/piRNA_reads/mapping_human/MBewe\")\n",
    "coverage<- read.table(\"MBewe_coverage\", header=FALSE)"
   ]
  },
  {
   "cell_type": "code",
   "execution_count": 36,
   "id": "253595c3",
   "metadata": {},
   "outputs": [],
   "source": [
    "setwd(\"~/piRNA/Workspaces/julia/PrimaryData/ref_data/human\")\n",
    "#chromosome data\n",
    "chromosome_data_1<- read.table(\"summary_chroms.tsv\", header=TRUE)"
   ]
  },
  {
   "cell_type": "code",
   "execution_count": 37,
   "id": "78c062ee",
   "metadata": {},
   "outputs": [],
   "source": [
    "names(coverage)[names(coverage) == \"V1\"]<- \"REFSEQ_CHROM\"\n",
    "data<- merge(coverage, chromosome_data_1, by= \"REFSEQ_CHROM\")"
   ]
  },
  {
   "cell_type": "code",
   "execution_count": 38,
   "id": "1ba1bc9e",
   "metadata": {
    "scrolled": false
   },
   "outputs": [
    {
     "data": {
      "text/html": [
       "<table>\n",
       "<thead><tr><th scope=col>REFSEQ_CHROM</th><th scope=col>V2</th><th scope=col>V3</th><th scope=col>CHROM</th><th scope=col>UCSC_CHROM</th><th scope=col>NCBI_CHROM</th></tr></thead>\n",
       "<tbody>\n",
       "\t<tr><td>NC_000001.11    </td><td>12298           </td><td>1               </td><td>1               </td><td>chr1            </td><td>GCF_000001305.15</td></tr>\n",
       "\t<tr><td>NC_000001.11    </td><td>12299           </td><td>1               </td><td>1               </td><td>chr1            </td><td>GCF_000001305.15</td></tr>\n",
       "\t<tr><td>NC_000001.11    </td><td>12300           </td><td>1               </td><td>1               </td><td>chr1            </td><td>GCF_000001305.15</td></tr>\n",
       "\t<tr><td>NC_000001.11    </td><td>12301           </td><td>1               </td><td>1               </td><td>chr1            </td><td>GCF_000001305.15</td></tr>\n",
       "\t<tr><td>NC_000001.11    </td><td>12302           </td><td>1               </td><td>1               </td><td>chr1            </td><td>GCF_000001305.15</td></tr>\n",
       "\t<tr><td>NC_000001.11    </td><td>12303           </td><td>1               </td><td>1               </td><td>chr1            </td><td>GCF_000001305.15</td></tr>\n",
       "</tbody>\n",
       "</table>\n"
      ],
      "text/latex": [
       "\\begin{tabular}{r|llllll}\n",
       " REFSEQ\\_CHROM & V2 & V3 & CHROM & UCSC\\_CHROM & NCBI\\_CHROM\\\\\n",
       "\\hline\n",
       "\t NC\\_000001.11     & 12298              & 1                  & 1                  & chr1               & GCF\\_000001305.15\\\\\n",
       "\t NC\\_000001.11     & 12299              & 1                  & 1                  & chr1               & GCF\\_000001305.15\\\\\n",
       "\t NC\\_000001.11     & 12300              & 1                  & 1                  & chr1               & GCF\\_000001305.15\\\\\n",
       "\t NC\\_000001.11     & 12301              & 1                  & 1                  & chr1               & GCF\\_000001305.15\\\\\n",
       "\t NC\\_000001.11     & 12302              & 1                  & 1                  & chr1               & GCF\\_000001305.15\\\\\n",
       "\t NC\\_000001.11     & 12303              & 1                  & 1                  & chr1               & GCF\\_000001305.15\\\\\n",
       "\\end{tabular}\n"
      ],
      "text/markdown": [
       "\n",
       "| REFSEQ_CHROM | V2 | V3 | CHROM | UCSC_CHROM | NCBI_CHROM |\n",
       "|---|---|---|---|---|---|\n",
       "| NC_000001.11     | 12298            | 1                | 1                | chr1             | GCF_000001305.15 |\n",
       "| NC_000001.11     | 12299            | 1                | 1                | chr1             | GCF_000001305.15 |\n",
       "| NC_000001.11     | 12300            | 1                | 1                | chr1             | GCF_000001305.15 |\n",
       "| NC_000001.11     | 12301            | 1                | 1                | chr1             | GCF_000001305.15 |\n",
       "| NC_000001.11     | 12302            | 1                | 1                | chr1             | GCF_000001305.15 |\n",
       "| NC_000001.11     | 12303            | 1                | 1                | chr1             | GCF_000001305.15 |\n",
       "\n"
      ],
      "text/plain": [
       "  REFSEQ_CHROM V2    V3 CHROM UCSC_CHROM NCBI_CHROM      \n",
       "1 NC_000001.11 12298 1  1     chr1       GCF_000001305.15\n",
       "2 NC_000001.11 12299 1  1     chr1       GCF_000001305.15\n",
       "3 NC_000001.11 12300 1  1     chr1       GCF_000001305.15\n",
       "4 NC_000001.11 12301 1  1     chr1       GCF_000001305.15\n",
       "5 NC_000001.11 12302 1  1     chr1       GCF_000001305.15\n",
       "6 NC_000001.11 12303 1  1     chr1       GCF_000001305.15"
      ]
     },
     "metadata": {},
     "output_type": "display_data"
    }
   ],
   "source": [
    "head(data)"
   ]
  },
  {
   "cell_type": "code",
   "execution_count": 39,
   "id": "99a5813d",
   "metadata": {},
   "outputs": [],
   "source": [
    "data$position<- data$V2-1 "
   ]
  },
  {
   "cell_type": "code",
   "execution_count": 40,
   "id": "22738c7e",
   "metadata": {},
   "outputs": [],
   "source": [
    "data<- data[,c(5,7,2,3)]"
   ]
  },
  {
   "cell_type": "code",
   "execution_count": 41,
   "id": "a85f6e79",
   "metadata": {},
   "outputs": [],
   "source": [
    "high_coverage<- coverage %>% filter(V3 > 50)"
   ]
  },
  {
   "cell_type": "code",
   "execution_count": 42,
   "id": "3391b220",
   "metadata": {},
   "outputs": [],
   "source": [
    "write.table(high_coverage, file = \"MBewe_high_coverage.bed\", quote=FALSE, sep=\"\\t\", row.names = FALSE, col.names=FALSE)"
   ]
  },
  {
   "cell_type": "code",
   "execution_count": null,
   "id": "ba8dbb1c",
   "metadata": {},
   "outputs": [],
   "source": []
  },
  {
   "cell_type": "code",
   "execution_count": 35,
   "id": "18fe47b1",
   "metadata": {},
   "outputs": [],
   "source": [
    "setwd(\"~/piRNA/Workspaces/julia/piRNA_reads/mapping_human/Orang1\")\n",
    "coverage<- read.table(\"Orang1_coverage\", header=FALSE)"
   ]
  },
  {
   "cell_type": "code",
   "execution_count": 36,
   "id": "2c076c63",
   "metadata": {},
   "outputs": [],
   "source": [
    "setwd(\"~/piRNA/Workspaces/julia/PrimaryData/ref_data/human\")\n",
    "#chromosome data\n",
    "chromosome_data_1<- read.table(\"summary_chroms.tsv\", header=TRUE)"
   ]
  },
  {
   "cell_type": "code",
   "execution_count": 37,
   "id": "2b4b2eac",
   "metadata": {},
   "outputs": [],
   "source": [
    "names(coverage)[names(coverage) == \"V1\"]<- \"REFSEQ_CHROM\"\n",
    "data<- merge(coverage, chromosome_data_1, by= \"REFSEQ_CHROM\")"
   ]
  },
  {
   "cell_type": "code",
   "execution_count": 38,
   "id": "ab621237",
   "metadata": {
    "scrolled": false
   },
   "outputs": [
    {
     "data": {
      "text/html": [
       "<table>\n",
       "<thead><tr><th scope=col>REFSEQ_CHROM</th><th scope=col>V2</th><th scope=col>V3</th><th scope=col>CHROM</th><th scope=col>UCSC_CHROM</th><th scope=col>NCBI_CHROM</th></tr></thead>\n",
       "<tbody>\n",
       "\t<tr><td>NC_000001.11    </td><td>12298           </td><td>1               </td><td>1               </td><td>chr1            </td><td>GCF_000001305.15</td></tr>\n",
       "\t<tr><td>NC_000001.11    </td><td>12299           </td><td>1               </td><td>1               </td><td>chr1            </td><td>GCF_000001305.15</td></tr>\n",
       "\t<tr><td>NC_000001.11    </td><td>12300           </td><td>1               </td><td>1               </td><td>chr1            </td><td>GCF_000001305.15</td></tr>\n",
       "\t<tr><td>NC_000001.11    </td><td>12301           </td><td>1               </td><td>1               </td><td>chr1            </td><td>GCF_000001305.15</td></tr>\n",
       "\t<tr><td>NC_000001.11    </td><td>12302           </td><td>1               </td><td>1               </td><td>chr1            </td><td>GCF_000001305.15</td></tr>\n",
       "\t<tr><td>NC_000001.11    </td><td>12303           </td><td>1               </td><td>1               </td><td>chr1            </td><td>GCF_000001305.15</td></tr>\n",
       "</tbody>\n",
       "</table>\n"
      ],
      "text/latex": [
       "\\begin{tabular}{r|llllll}\n",
       " REFSEQ\\_CHROM & V2 & V3 & CHROM & UCSC\\_CHROM & NCBI\\_CHROM\\\\\n",
       "\\hline\n",
       "\t NC\\_000001.11     & 12298              & 1                  & 1                  & chr1               & GCF\\_000001305.15\\\\\n",
       "\t NC\\_000001.11     & 12299              & 1                  & 1                  & chr1               & GCF\\_000001305.15\\\\\n",
       "\t NC\\_000001.11     & 12300              & 1                  & 1                  & chr1               & GCF\\_000001305.15\\\\\n",
       "\t NC\\_000001.11     & 12301              & 1                  & 1                  & chr1               & GCF\\_000001305.15\\\\\n",
       "\t NC\\_000001.11     & 12302              & 1                  & 1                  & chr1               & GCF\\_000001305.15\\\\\n",
       "\t NC\\_000001.11     & 12303              & 1                  & 1                  & chr1               & GCF\\_000001305.15\\\\\n",
       "\\end{tabular}\n"
      ],
      "text/markdown": [
       "\n",
       "| REFSEQ_CHROM | V2 | V3 | CHROM | UCSC_CHROM | NCBI_CHROM |\n",
       "|---|---|---|---|---|---|\n",
       "| NC_000001.11     | 12298            | 1                | 1                | chr1             | GCF_000001305.15 |\n",
       "| NC_000001.11     | 12299            | 1                | 1                | chr1             | GCF_000001305.15 |\n",
       "| NC_000001.11     | 12300            | 1                | 1                | chr1             | GCF_000001305.15 |\n",
       "| NC_000001.11     | 12301            | 1                | 1                | chr1             | GCF_000001305.15 |\n",
       "| NC_000001.11     | 12302            | 1                | 1                | chr1             | GCF_000001305.15 |\n",
       "| NC_000001.11     | 12303            | 1                | 1                | chr1             | GCF_000001305.15 |\n",
       "\n"
      ],
      "text/plain": [
       "  REFSEQ_CHROM V2    V3 CHROM UCSC_CHROM NCBI_CHROM      \n",
       "1 NC_000001.11 12298 1  1     chr1       GCF_000001305.15\n",
       "2 NC_000001.11 12299 1  1     chr1       GCF_000001305.15\n",
       "3 NC_000001.11 12300 1  1     chr1       GCF_000001305.15\n",
       "4 NC_000001.11 12301 1  1     chr1       GCF_000001305.15\n",
       "5 NC_000001.11 12302 1  1     chr1       GCF_000001305.15\n",
       "6 NC_000001.11 12303 1  1     chr1       GCF_000001305.15"
      ]
     },
     "metadata": {},
     "output_type": "display_data"
    }
   ],
   "source": [
    "head(data)"
   ]
  },
  {
   "cell_type": "code",
   "execution_count": 39,
   "id": "80e0821b",
   "metadata": {},
   "outputs": [],
   "source": [
    "data$position<- data$V2-1 "
   ]
  },
  {
   "cell_type": "code",
   "execution_count": 40,
   "id": "f5888811",
   "metadata": {},
   "outputs": [],
   "source": [
    "data<- data[,c(5,7,2,3)]"
   ]
  },
  {
   "cell_type": "code",
   "execution_count": 41,
   "id": "424a6a80",
   "metadata": {},
   "outputs": [],
   "source": [
    "high_coverage<- coverage %>% filter(V3 > 50)"
   ]
  },
  {
   "cell_type": "code",
   "execution_count": 42,
   "id": "05525b70",
   "metadata": {},
   "outputs": [],
   "source": [
    "write.table(high_coverage, file = \"Orang1_high_coverage.bed\", quote=FALSE, sep=\"\\t\", row.names = FALSE, col.names=FALSE)"
   ]
  },
  {
   "cell_type": "code",
   "execution_count": null,
   "id": "88a030c0",
   "metadata": {},
   "outputs": [],
   "source": []
  },
  {
   "cell_type": "code",
   "execution_count": 35,
   "id": "b59c976e",
   "metadata": {},
   "outputs": [],
   "source": [
    "setwd(\"~/piRNA/Workspaces/julia/piRNA_reads/mapping_human/Pongo\")\n",
    "coverage<- read.table(\"Pongo_coverage\", header=FALSE)"
   ]
  },
  {
   "cell_type": "code",
   "execution_count": 36,
   "id": "77410dea",
   "metadata": {},
   "outputs": [],
   "source": [
    "setwd(\"~/piRNA/Workspaces/julia/PrimaryData/ref_data/human\")\n",
    "#chromosome data\n",
    "chromosome_data_1<- read.table(\"summary_chroms.tsv\", header=TRUE)"
   ]
  },
  {
   "cell_type": "code",
   "execution_count": 37,
   "id": "4f590e5d",
   "metadata": {},
   "outputs": [],
   "source": [
    "names(coverage)[names(coverage) == \"V1\"]<- \"REFSEQ_CHROM\"\n",
    "data<- merge(coverage, chromosome_data_1, by= \"REFSEQ_CHROM\")"
   ]
  },
  {
   "cell_type": "code",
   "execution_count": 38,
   "id": "302451c1",
   "metadata": {
    "scrolled": false
   },
   "outputs": [
    {
     "data": {
      "text/html": [
       "<table>\n",
       "<thead><tr><th scope=col>REFSEQ_CHROM</th><th scope=col>V2</th><th scope=col>V3</th><th scope=col>CHROM</th><th scope=col>UCSC_CHROM</th><th scope=col>NCBI_CHROM</th></tr></thead>\n",
       "<tbody>\n",
       "\t<tr><td>NC_000001.11    </td><td>12298           </td><td>1               </td><td>1               </td><td>chr1            </td><td>GCF_000001305.15</td></tr>\n",
       "\t<tr><td>NC_000001.11    </td><td>12299           </td><td>1               </td><td>1               </td><td>chr1            </td><td>GCF_000001305.15</td></tr>\n",
       "\t<tr><td>NC_000001.11    </td><td>12300           </td><td>1               </td><td>1               </td><td>chr1            </td><td>GCF_000001305.15</td></tr>\n",
       "\t<tr><td>NC_000001.11    </td><td>12301           </td><td>1               </td><td>1               </td><td>chr1            </td><td>GCF_000001305.15</td></tr>\n",
       "\t<tr><td>NC_000001.11    </td><td>12302           </td><td>1               </td><td>1               </td><td>chr1            </td><td>GCF_000001305.15</td></tr>\n",
       "\t<tr><td>NC_000001.11    </td><td>12303           </td><td>1               </td><td>1               </td><td>chr1            </td><td>GCF_000001305.15</td></tr>\n",
       "</tbody>\n",
       "</table>\n"
      ],
      "text/latex": [
       "\\begin{tabular}{r|llllll}\n",
       " REFSEQ\\_CHROM & V2 & V3 & CHROM & UCSC\\_CHROM & NCBI\\_CHROM\\\\\n",
       "\\hline\n",
       "\t NC\\_000001.11     & 12298              & 1                  & 1                  & chr1               & GCF\\_000001305.15\\\\\n",
       "\t NC\\_000001.11     & 12299              & 1                  & 1                  & chr1               & GCF\\_000001305.15\\\\\n",
       "\t NC\\_000001.11     & 12300              & 1                  & 1                  & chr1               & GCF\\_000001305.15\\\\\n",
       "\t NC\\_000001.11     & 12301              & 1                  & 1                  & chr1               & GCF\\_000001305.15\\\\\n",
       "\t NC\\_000001.11     & 12302              & 1                  & 1                  & chr1               & GCF\\_000001305.15\\\\\n",
       "\t NC\\_000001.11     & 12303              & 1                  & 1                  & chr1               & GCF\\_000001305.15\\\\\n",
       "\\end{tabular}\n"
      ],
      "text/markdown": [
       "\n",
       "| REFSEQ_CHROM | V2 | V3 | CHROM | UCSC_CHROM | NCBI_CHROM |\n",
       "|---|---|---|---|---|---|\n",
       "| NC_000001.11     | 12298            | 1                | 1                | chr1             | GCF_000001305.15 |\n",
       "| NC_000001.11     | 12299            | 1                | 1                | chr1             | GCF_000001305.15 |\n",
       "| NC_000001.11     | 12300            | 1                | 1                | chr1             | GCF_000001305.15 |\n",
       "| NC_000001.11     | 12301            | 1                | 1                | chr1             | GCF_000001305.15 |\n",
       "| NC_000001.11     | 12302            | 1                | 1                | chr1             | GCF_000001305.15 |\n",
       "| NC_000001.11     | 12303            | 1                | 1                | chr1             | GCF_000001305.15 |\n",
       "\n"
      ],
      "text/plain": [
       "  REFSEQ_CHROM V2    V3 CHROM UCSC_CHROM NCBI_CHROM      \n",
       "1 NC_000001.11 12298 1  1     chr1       GCF_000001305.15\n",
       "2 NC_000001.11 12299 1  1     chr1       GCF_000001305.15\n",
       "3 NC_000001.11 12300 1  1     chr1       GCF_000001305.15\n",
       "4 NC_000001.11 12301 1  1     chr1       GCF_000001305.15\n",
       "5 NC_000001.11 12302 1  1     chr1       GCF_000001305.15\n",
       "6 NC_000001.11 12303 1  1     chr1       GCF_000001305.15"
      ]
     },
     "metadata": {},
     "output_type": "display_data"
    }
   ],
   "source": [
    "head(data)"
   ]
  },
  {
   "cell_type": "code",
   "execution_count": 39,
   "id": "673a8314",
   "metadata": {},
   "outputs": [],
   "source": [
    "data$position<- data$V2-1 "
   ]
  },
  {
   "cell_type": "code",
   "execution_count": 40,
   "id": "1ee35645",
   "metadata": {},
   "outputs": [],
   "source": [
    "data<- data[,c(5,7,2,3)]"
   ]
  },
  {
   "cell_type": "code",
   "execution_count": 41,
   "id": "d06e7594",
   "metadata": {},
   "outputs": [],
   "source": [
    "high_coverage<- coverage %>% filter(V3 > 50)"
   ]
  },
  {
   "cell_type": "code",
   "execution_count": 42,
   "id": "eb7b8927",
   "metadata": {},
   "outputs": [],
   "source": [
    "write.table(high_coverage, file = \"Pongo_high_coverage.bed\", quote=FALSE, sep=\"\\t\", row.names = FALSE, col.names=FALSE)"
   ]
  },
  {
   "cell_type": "code",
   "execution_count": null,
   "id": "8bb71eae",
   "metadata": {},
   "outputs": [],
   "source": []
  },
  {
   "cell_type": "code",
   "execution_count": 35,
   "id": "967fbb06",
   "metadata": {},
   "outputs": [],
   "source": [
    "setwd(\"~/piRNA/Workspaces/julia/piRNA_reads/mapping_human/Samson\")\n",
    "coverage<- read.table(\"Samson_coverage\", header=FALSE)"
   ]
  },
  {
   "cell_type": "code",
   "execution_count": 36,
   "id": "a7d0827f",
   "metadata": {},
   "outputs": [],
   "source": [
    "setwd(\"~/piRNA/Workspaces/julia/PrimaryData/ref_data/human\")\n",
    "#chromosome data\n",
    "chromosome_data_1<- read.table(\"summary_chroms.tsv\", header=TRUE)"
   ]
  },
  {
   "cell_type": "code",
   "execution_count": 37,
   "id": "45986ce3",
   "metadata": {},
   "outputs": [],
   "source": [
    "names(coverage)[names(coverage) == \"V1\"]<- \"REFSEQ_CHROM\"\n",
    "data<- merge(coverage, chromosome_data_1, by= \"REFSEQ_CHROM\")"
   ]
  },
  {
   "cell_type": "code",
   "execution_count": 38,
   "id": "4b825bf9",
   "metadata": {
    "scrolled": false
   },
   "outputs": [
    {
     "data": {
      "text/html": [
       "<table>\n",
       "<thead><tr><th scope=col>REFSEQ_CHROM</th><th scope=col>V2</th><th scope=col>V3</th><th scope=col>CHROM</th><th scope=col>UCSC_CHROM</th><th scope=col>NCBI_CHROM</th></tr></thead>\n",
       "<tbody>\n",
       "\t<tr><td>NC_000001.11    </td><td>12298           </td><td>1               </td><td>1               </td><td>chr1            </td><td>GCF_000001305.15</td></tr>\n",
       "\t<tr><td>NC_000001.11    </td><td>12299           </td><td>1               </td><td>1               </td><td>chr1            </td><td>GCF_000001305.15</td></tr>\n",
       "\t<tr><td>NC_000001.11    </td><td>12300           </td><td>1               </td><td>1               </td><td>chr1            </td><td>GCF_000001305.15</td></tr>\n",
       "\t<tr><td>NC_000001.11    </td><td>12301           </td><td>1               </td><td>1               </td><td>chr1            </td><td>GCF_000001305.15</td></tr>\n",
       "\t<tr><td>NC_000001.11    </td><td>12302           </td><td>1               </td><td>1               </td><td>chr1            </td><td>GCF_000001305.15</td></tr>\n",
       "\t<tr><td>NC_000001.11    </td><td>12303           </td><td>1               </td><td>1               </td><td>chr1            </td><td>GCF_000001305.15</td></tr>\n",
       "</tbody>\n",
       "</table>\n"
      ],
      "text/latex": [
       "\\begin{tabular}{r|llllll}\n",
       " REFSEQ\\_CHROM & V2 & V3 & CHROM & UCSC\\_CHROM & NCBI\\_CHROM\\\\\n",
       "\\hline\n",
       "\t NC\\_000001.11     & 12298              & 1                  & 1                  & chr1               & GCF\\_000001305.15\\\\\n",
       "\t NC\\_000001.11     & 12299              & 1                  & 1                  & chr1               & GCF\\_000001305.15\\\\\n",
       "\t NC\\_000001.11     & 12300              & 1                  & 1                  & chr1               & GCF\\_000001305.15\\\\\n",
       "\t NC\\_000001.11     & 12301              & 1                  & 1                  & chr1               & GCF\\_000001305.15\\\\\n",
       "\t NC\\_000001.11     & 12302              & 1                  & 1                  & chr1               & GCF\\_000001305.15\\\\\n",
       "\t NC\\_000001.11     & 12303              & 1                  & 1                  & chr1               & GCF\\_000001305.15\\\\\n",
       "\\end{tabular}\n"
      ],
      "text/markdown": [
       "\n",
       "| REFSEQ_CHROM | V2 | V3 | CHROM | UCSC_CHROM | NCBI_CHROM |\n",
       "|---|---|---|---|---|---|\n",
       "| NC_000001.11     | 12298            | 1                | 1                | chr1             | GCF_000001305.15 |\n",
       "| NC_000001.11     | 12299            | 1                | 1                | chr1             | GCF_000001305.15 |\n",
       "| NC_000001.11     | 12300            | 1                | 1                | chr1             | GCF_000001305.15 |\n",
       "| NC_000001.11     | 12301            | 1                | 1                | chr1             | GCF_000001305.15 |\n",
       "| NC_000001.11     | 12302            | 1                | 1                | chr1             | GCF_000001305.15 |\n",
       "| NC_000001.11     | 12303            | 1                | 1                | chr1             | GCF_000001305.15 |\n",
       "\n"
      ],
      "text/plain": [
       "  REFSEQ_CHROM V2    V3 CHROM UCSC_CHROM NCBI_CHROM      \n",
       "1 NC_000001.11 12298 1  1     chr1       GCF_000001305.15\n",
       "2 NC_000001.11 12299 1  1     chr1       GCF_000001305.15\n",
       "3 NC_000001.11 12300 1  1     chr1       GCF_000001305.15\n",
       "4 NC_000001.11 12301 1  1     chr1       GCF_000001305.15\n",
       "5 NC_000001.11 12302 1  1     chr1       GCF_000001305.15\n",
       "6 NC_000001.11 12303 1  1     chr1       GCF_000001305.15"
      ]
     },
     "metadata": {},
     "output_type": "display_data"
    }
   ],
   "source": [
    "head(data)"
   ]
  },
  {
   "cell_type": "code",
   "execution_count": 39,
   "id": "93456a3b",
   "metadata": {},
   "outputs": [],
   "source": [
    "data$position<- data$V2-1 "
   ]
  },
  {
   "cell_type": "code",
   "execution_count": 40,
   "id": "d2a64768",
   "metadata": {},
   "outputs": [],
   "source": [
    "data<- data[,c(5,7,2,3)]"
   ]
  },
  {
   "cell_type": "code",
   "execution_count": 41,
   "id": "e947af32",
   "metadata": {},
   "outputs": [],
   "source": [
    "high_coverage<- coverage %>% filter(V3 > 50)"
   ]
  },
  {
   "cell_type": "code",
   "execution_count": 42,
   "id": "c8d3c7c5",
   "metadata": {},
   "outputs": [],
   "source": [
    "write.table(high_coverage, file = \"Samson_high_coverage.bed\", quote=FALSE, sep=\"\\t\", row.names = FALSE, col.names=FALSE)"
   ]
  }
 ],
 "metadata": {
  "kernelspec": {
   "display_name": "R",
   "language": "R",
   "name": "ir"
  },
  "language_info": {
   "codemirror_mode": "r",
   "file_extension": ".r",
   "mimetype": "text/x-r-source",
   "name": "R",
   "pygments_lexer": "r",
   "version": "3.6.1"
  }
 },
 "nbformat": 4,
 "nbformat_minor": 5
}
