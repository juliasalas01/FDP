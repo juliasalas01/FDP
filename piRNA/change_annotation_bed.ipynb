{
 "cells": [
  {
   "cell_type": "code",
   "execution_count": 2,
   "id": "6b1c502e",
   "metadata": {},
   "outputs": [],
   "source": [
    "setwd(\"~/piRNA/Workspaces/julia/piRNA/unique_mapping/unique_coverage/Hum2\")\n",
    "testis<- read.table(\"Hum2_coverage\", header=FALSE,sep=\"\\t\")"
   ]
  },
  {
   "cell_type": "code",
   "execution_count": 1,
   "id": "075c1aad",
   "metadata": {},
   "outputs": [],
   "source": [
    "setwd(\"~/piRNA/Workspaces/julia/piRNA_reads/mapping_species/coverage/Hum1\")"
   ]
  },
  {
   "cell_type": "code",
   "execution_count": 2,
   "id": "a7fe0b3d",
   "metadata": {},
   "outputs": [],
   "source": [
    "hum1<- read.table(\"Hum1_coverage.bed\", header=FALSE,sep=\"\\t\")"
   ]
  },
  {
   "cell_type": "code",
   "execution_count": 3,
   "id": "cc73d505",
   "metadata": {},
   "outputs": [
    {
     "data": {
      "text/html": [
       "<table>\n",
       "<thead><tr><th scope=col>V1</th><th scope=col>V2</th><th scope=col>V3</th><th scope=col>V4</th></tr></thead>\n",
       "<tbody>\n",
       "\t<tr><td>chr1 </td><td>12536</td><td>12537</td><td>1    </td></tr>\n",
       "\t<tr><td>chr1 </td><td>12537</td><td>12538</td><td>1    </td></tr>\n",
       "\t<tr><td>chr1 </td><td>12538</td><td>12539</td><td>1    </td></tr>\n",
       "\t<tr><td>chr1 </td><td>12539</td><td>12540</td><td>1    </td></tr>\n",
       "\t<tr><td>chr1 </td><td>12540</td><td>12541</td><td>1    </td></tr>\n",
       "\t<tr><td>chr1 </td><td>12541</td><td>12542</td><td>1    </td></tr>\n",
       "</tbody>\n",
       "</table>\n"
      ],
      "text/latex": [
       "\\begin{tabular}{r|llll}\n",
       " V1 & V2 & V3 & V4\\\\\n",
       "\\hline\n",
       "\t chr1  & 12536 & 12537 & 1    \\\\\n",
       "\t chr1  & 12537 & 12538 & 1    \\\\\n",
       "\t chr1  & 12538 & 12539 & 1    \\\\\n",
       "\t chr1  & 12539 & 12540 & 1    \\\\\n",
       "\t chr1  & 12540 & 12541 & 1    \\\\\n",
       "\t chr1  & 12541 & 12542 & 1    \\\\\n",
       "\\end{tabular}\n"
      ],
      "text/markdown": [
       "\n",
       "| V1 | V2 | V3 | V4 |\n",
       "|---|---|---|---|\n",
       "| chr1  | 12536 | 12537 | 1     |\n",
       "| chr1  | 12537 | 12538 | 1     |\n",
       "| chr1  | 12538 | 12539 | 1     |\n",
       "| chr1  | 12539 | 12540 | 1     |\n",
       "| chr1  | 12540 | 12541 | 1     |\n",
       "| chr1  | 12541 | 12542 | 1     |\n",
       "\n"
      ],
      "text/plain": [
       "  V1   V2    V3    V4\n",
       "1 chr1 12536 12537 1 \n",
       "2 chr1 12537 12538 1 \n",
       "3 chr1 12538 12539 1 \n",
       "4 chr1 12539 12540 1 \n",
       "5 chr1 12540 12541 1 \n",
       "6 chr1 12541 12542 1 "
      ]
     },
     "metadata": {},
     "output_type": "display_data"
    }
   ],
   "source": [
    "head(hum1)"
   ]
  },
  {
   "cell_type": "code",
   "execution_count": 8,
   "id": "6cc4ff69",
   "metadata": {},
   "outputs": [],
   "source": [
    "high_coverage <- subset(hum1, hum1[, 4] > 2000)"
   ]
  },
  {
   "cell_type": "code",
   "execution_count": 9,
   "id": "da429d9a",
   "metadata": {},
   "outputs": [
    {
     "data": {
      "text/html": [
       "2449"
      ],
      "text/latex": [
       "2449"
      ],
      "text/markdown": [
       "2449"
      ],
      "text/plain": [
       "[1] 2449"
      ]
     },
     "metadata": {},
     "output_type": "display_data"
    }
   ],
   "source": [
    "nrow(high_coverage)"
   ]
  },
  {
   "cell_type": "code",
   "execution_count": 10,
   "id": "bc37715a",
   "metadata": {},
   "outputs": [],
   "source": [
    "setwd(\"~/piRNA/Workspaces/julia/lnc\")"
   ]
  },
  {
   "cell_type": "code",
   "execution_count": 11,
   "id": "141cf798",
   "metadata": {},
   "outputs": [],
   "source": [
    "write.table(high_coverage, file = \"Hum1_high_coverage.bed\", quote=FALSE, sep=\"\\t\", row.names = FALSE, col.names=FALSE)"
   ]
  },
  {
   "cell_type": "code",
   "execution_count": 6,
   "id": "3343baaf",
   "metadata": {},
   "outputs": [
    {
     "name": "stderr",
     "output_type": "stream",
     "text": [
      "\n",
      "Attaching package: ‘dplyr’\n",
      "\n",
      "The following objects are masked from ‘package:stats’:\n",
      "\n",
      "    filter, lag\n",
      "\n",
      "The following objects are masked from ‘package:base’:\n",
      "\n",
      "    intersect, setdiff, setequal, union\n",
      "\n"
     ]
    }
   ],
   "source": [
    "library(dplyr)"
   ]
  },
  {
   "cell_type": "code",
   "execution_count": 3,
   "id": "389aed67",
   "metadata": {},
   "outputs": [],
   "source": [
    "#chromosome data\n",
    "setwd(\"~/piRNA/Workspaces/julia/PrimaryData/ref_data/human\")\n",
    "chromosome_data<- read.table(\"summary_chroms.tsv\", header=TRUE)"
   ]
  },
  {
   "cell_type": "code",
   "execution_count": 4,
   "id": "ea918880",
   "metadata": {},
   "outputs": [],
   "source": [
    "names(testis)[names(testis) == \"V1\"]<- \"REFSEQ_CHROM\""
   ]
  },
  {
   "cell_type": "code",
   "execution_count": 5,
   "id": "4631bb67",
   "metadata": {},
   "outputs": [],
   "source": [
    "coverage<- merge(testis, chromosome_data, by= \"REFSEQ_CHROM\")"
   ]
  },
  {
   "cell_type": "code",
   "execution_count": 10,
   "id": "b638ac8d",
   "metadata": {},
   "outputs": [
    {
     "data": {
      "text/html": [
       "<table>\n",
       "<thead><tr><th scope=col>UCSC_CHROM</th><th scope=col>position</th><th scope=col>V2</th><th scope=col>V3</th></tr></thead>\n",
       "<tbody>\n",
       "\t<tr><td>chr1 </td><td>16217</td><td>16218</td><td>1    </td></tr>\n",
       "\t<tr><td>chr1 </td><td>16218</td><td>16219</td><td>1    </td></tr>\n",
       "\t<tr><td>chr1 </td><td>16219</td><td>16220</td><td>1    </td></tr>\n",
       "\t<tr><td>chr1 </td><td>16220</td><td>16221</td><td>1    </td></tr>\n",
       "\t<tr><td>chr1 </td><td>16221</td><td>16222</td><td>1    </td></tr>\n",
       "\t<tr><td>chr1 </td><td>16222</td><td>16223</td><td>1    </td></tr>\n",
       "</tbody>\n",
       "</table>\n"
      ],
      "text/latex": [
       "\\begin{tabular}{r|llll}\n",
       " UCSC\\_CHROM & position & V2 & V3\\\\\n",
       "\\hline\n",
       "\t chr1  & 16217 & 16218 & 1    \\\\\n",
       "\t chr1  & 16218 & 16219 & 1    \\\\\n",
       "\t chr1  & 16219 & 16220 & 1    \\\\\n",
       "\t chr1  & 16220 & 16221 & 1    \\\\\n",
       "\t chr1  & 16221 & 16222 & 1    \\\\\n",
       "\t chr1  & 16222 & 16223 & 1    \\\\\n",
       "\\end{tabular}\n"
      ],
      "text/markdown": [
       "\n",
       "| UCSC_CHROM | position | V2 | V3 |\n",
       "|---|---|---|---|\n",
       "| chr1  | 16217 | 16218 | 1     |\n",
       "| chr1  | 16218 | 16219 | 1     |\n",
       "| chr1  | 16219 | 16220 | 1     |\n",
       "| chr1  | 16220 | 16221 | 1     |\n",
       "| chr1  | 16221 | 16222 | 1     |\n",
       "| chr1  | 16222 | 16223 | 1     |\n",
       "\n"
      ],
      "text/plain": [
       "  UCSC_CHROM position V2    V3\n",
       "1 chr1       16217    16218 1 \n",
       "2 chr1       16218    16219 1 \n",
       "3 chr1       16219    16220 1 \n",
       "4 chr1       16220    16221 1 \n",
       "5 chr1       16221    16222 1 \n",
       "6 chr1       16222    16223 1 "
      ]
     },
     "metadata": {},
     "output_type": "display_data"
    }
   ],
   "source": [
    "head(coverage)"
   ]
  },
  {
   "cell_type": "code",
   "execution_count": 7,
   "id": "08dc57a8",
   "metadata": {},
   "outputs": [],
   "source": [
    "coverage$position<-coverage$V2 -1"
   ]
  },
  {
   "cell_type": "code",
   "execution_count": 9,
   "id": "a7ac28ed",
   "metadata": {},
   "outputs": [],
   "source": [
    "coverage<-coverage[,c(5,7,2,3)]"
   ]
  },
  {
   "cell_type": "code",
   "execution_count": 12,
   "id": "5a38fcfe",
   "metadata": {},
   "outputs": [],
   "source": [
    "options(scipen = 99999)"
   ]
  },
  {
   "cell_type": "code",
   "execution_count": 13,
   "id": "bafe19e6",
   "metadata": {},
   "outputs": [],
   "source": [
    "setwd(\"~/piRNA/Workspaces/julia/piRNA/unique_mapping/unique_coverage/Hum2\")\n",
    "write.table(coverage, file = \"Hum2_coverage.bed\", quote=FALSE, sep=\"\\t\", row.names = FALSE, col.names=FALSE)"
   ]
  },
  {
   "cell_type": "code",
   "execution_count": 1,
   "id": "055247bf",
   "metadata": {},
   "outputs": [
    {
     "name": "stderr",
     "output_type": "stream",
     "text": [
      "Warning message in file(file, \"rt\"):\n",
      "“cannot open file 'Hum2_coverage': No such file or directory”"
     ]
    },
    {
     "ename": "ERROR",
     "evalue": "Error in file(file, \"rt\"): cannot open the connection\n",
     "output_type": "error",
     "traceback": [
      "Error in file(file, \"rt\"): cannot open the connection\nTraceback:\n",
      "1. read.table(\"Hum2_coverage\", header = FALSE, sep = \"\\t\")",
      "2. file(file, \"rt\")"
     ]
    }
   ],
   "source": [
    "setwd(\"~/piRNA/PrimaryData/ref_data/human\")\n",
    "testis<- read.table(\"human_testis_non_annotated.gtf\", header=FALSE,sep=\"\\t\")"
   ]
  },
  {
   "cell_type": "code",
   "execution_count": 6,
   "id": "cdc8bb9d",
   "metadata": {},
   "outputs": [
    {
     "data": {
      "text/html": [
       "<table>\n",
       "<thead><tr><th scope=col>V1</th><th scope=col>V2</th><th scope=col>V3</th><th scope=col>V4</th><th scope=col>V5</th><th scope=col>V6</th><th scope=col>V7</th><th scope=col>V8</th><th scope=col>V9</th></tr></thead>\n",
       "<tbody>\n",
       "\t<tr><td>1                                                                                                          </td><td>StringTie                                                                                                  </td><td>gene                                                                                                       </td><td>180884                                                                                                     </td><td>181110                                                                                                     </td><td>.                                                                                                          </td><td>+                                                                                                          </td><td>.                                                                                                          </td><td>gene_id XLOC_000007; oId STRG.11.1;  class_code r;  tss_id TSS9;                                           </td></tr>\n",
       "\t<tr><td>1                                                                                                          </td><td>StringTie                                                                                                  </td><td>transcript                                                                                                 </td><td>180884                                                                                                     </td><td>181110                                                                                                     </td><td>.                                                                                                          </td><td>+                                                                                                          </td><td>.                                                                                                          </td><td>gene_id XLOC_000007; transcript_id TCONS_00000010; oId STRG.11.1; class_code r; tss_id TSS9; FPKM 0.321454;</td></tr>\n",
       "\t<tr><td>1                                                                                                          </td><td>StringTie                                                                                                  </td><td>exon                                                                                                       </td><td>180884                                                                                                     </td><td>181110                                                                                                     </td><td>.                                                                                                          </td><td>+                                                                                                          </td><td>.                                                                                                          </td><td>gene_id XLOC_000007; transcript_id TCONS_00000010; exon_number 1; oId STRG.11.1; class_code r; tss_id TSS9;</td></tr>\n",
       "\t<tr><td>1                                                                                                          </td><td>StringTie                                                                                                  </td><td>gene                                                                                                       </td><td>268297                                                                                                     </td><td>268582                                                                                                     </td><td>.                                                                                                          </td><td>+                                                                                                          </td><td>.                                                                                                          </td><td>gene_id XLOC_000009;                                                                                       </td></tr>\n",
       "\t<tr><td>1                                                                                                          </td><td>StringTie                                                                                                  </td><td>transcript                                                                                                 </td><td>268297                                                                                                     </td><td>268582                                                                                                     </td><td>.                                                                                                          </td><td>+                                                                                                          </td><td>.                                                                                                          </td><td>gene_id XLOC_000009; transcript_id TCONS_00000012;                                                         </td></tr>\n",
       "\t<tr><td>1                                                                                                          </td><td>StringTie                                                                                                  </td><td>exon                                                                                                       </td><td>268297                                                                                                     </td><td>268582                                                                                                     </td><td>.                                                                                                          </td><td>+                                                                                                          </td><td>.                                                                                                          </td><td>gene_id XLOC_000009; transcript_id TCONS_00000012; exon_number 1;                                          </td></tr>\n",
       "</tbody>\n",
       "</table>\n"
      ],
      "text/latex": [
       "\\begin{tabular}{r|lllllllll}\n",
       " V1 & V2 & V3 & V4 & V5 & V6 & V7 & V8 & V9\\\\\n",
       "\\hline\n",
       "\t 1                                                                                                                   & StringTie                                                                                                           & gene                                                                                                                & 180884                                                                                                              & 181110                                                                                                              & .                                                                                                                   & +                                                                                                                   & .                                                                                                                   & gene\\_id XLOC\\_000007; oId STRG.11.1;  class\\_code r;  tss\\_id TSS9;                                           \\\\\n",
       "\t 1                                                                                                                       & StringTie                                                                                                               & transcript                                                                                                              & 180884                                                                                                                  & 181110                                                                                                                  & .                                                                                                                       & +                                                                                                                       & .                                                                                                                       & gene\\_id XLOC\\_000007; transcript\\_id TCONS\\_00000010; oId STRG.11.1; class\\_code r; tss\\_id TSS9; FPKM 0.321454;\\\\\n",
       "\t 1                                                                                                                         & StringTie                                                                                                                 & exon                                                                                                                      & 180884                                                                                                                    & 181110                                                                                                                    & .                                                                                                                         & +                                                                                                                         & .                                                                                                                         & gene\\_id XLOC\\_000007; transcript\\_id TCONS\\_00000010; exon\\_number 1; oId STRG.11.1; class\\_code r; tss\\_id TSS9;\\\\\n",
       "\t 1                                                                                                               & StringTie                                                                                                       & gene                                                                                                            & 268297                                                                                                          & 268582                                                                                                          & .                                                                                                               & +                                                                                                               & .                                                                                                               & gene\\_id XLOC\\_000009;                                                                                       \\\\\n",
       "\t 1                                                                                                                   & StringTie                                                                                                           & transcript                                                                                                          & 268297                                                                                                              & 268582                                                                                                              & .                                                                                                                   & +                                                                                                                   & .                                                                                                                   & gene\\_id XLOC\\_000009; transcript\\_id TCONS\\_00000012;                                                         \\\\\n",
       "\t 1                                                                                                                     & StringTie                                                                                                             & exon                                                                                                                  & 268297                                                                                                                & 268582                                                                                                                & .                                                                                                                     & +                                                                                                                     & .                                                                                                                     & gene\\_id XLOC\\_000009; transcript\\_id TCONS\\_00000012; exon\\_number 1;                                          \\\\\n",
       "\\end{tabular}\n"
      ],
      "text/markdown": [
       "\n",
       "| V1 | V2 | V3 | V4 | V5 | V6 | V7 | V8 | V9 |\n",
       "|---|---|---|---|---|---|---|---|---|\n",
       "| 1                                                                                                           | StringTie                                                                                                   | gene                                                                                                        | 180884                                                                                                      | 181110                                                                                                      | .                                                                                                           | +                                                                                                           | .                                                                                                           | gene_id XLOC_000007; oId STRG.11.1;  class_code r;  tss_id TSS9;                                            |\n",
       "| 1                                                                                                           | StringTie                                                                                                   | transcript                                                                                                  | 180884                                                                                                      | 181110                                                                                                      | .                                                                                                           | +                                                                                                           | .                                                                                                           | gene_id XLOC_000007; transcript_id TCONS_00000010; oId STRG.11.1; class_code r; tss_id TSS9; FPKM 0.321454; |\n",
       "| 1                                                                                                           | StringTie                                                                                                   | exon                                                                                                        | 180884                                                                                                      | 181110                                                                                                      | .                                                                                                           | +                                                                                                           | .                                                                                                           | gene_id XLOC_000007; transcript_id TCONS_00000010; exon_number 1; oId STRG.11.1; class_code r; tss_id TSS9; |\n",
       "| 1                                                                                                           | StringTie                                                                                                   | gene                                                                                                        | 268297                                                                                                      | 268582                                                                                                      | .                                                                                                           | +                                                                                                           | .                                                                                                           | gene_id XLOC_000009;                                                                                        |\n",
       "| 1                                                                                                           | StringTie                                                                                                   | transcript                                                                                                  | 268297                                                                                                      | 268582                                                                                                      | .                                                                                                           | +                                                                                                           | .                                                                                                           | gene_id XLOC_000009; transcript_id TCONS_00000012;                                                          |\n",
       "| 1                                                                                                           | StringTie                                                                                                   | exon                                                                                                        | 268297                                                                                                      | 268582                                                                                                      | .                                                                                                           | +                                                                                                           | .                                                                                                           | gene_id XLOC_000009; transcript_id TCONS_00000012; exon_number 1;                                           |\n",
       "\n"
      ],
      "text/plain": [
       "  V1 V2        V3         V4     V5     V6 V7 V8\n",
       "1 1  StringTie gene       180884 181110 .  +  . \n",
       "2 1  StringTie transcript 180884 181110 .  +  . \n",
       "3 1  StringTie exon       180884 181110 .  +  . \n",
       "4 1  StringTie gene       268297 268582 .  +  . \n",
       "5 1  StringTie transcript 268297 268582 .  +  . \n",
       "6 1  StringTie exon       268297 268582 .  +  . \n",
       "  V9                                                                                                         \n",
       "1 gene_id XLOC_000007; oId STRG.11.1;  class_code r;  tss_id TSS9;                                           \n",
       "2 gene_id XLOC_000007; transcript_id TCONS_00000010; oId STRG.11.1; class_code r; tss_id TSS9; FPKM 0.321454;\n",
       "3 gene_id XLOC_000007; transcript_id TCONS_00000010; exon_number 1; oId STRG.11.1; class_code r; tss_id TSS9;\n",
       "4 gene_id XLOC_000009;                                                                                       \n",
       "5 gene_id XLOC_000009; transcript_id TCONS_00000012;                                                         \n",
       "6 gene_id XLOC_000009; transcript_id TCONS_00000012; exon_number 1;                                          "
      ]
     },
     "metadata": {},
     "output_type": "display_data"
    }
   ],
   "source": [
    "head(testis)"
   ]
  },
  {
   "cell_type": "code",
   "execution_count": 25,
   "id": "2953106f",
   "metadata": {},
   "outputs": [],
   "source": [
    "transcript_rows <- subset(testis, grepl(\"gene\", testis[,3], ignore.case = TRUE))"
   ]
  },
  {
   "cell_type": "code",
   "execution_count": 26,
   "id": "27a2f705",
   "metadata": {},
   "outputs": [],
   "source": [
    "transcript_rows$V1 <- ifelse(transcript_rows$V1 == 1, \"chr1\", \n",
    "                             ifelse(transcript_rows$V1 == 2, \"chr2\", \n",
    "                                    ifelse(transcript_rows$V1 == 3, \"chr3\",\n",
    "                                           ifelse(transcript_rows$V1 == 4, \"chr4\",\n",
    "                                                  ifelse(transcript_rows$V1 == 5, \"chr5\",\n",
    "                                                         ifelse(transcript_rows$V1 == 6, \"chr6\", \n",
    "                                                                ifelse(transcript_rows$V1 == 7, \"chr7\", \n",
    "                                                                       ifelse(transcript_rows$V1 == 8, \"chr8\", \n",
    "                                                                              ifelse(transcript_rows$V1 == 9, \"chr9\", \n",
    "                                                                                     ifelse(transcript_rows$V1 == 10, \"chr10\", \n",
    "                                                                                            ifelse(transcript_rows$V1 == 11, \"chr11\", \n",
    "                                                                                                   ifelse(transcript_rows$V1 == 12, \"chr12\", \n",
    "                                                                                                          ifelse(transcript_rows$V1 == 13, \"chr13\", \n",
    "                                                                                                                 ifelse(transcript_rows$V1 == 14, \"chr14\", \n",
    "                                                                                                                        ifelse(transcript_rows$V1 == 15, \"chr15\", \n",
    "                                                                                                                               ifelse(transcript_rows$V1 == 16, \"chr16\", \n",
    "                                                                                                                                      ifelse(transcript_rows$V1 == 17, \"chr17\", \n",
    "                                                                                                                                             ifelse(transcript_rows$V1 == 18, \"chr18\", \n",
    "                                                                                                                                                    ifelse(transcript_rows$V1 == 19, \"chr19\", \n",
    "                                                                                                                                                    ifelse(transcript_rows$V1 == 20, \"chr20\", \n",
    "                                                                                                                                                    ifelse(transcript_rows$V1 == 21, \"chr21\", \n",
    "                                                                                                                                                    ifelse(transcript_rows$V1 == 21, \"chr21\", \n",
    "                                                                                                                                                    ifelse(transcript_rows$V1 == \"MT\", \"chrMT\",\n",
    "                                                                                                                                                    ifelse(transcript_rows$V1 == \"X\", \"chrX\",\n",
    "                                                                                                                                                    ifelse(transcript_rows$V1 == \"Y\", \"chrY\", transcript_rows$V1)))))))))))))))))))))))))"
   ]
  },
  {
   "cell_type": "code",
   "execution_count": 27,
   "id": "e05f5919",
   "metadata": {},
   "outputs": [
    {
     "data": {
      "text/html": [
       "<table>\n",
       "<thead><tr><th></th><th scope=col>V1</th><th scope=col>V2</th><th scope=col>V3</th><th scope=col>V4</th><th scope=col>V5</th><th scope=col>V6</th><th scope=col>V7</th><th scope=col>V8</th><th scope=col>V9</th></tr></thead>\n",
       "<tbody>\n",
       "\t<tr><th scope=row>1</th><td>chr1                                                            </td><td>StringTie                                                       </td><td>gene                                                            </td><td>180884                                                          </td><td>181110                                                          </td><td>.                                                               </td><td>+                                                               </td><td>.                                                               </td><td>gene_id XLOC_000007; oId STRG.11.1;  class_code r;  tss_id TSS9;</td></tr>\n",
       "\t<tr><th scope=row>4</th><td>chr1                                                            </td><td>StringTie                                                       </td><td>gene                                                            </td><td>268297                                                          </td><td>268582                                                          </td><td>.                                                               </td><td>+                                                               </td><td>.                                                               </td><td>gene_id XLOC_000009;                                            </td></tr>\n",
       "\t<tr><th scope=row>7</th><td>chr1                                                            </td><td>StringTie                                                       </td><td>gene                                                            </td><td>824435                                                          </td><td>825064                                                          </td><td>.                                                               </td><td>+                                                               </td><td>.                                                               </td><td>gene_id XLOC_000022;                                            </td></tr>\n",
       "\t<tr><th scope=row>10</th><td>chr1                                                            </td><td>StringTie                                                       </td><td>gene                                                            </td><td>863337                                                          </td><td>863780                                                          </td><td>.                                                               </td><td>+                                                               </td><td>.                                                               </td><td>gene_id XLOC_000024; oId STRG.1.1;  class_code u;  tss_id TSS38;</td></tr>\n",
       "\t<tr><th scope=row>13</th><td>chr1                                                            </td><td>StringTie                                                       </td><td>gene                                                            </td><td>890777                                                          </td><td>890985                                                          </td><td>.                                                               </td><td>+                                                               </td><td>.                                                               </td><td>gene_id XLOC_000026; oId STRG.3.1;  class_code u;  tss_id TSS40;</td></tr>\n",
       "\t<tr><th scope=row>16</th><td>chr1                                                            </td><td>StringTie                                                       </td><td>gene                                                            </td><td>890998                                                          </td><td>891324                                                          </td><td>.                                                               </td><td>+                                                               </td><td>.                                                               </td><td>gene_id XLOC_000027; oId STRG.4.1;  class_code r;  tss_id TSS41;</td></tr>\n",
       "</tbody>\n",
       "</table>\n"
      ],
      "text/latex": [
       "\\begin{tabular}{r|lllllllll}\n",
       "  & V1 & V2 & V3 & V4 & V5 & V6 & V7 & V8 & V9\\\\\n",
       "\\hline\n",
       "\t1 & chr1                                                                     & StringTie                                                                & gene                                                                     & 180884                                                                   & 181110                                                                   & .                                                                        & +                                                                        & .                                                                        & gene\\_id XLOC\\_000007; oId STRG.11.1;  class\\_code r;  tss\\_id TSS9;\\\\\n",
       "\t4 & chr1                                                                 & StringTie                                                            & gene                                                                 & 268297                                                               & 268582                                                               & .                                                                    & +                                                                    & .                                                                    & gene\\_id XLOC\\_000009;                                            \\\\\n",
       "\t7 & chr1                                                                 & StringTie                                                            & gene                                                                 & 824435                                                               & 825064                                                               & .                                                                    & +                                                                    & .                                                                    & gene\\_id XLOC\\_000022;                                            \\\\\n",
       "\t10 & chr1                                                                     & StringTie                                                                & gene                                                                     & 863337                                                                   & 863780                                                                   & .                                                                        & +                                                                        & .                                                                        & gene\\_id XLOC\\_000024; oId STRG.1.1;  class\\_code u;  tss\\_id TSS38;\\\\\n",
       "\t13 & chr1                                                                     & StringTie                                                                & gene                                                                     & 890777                                                                   & 890985                                                                   & .                                                                        & +                                                                        & .                                                                        & gene\\_id XLOC\\_000026; oId STRG.3.1;  class\\_code u;  tss\\_id TSS40;\\\\\n",
       "\t16 & chr1                                                                     & StringTie                                                                & gene                                                                     & 890998                                                                   & 891324                                                                   & .                                                                        & +                                                                        & .                                                                        & gene\\_id XLOC\\_000027; oId STRG.4.1;  class\\_code r;  tss\\_id TSS41;\\\\\n",
       "\\end{tabular}\n"
      ],
      "text/markdown": [
       "\n",
       "| <!--/--> | V1 | V2 | V3 | V4 | V5 | V6 | V7 | V8 | V9 |\n",
       "|---|---|---|---|---|---|---|---|---|---|\n",
       "| 1 | chr1                                                             | StringTie                                                        | gene                                                             | 180884                                                           | 181110                                                           | .                                                                | +                                                                | .                                                                | gene_id XLOC_000007; oId STRG.11.1;  class_code r;  tss_id TSS9; |\n",
       "| 4 | chr1                                                             | StringTie                                                        | gene                                                             | 268297                                                           | 268582                                                           | .                                                                | +                                                                | .                                                                | gene_id XLOC_000009;                                             |\n",
       "| 7 | chr1                                                             | StringTie                                                        | gene                                                             | 824435                                                           | 825064                                                           | .                                                                | +                                                                | .                                                                | gene_id XLOC_000022;                                             |\n",
       "| 10 | chr1                                                             | StringTie                                                        | gene                                                             | 863337                                                           | 863780                                                           | .                                                                | +                                                                | .                                                                | gene_id XLOC_000024; oId STRG.1.1;  class_code u;  tss_id TSS38; |\n",
       "| 13 | chr1                                                             | StringTie                                                        | gene                                                             | 890777                                                           | 890985                                                           | .                                                                | +                                                                | .                                                                | gene_id XLOC_000026; oId STRG.3.1;  class_code u;  tss_id TSS40; |\n",
       "| 16 | chr1                                                             | StringTie                                                        | gene                                                             | 890998                                                           | 891324                                                           | .                                                                | +                                                                | .                                                                | gene_id XLOC_000027; oId STRG.4.1;  class_code r;  tss_id TSS41; |\n",
       "\n"
      ],
      "text/plain": [
       "   V1   V2        V3   V4     V5     V6 V7 V8\n",
       "1  chr1 StringTie gene 180884 181110 .  +  . \n",
       "4  chr1 StringTie gene 268297 268582 .  +  . \n",
       "7  chr1 StringTie gene 824435 825064 .  +  . \n",
       "10 chr1 StringTie gene 863337 863780 .  +  . \n",
       "13 chr1 StringTie gene 890777 890985 .  +  . \n",
       "16 chr1 StringTie gene 890998 891324 .  +  . \n",
       "   V9                                                              \n",
       "1  gene_id XLOC_000007; oId STRG.11.1;  class_code r;  tss_id TSS9;\n",
       "4  gene_id XLOC_000009;                                            \n",
       "7  gene_id XLOC_000022;                                            \n",
       "10 gene_id XLOC_000024; oId STRG.1.1;  class_code u;  tss_id TSS38;\n",
       "13 gene_id XLOC_000026; oId STRG.3.1;  class_code u;  tss_id TSS40;\n",
       "16 gene_id XLOC_000027; oId STRG.4.1;  class_code r;  tss_id TSS41;"
      ]
     },
     "metadata": {},
     "output_type": "display_data"
    }
   ],
   "source": [
    "head(transcript_rows)"
   ]
  },
  {
   "cell_type": "code",
   "execution_count": 28,
   "id": "0a20b187",
   "metadata": {},
   "outputs": [
    {
     "data": {
      "text/plain": [
       "\n",
       "   15    23    24    25    26    27    28    29    30    31    32    33    34 \n",
       " 2394     3     4     3    21     2     9    16     2     2     9     1     2 \n",
       "   35    36    37    38    39    40    41    42    43    44    45    46    47 \n",
       "   16    10    10     1     1     1     1     9     3     7     2     1     3 \n",
       "   48    49    50    51    52    53    54    55    56    57  chr1 chr10 chr11 \n",
       "    9     3     3     4     2     1     8     2     5     4  8877  5060  4483 \n",
       "chr12 chr13 chr14 chr15 chr16 chr17 chr18 chr19  chr2 chr20 chr21  chr3  chr4 \n",
       " 4685  3343  3172  3324  3704  4556  2200  4697  8248  2838  1294  6000  4770 \n",
       " chr5  chr6  chr7  chr8  chr9 chrMT  chrX  chrY \n",
       " 5318  5806  5578  4088  4736     9  1231   172 "
      ]
     },
     "metadata": {},
     "output_type": "display_data"
    }
   ],
   "source": [
    "table(transcript_rows$V1)"
   ]
  },
  {
   "cell_type": "code",
   "execution_count": 29,
   "id": "a880453f",
   "metadata": {},
   "outputs": [],
   "source": [
    "transcript_rows <- transcript_rows[!grepl(\"^15\\\\b\", transcript_rows$V1), ]\n",
    "transcript_rows <- transcript_rows[!grepl(\"23\", transcript_rows$V1), ]\n",
    "transcript_rows <- transcript_rows[!grepl(\"24\", transcript_rows$V1), ]\n",
    "transcript_rows <- transcript_rows[!grepl(\"25\", transcript_rows$V1), ]\n",
    "transcript_rows <- transcript_rows[!grepl(\"26\", transcript_rows$V1), ]\n",
    "transcript_rows <- transcript_rows[!grepl(\"27\", transcript_rows$V1), ]\n",
    "transcript_rows <- transcript_rows[!grepl(\"28\", transcript_rows$V1), ]\n",
    "transcript_rows <- transcript_rows[!grepl(\"29\", transcript_rows$V1), ]\n",
    "transcript_rows <- transcript_rows[!grepl(\"30\", transcript_rows$V1), ]\n",
    "transcript_rows <- transcript_rows[!grepl(\"31\", transcript_rows$V1), ]\n",
    "transcript_rows <- transcript_rows[!grepl(\"32\", transcript_rows$V1), ]\n",
    "transcript_rows <- transcript_rows[!grepl(\"33\", transcript_rows$V1), ]\n",
    "transcript_rows <- transcript_rows[!grepl(\"34\", transcript_rows$V1), ]\n",
    "transcript_rows <- transcript_rows[!grepl(\"35\", transcript_rows$V1), ]\n",
    "transcript_rows <- transcript_rows[!grepl(\"36\", transcript_rows$V1), ]\n",
    "transcript_rows <- transcript_rows[!grepl(\"37\", transcript_rows$V1), ]\n",
    "transcript_rows <- transcript_rows[!grepl(\"38\", transcript_rows$V1), ]\n",
    "transcript_rows <- transcript_rows[!grepl(\"39\", transcript_rows$V1), ]\n",
    "transcript_rows <- transcript_rows[!grepl(\"40\", transcript_rows$V1), ]\n",
    "transcript_rows <- transcript_rows[!grepl(\"41\", transcript_rows$V1), ]\n",
    "transcript_rows <- transcript_rows[!grepl(\"42\", transcript_rows$V1), ]\n",
    "transcript_rows <- transcript_rows[!grepl(\"43\", transcript_rows$V1), ]\n",
    "transcript_rows <- transcript_rows[!grepl(\"44\", transcript_rows$V1), ]\n",
    "transcript_rows <- transcript_rows[!grepl(\"45\", transcript_rows$V1), ]\n",
    "transcript_rows <- transcript_rows[!grepl(\"46\", transcript_rows$V1), ]\n",
    "transcript_rows <- transcript_rows[!grepl(\"47\", transcript_rows$V1), ]\n",
    "transcript_rows <- transcript_rows[!grepl(\"48\", transcript_rows$V1), ]\n",
    "transcript_rows <- transcript_rows[!grepl(\"49\", transcript_rows$V1), ]\n",
    "transcript_rows <- transcript_rows[!grepl(\"50\", transcript_rows$V1), ]\n",
    "transcript_rows <- transcript_rows[!grepl(\"51\", transcript_rows$V1), ]\n",
    "transcript_rows <- transcript_rows[!grepl(\"52\", transcript_rows$V1), ]\n",
    "transcript_rows <- transcript_rows[!grepl(\"53\", transcript_rows$V1), ]\n",
    "transcript_rows <- transcript_rows[!grepl(\"54\", transcript_rows$V1), ]\n",
    "transcript_rows <- transcript_rows[!grepl(\"55\", transcript_rows$V1), ]\n",
    "transcript_rows <- transcript_rows[!grepl(\"56\", transcript_rows$V1), ]\n",
    "transcript_rows <- transcript_rows[!grepl(\"57\", transcript_rows$V1), ]"
   ]
  },
  {
   "cell_type": "code",
   "execution_count": 30,
   "id": "618578ac",
   "metadata": {},
   "outputs": [
    {
     "data": {
      "text/html": [
       "<table>\n",
       "<thead><tr><th></th><th scope=col>V1</th><th scope=col>V2</th><th scope=col>V3</th><th scope=col>V4</th><th scope=col>V5</th><th scope=col>V6</th><th scope=col>V7</th><th scope=col>V8</th><th scope=col>V9</th></tr></thead>\n",
       "<tbody>\n",
       "\t<tr><th scope=row>1</th><td>chr1                                                            </td><td>StringTie                                                       </td><td>gene                                                            </td><td>180884                                                          </td><td>181110                                                          </td><td>.                                                               </td><td>+                                                               </td><td>.                                                               </td><td>gene_id XLOC_000007; oId STRG.11.1;  class_code r;  tss_id TSS9;</td></tr>\n",
       "\t<tr><th scope=row>4</th><td>chr1                                                            </td><td>StringTie                                                       </td><td>gene                                                            </td><td>268297                                                          </td><td>268582                                                          </td><td>.                                                               </td><td>+                                                               </td><td>.                                                               </td><td>gene_id XLOC_000009;                                            </td></tr>\n",
       "\t<tr><th scope=row>7</th><td>chr1                                                            </td><td>StringTie                                                       </td><td>gene                                                            </td><td>824435                                                          </td><td>825064                                                          </td><td>.                                                               </td><td>+                                                               </td><td>.                                                               </td><td>gene_id XLOC_000022;                                            </td></tr>\n",
       "\t<tr><th scope=row>10</th><td>chr1                                                            </td><td>StringTie                                                       </td><td>gene                                                            </td><td>863337                                                          </td><td>863780                                                          </td><td>.                                                               </td><td>+                                                               </td><td>.                                                               </td><td>gene_id XLOC_000024; oId STRG.1.1;  class_code u;  tss_id TSS38;</td></tr>\n",
       "\t<tr><th scope=row>13</th><td>chr1                                                            </td><td>StringTie                                                       </td><td>gene                                                            </td><td>890777                                                          </td><td>890985                                                          </td><td>.                                                               </td><td>+                                                               </td><td>.                                                               </td><td>gene_id XLOC_000026; oId STRG.3.1;  class_code u;  tss_id TSS40;</td></tr>\n",
       "\t<tr><th scope=row>16</th><td>chr1                                                            </td><td>StringTie                                                       </td><td>gene                                                            </td><td>890998                                                          </td><td>891324                                                          </td><td>.                                                               </td><td>+                                                               </td><td>.                                                               </td><td>gene_id XLOC_000027; oId STRG.4.1;  class_code r;  tss_id TSS41;</td></tr>\n",
       "</tbody>\n",
       "</table>\n"
      ],
      "text/latex": [
       "\\begin{tabular}{r|lllllllll}\n",
       "  & V1 & V2 & V3 & V4 & V5 & V6 & V7 & V8 & V9\\\\\n",
       "\\hline\n",
       "\t1 & chr1                                                                     & StringTie                                                                & gene                                                                     & 180884                                                                   & 181110                                                                   & .                                                                        & +                                                                        & .                                                                        & gene\\_id XLOC\\_000007; oId STRG.11.1;  class\\_code r;  tss\\_id TSS9;\\\\\n",
       "\t4 & chr1                                                                 & StringTie                                                            & gene                                                                 & 268297                                                               & 268582                                                               & .                                                                    & +                                                                    & .                                                                    & gene\\_id XLOC\\_000009;                                            \\\\\n",
       "\t7 & chr1                                                                 & StringTie                                                            & gene                                                                 & 824435                                                               & 825064                                                               & .                                                                    & +                                                                    & .                                                                    & gene\\_id XLOC\\_000022;                                            \\\\\n",
       "\t10 & chr1                                                                     & StringTie                                                                & gene                                                                     & 863337                                                                   & 863780                                                                   & .                                                                        & +                                                                        & .                                                                        & gene\\_id XLOC\\_000024; oId STRG.1.1;  class\\_code u;  tss\\_id TSS38;\\\\\n",
       "\t13 & chr1                                                                     & StringTie                                                                & gene                                                                     & 890777                                                                   & 890985                                                                   & .                                                                        & +                                                                        & .                                                                        & gene\\_id XLOC\\_000026; oId STRG.3.1;  class\\_code u;  tss\\_id TSS40;\\\\\n",
       "\t16 & chr1                                                                     & StringTie                                                                & gene                                                                     & 890998                                                                   & 891324                                                                   & .                                                                        & +                                                                        & .                                                                        & gene\\_id XLOC\\_000027; oId STRG.4.1;  class\\_code r;  tss\\_id TSS41;\\\\\n",
       "\\end{tabular}\n"
      ],
      "text/markdown": [
       "\n",
       "| <!--/--> | V1 | V2 | V3 | V4 | V5 | V6 | V7 | V8 | V9 |\n",
       "|---|---|---|---|---|---|---|---|---|---|\n",
       "| 1 | chr1                                                             | StringTie                                                        | gene                                                             | 180884                                                           | 181110                                                           | .                                                                | +                                                                | .                                                                | gene_id XLOC_000007; oId STRG.11.1;  class_code r;  tss_id TSS9; |\n",
       "| 4 | chr1                                                             | StringTie                                                        | gene                                                             | 268297                                                           | 268582                                                           | .                                                                | +                                                                | .                                                                | gene_id XLOC_000009;                                             |\n",
       "| 7 | chr1                                                             | StringTie                                                        | gene                                                             | 824435                                                           | 825064                                                           | .                                                                | +                                                                | .                                                                | gene_id XLOC_000022;                                             |\n",
       "| 10 | chr1                                                             | StringTie                                                        | gene                                                             | 863337                                                           | 863780                                                           | .                                                                | +                                                                | .                                                                | gene_id XLOC_000024; oId STRG.1.1;  class_code u;  tss_id TSS38; |\n",
       "| 13 | chr1                                                             | StringTie                                                        | gene                                                             | 890777                                                           | 890985                                                           | .                                                                | +                                                                | .                                                                | gene_id XLOC_000026; oId STRG.3.1;  class_code u;  tss_id TSS40; |\n",
       "| 16 | chr1                                                             | StringTie                                                        | gene                                                             | 890998                                                           | 891324                                                           | .                                                                | +                                                                | .                                                                | gene_id XLOC_000027; oId STRG.4.1;  class_code r;  tss_id TSS41; |\n",
       "\n"
      ],
      "text/plain": [
       "   V1   V2        V3   V4     V5     V6 V7 V8\n",
       "1  chr1 StringTie gene 180884 181110 .  +  . \n",
       "4  chr1 StringTie gene 268297 268582 .  +  . \n",
       "7  chr1 StringTie gene 824435 825064 .  +  . \n",
       "10 chr1 StringTie gene 863337 863780 .  +  . \n",
       "13 chr1 StringTie gene 890777 890985 .  +  . \n",
       "16 chr1 StringTie gene 890998 891324 .  +  . \n",
       "   V9                                                              \n",
       "1  gene_id XLOC_000007; oId STRG.11.1;  class_code r;  tss_id TSS9;\n",
       "4  gene_id XLOC_000009;                                            \n",
       "7  gene_id XLOC_000022;                                            \n",
       "10 gene_id XLOC_000024; oId STRG.1.1;  class_code u;  tss_id TSS38;\n",
       "13 gene_id XLOC_000026; oId STRG.3.1;  class_code u;  tss_id TSS40;\n",
       "16 gene_id XLOC_000027; oId STRG.4.1;  class_code r;  tss_id TSS41;"
      ]
     },
     "metadata": {},
     "output_type": "display_data"
    }
   ],
   "source": [
    "head(transcript_rows)"
   ]
  },
  {
   "cell_type": "code",
   "execution_count": 31,
   "id": "92e75966",
   "metadata": {},
   "outputs": [],
   "source": [
    "transcript_rows_data<- transcript_rows[,c(1,4,5,3,9)]"
   ]
  },
  {
   "cell_type": "code",
   "execution_count": 35,
   "id": "b31ebcec",
   "metadata": {},
   "outputs": [
    {
     "data": {
      "text/html": [
       "<table>\n",
       "<thead><tr><th></th><th scope=col>V1</th><th scope=col>V4</th><th scope=col>V5</th><th scope=col>gene_id</th><th scope=col>V3</th></tr></thead>\n",
       "<tbody>\n",
       "\t<tr><th scope=row>1</th><td>chr1       </td><td>180884     </td><td>181110     </td><td>XLOC_000007</td><td>gene       </td></tr>\n",
       "\t<tr><th scope=row>4</th><td>chr1       </td><td>268297     </td><td>268582     </td><td>XLOC_000009</td><td>gene       </td></tr>\n",
       "\t<tr><th scope=row>7</th><td>chr1       </td><td>824435     </td><td>825064     </td><td>XLOC_000022</td><td>gene       </td></tr>\n",
       "\t<tr><th scope=row>10</th><td>chr1       </td><td>863337     </td><td>863780     </td><td>XLOC_000024</td><td>gene       </td></tr>\n",
       "\t<tr><th scope=row>13</th><td>chr1       </td><td>890777     </td><td>890985     </td><td>XLOC_000026</td><td>gene       </td></tr>\n",
       "\t<tr><th scope=row>16</th><td>chr1       </td><td>890998     </td><td>891324     </td><td>XLOC_000027</td><td>gene       </td></tr>\n",
       "</tbody>\n",
       "</table>\n"
      ],
      "text/latex": [
       "\\begin{tabular}{r|lllll}\n",
       "  & V1 & V4 & V5 & gene\\_id & V3\\\\\n",
       "\\hline\n",
       "\t1 & chr1          & 180884        & 181110        & XLOC\\_000007 & gene         \\\\\n",
       "\t4 & chr1          & 268297        & 268582        & XLOC\\_000009 & gene         \\\\\n",
       "\t7 & chr1          & 824435        & 825064        & XLOC\\_000022 & gene         \\\\\n",
       "\t10 & chr1          & 863337        & 863780        & XLOC\\_000024 & gene         \\\\\n",
       "\t13 & chr1          & 890777        & 890985        & XLOC\\_000026 & gene         \\\\\n",
       "\t16 & chr1          & 890998        & 891324        & XLOC\\_000027 & gene         \\\\\n",
       "\\end{tabular}\n"
      ],
      "text/markdown": [
       "\n",
       "| <!--/--> | V1 | V4 | V5 | gene_id | V3 |\n",
       "|---|---|---|---|---|---|\n",
       "| 1 | chr1        | 180884      | 181110      | XLOC_000007 | gene        |\n",
       "| 4 | chr1        | 268297      | 268582      | XLOC_000009 | gene        |\n",
       "| 7 | chr1        | 824435      | 825064      | XLOC_000022 | gene        |\n",
       "| 10 | chr1        | 863337      | 863780      | XLOC_000024 | gene        |\n",
       "| 13 | chr1        | 890777      | 890985      | XLOC_000026 | gene        |\n",
       "| 16 | chr1        | 890998      | 891324      | XLOC_000027 | gene        |\n",
       "\n"
      ],
      "text/plain": [
       "   V1   V4     V5     gene_id     V3  \n",
       "1  chr1 180884 181110 XLOC_000007 gene\n",
       "4  chr1 268297 268582 XLOC_000009 gene\n",
       "7  chr1 824435 825064 XLOC_000022 gene\n",
       "10 chr1 863337 863780 XLOC_000024 gene\n",
       "13 chr1 890777 890985 XLOC_000026 gene\n",
       "16 chr1 890998 891324 XLOC_000027 gene"
      ]
     },
     "metadata": {},
     "output_type": "display_data"
    }
   ],
   "source": [
    "head(transcript_rows_data)"
   ]
  },
  {
   "cell_type": "code",
   "execution_count": 33,
   "id": "3b9667c2",
   "metadata": {},
   "outputs": [],
   "source": [
    "transcript_rows_data$gene_id <- sub(\"^.*gene_id\\\\s+([^;]+);.*$\", \"\\\\1\", transcript_rows_data$V9)\n"
   ]
  },
  {
   "cell_type": "code",
   "execution_count": 34,
   "id": "1e6261aa",
   "metadata": {},
   "outputs": [],
   "source": [
    "transcript_rows_data<- transcript_rows_data[,c(1,2,3,6,4)]"
   ]
  },
  {
   "cell_type": "code",
   "execution_count": 36,
   "id": "cdc0d737",
   "metadata": {},
   "outputs": [],
   "source": [
    "setwd(\"~/piRNA/Workspaces/julia/lnc\")\n",
    "write.table(transcript_rows_data, file = \"not_annotated_testis.bed\", quote=FALSE, sep=\"\\t\", row.names = FALSE, col.names=FALSE)"
   ]
  },
  {
   "cell_type": "code",
   "execution_count": 78,
   "id": "cf5c807e",
   "metadata": {},
   "outputs": [],
   "source": [
    "setwd(\"~/piRNA/Workspaces/julia/lnc\")\n",
    "h19<- read.table(\"human_precursors_hg19.bed\", header=FALSE,sep=\"\\t\")"
   ]
  },
  {
   "cell_type": "code",
   "execution_count": 81,
   "id": "5cde1dbe",
   "metadata": {},
   "outputs": [
    {
     "data": {
      "text/html": [
       "<table>\n",
       "<thead><tr><th scope=col>V1</th><th scope=col>V2</th><th scope=col>V3</th><th scope=col>V4</th></tr></thead>\n",
       "<tbody>\n",
       "\t<tr><td>chr1         </td><td>  1496227    </td><td>  1509964    </td><td>pi-SSU72.1   </td></tr>\n",
       "\t<tr><td>chr1         </td><td>  1592939    </td><td>  1624167    </td><td>pi-SLC35E2B.1</td></tr>\n",
       "\t<tr><td>chr1         </td><td> 24577919    </td><td> 24662214    </td><td>1-p36-1107.1 </td></tr>\n",
       "\t<tr><td>chr1         </td><td>145209670    </td><td>145293590    </td><td>pi-NOTCH2NL.1</td></tr>\n",
       "\t<tr><td>chr1         </td><td>173837220    </td><td>173855774    </td><td>pi-ZBTB37.2  </td></tr>\n",
       "\t<tr><td>chr1         </td><td>173837220    </td><td>173872687    </td><td>pi-ZBTB37.1  </td></tr>\n",
       "</tbody>\n",
       "</table>\n"
      ],
      "text/latex": [
       "\\begin{tabular}{r|llll}\n",
       " V1 & V2 & V3 & V4\\\\\n",
       "\\hline\n",
       "\t chr1          &   1496227     &   1509964     & pi-SSU72.1   \\\\\n",
       "\t chr1          &   1592939     &   1624167     & pi-SLC35E2B.1\\\\\n",
       "\t chr1          &  24577919     &  24662214     & 1-p36-1107.1 \\\\\n",
       "\t chr1          & 145209670     & 145293590     & pi-NOTCH2NL.1\\\\\n",
       "\t chr1          & 173837220     & 173855774     & pi-ZBTB37.2  \\\\\n",
       "\t chr1          & 173837220     & 173872687     & pi-ZBTB37.1  \\\\\n",
       "\\end{tabular}\n"
      ],
      "text/markdown": [
       "\n",
       "| V1 | V2 | V3 | V4 |\n",
       "|---|---|---|---|\n",
       "| chr1          |   1496227     |   1509964     | pi-SSU72.1    |\n",
       "| chr1          |   1592939     |   1624167     | pi-SLC35E2B.1 |\n",
       "| chr1          |  24577919     |  24662214     | 1-p36-1107.1  |\n",
       "| chr1          | 145209670     | 145293590     | pi-NOTCH2NL.1 |\n",
       "| chr1          | 173837220     | 173855774     | pi-ZBTB37.2   |\n",
       "| chr1          | 173837220     | 173872687     | pi-ZBTB37.1   |\n",
       "\n"
      ],
      "text/plain": [
       "  V1   V2        V3        V4           \n",
       "1 chr1   1496227   1509964 pi-SSU72.1   \n",
       "2 chr1   1592939   1624167 pi-SLC35E2B.1\n",
       "3 chr1  24577919  24662214 1-p36-1107.1 \n",
       "4 chr1 145209670 145293590 pi-NOTCH2NL.1\n",
       "5 chr1 173837220 173855774 pi-ZBTB37.2  \n",
       "6 chr1 173837220 173872687 pi-ZBTB37.1  "
      ]
     },
     "metadata": {},
     "output_type": "display_data"
    }
   ],
   "source": [
    "head(h19)"
   ]
  },
  {
   "cell_type": "code",
   "execution_count": 80,
   "id": "70882779",
   "metadata": {},
   "outputs": [],
   "source": [
    "h19<- h19[,c(1,2,3,4)]"
   ]
  },
  {
   "cell_type": "code",
   "execution_count": 82,
   "id": "f7c87c8c",
   "metadata": {},
   "outputs": [],
   "source": [
    "write.table(h19, file = \"h19.bed\", quote=FALSE, sep=\"\\t\", row.names = FALSE, col.names=FALSE)"
   ]
  },
  {
   "cell_type": "markdown",
   "id": "6e5206d5",
   "metadata": {},
   "source": [
    "awk '{OFS=\"\\t\"; print $1,$2,$3,$5,$4}' human_precursors_hg38.bed |awk -F \".\" '{print $1}'|sort -u > human_precursors_hg38_uniq.bed"
   ]
  },
  {
   "cell_type": "code",
   "execution_count": 110,
   "id": "22e4aa99",
   "metadata": {},
   "outputs": [],
   "source": [
    "setwd(\"~/piRNA/Workspaces/julia/lnc\")\n",
    "h38<- read.table(\"human_precursors_hg38_uniq.bed\", header=FALSE,sep=\"\\t\")"
   ]
  },
  {
   "cell_type": "code",
   "execution_count": 112,
   "id": "cf8231bf",
   "metadata": {},
   "outputs": [],
   "source": [
    "h38$len<- h38$V3 - h38$V2"
   ]
  },
  {
   "cell_type": "code",
   "execution_count": 113,
   "id": "779c0ffa",
   "metadata": {},
   "outputs": [
    {
     "data": {
      "text/html": [
       "<table>\n",
       "<thead><tr><th scope=col>V1</th><th scope=col>V2</th><th scope=col>V3</th><th scope=col>V4</th><th scope=col>V5</th><th scope=col>len</th></tr></thead>\n",
       "<tbody>\n",
       "\t<tr><td>chr10       </td><td>103493978   </td><td>103606454   </td><td>Prepachytene</td><td>pi-NEURL1   </td><td>112476      </td></tr>\n",
       "\t<tr><td>chr10       </td><td>103594026   </td><td>103855543   </td><td>Prepachytene</td><td>pi-SH3PXD2A </td><td>261517      </td></tr>\n",
       "\t<tr><td>chr10       </td><td> 28789400   </td><td> 28795995   </td><td>Pachytene   </td><td>10-p11-10777</td><td>  6595      </td></tr>\n",
       "\t<tr><td>chr10       </td><td> 44997697   </td><td> 45000888   </td><td>Pachytene   </td><td>10-q11-242  </td><td>  3191      </td></tr>\n",
       "\t<tr><td>chr10       </td><td> 77763999   </td><td> 77783913   </td><td>Pachytene   </td><td>10-q22-16903</td><td> 19914      </td></tr>\n",
       "\t<tr><td>chr10       </td><td> 83560992   </td><td> 83565126   </td><td>Pachytene   </td><td>10-q22-295  </td><td>  4134      </td></tr>\n",
       "</tbody>\n",
       "</table>\n"
      ],
      "text/latex": [
       "\\begin{tabular}{r|llllll}\n",
       " V1 & V2 & V3 & V4 & V5 & len\\\\\n",
       "\\hline\n",
       "\t chr10        & 103493978    & 103606454    & Prepachytene & pi-NEURL1    & 112476      \\\\\n",
       "\t chr10        & 103594026    & 103855543    & Prepachytene & pi-SH3PXD2A  & 261517      \\\\\n",
       "\t chr10        &  28789400    &  28795995    & Pachytene    & 10-p11-10777 &   6595      \\\\\n",
       "\t chr10        &  44997697    &  45000888    & Pachytene    & 10-q11-242   &   3191      \\\\\n",
       "\t chr10        &  77763999    &  77783913    & Pachytene    & 10-q22-16903 &  19914      \\\\\n",
       "\t chr10        &  83560992    &  83565126    & Pachytene    & 10-q22-295   &   4134      \\\\\n",
       "\\end{tabular}\n"
      ],
      "text/markdown": [
       "\n",
       "| V1 | V2 | V3 | V4 | V5 | len |\n",
       "|---|---|---|---|---|---|\n",
       "| chr10        | 103493978    | 103606454    | Prepachytene | pi-NEURL1    | 112476       |\n",
       "| chr10        | 103594026    | 103855543    | Prepachytene | pi-SH3PXD2A  | 261517       |\n",
       "| chr10        |  28789400    |  28795995    | Pachytene    | 10-p11-10777 |   6595       |\n",
       "| chr10        |  44997697    |  45000888    | Pachytene    | 10-q11-242   |   3191       |\n",
       "| chr10        |  77763999    |  77783913    | Pachytene    | 10-q22-16903 |  19914       |\n",
       "| chr10        |  83560992    |  83565126    | Pachytene    | 10-q22-295   |   4134       |\n",
       "\n"
      ],
      "text/plain": [
       "  V1    V2        V3        V4           V5           len   \n",
       "1 chr10 103493978 103606454 Prepachytene pi-NEURL1    112476\n",
       "2 chr10 103594026 103855543 Prepachytene pi-SH3PXD2A  261517\n",
       "3 chr10  28789400  28795995 Pachytene    10-p11-10777   6595\n",
       "4 chr10  44997697  45000888 Pachytene    10-q11-242     3191\n",
       "5 chr10  77763999  77783913 Pachytene    10-q22-16903  19914\n",
       "6 chr10  83560992  83565126 Pachytene    10-q22-295     4134"
      ]
     },
     "metadata": {},
     "output_type": "display_data"
    }
   ],
   "source": [
    "head(h38)"
   ]
  },
  {
   "cell_type": "code",
   "execution_count": 114,
   "id": "7ce79e89",
   "metadata": {},
   "outputs": [
    {
     "name": "stderr",
     "output_type": "stream",
     "text": [
      "\n",
      "Attaching package: ‘dplyr’\n",
      "\n",
      "The following objects are masked from ‘package:stats’:\n",
      "\n",
      "    filter, lag\n",
      "\n",
      "The following objects are masked from ‘package:base’:\n",
      "\n",
      "    intersect, setdiff, setequal, union\n",
      "\n"
     ]
    }
   ],
   "source": [
    "library(dplyr)"
   ]
  },
  {
   "cell_type": "code",
   "execution_count": 115,
   "id": "6e44c0c1",
   "metadata": {},
   "outputs": [],
   "source": [
    "h38_max <- h38 %>%\n",
    "    group_by(V5) %>%\n",
    "    slice(which.max(len))"
   ]
  },
  {
   "cell_type": "code",
   "execution_count": 116,
   "id": "47585d1b",
   "metadata": {},
   "outputs": [
    {
     "data": {
      "text/html": [
       "<table>\n",
       "<thead><tr><th scope=col>V1</th><th scope=col>V2</th><th scope=col>V3</th><th scope=col>V4</th><th scope=col>V5</th><th scope=col>len</th></tr></thead>\n",
       "<tbody>\n",
       "\t<tr><td>chr1        </td><td> 24251429   </td><td> 24335724   </td><td>Pachytene   </td><td>1-p36-1107  </td><td>84295       </td></tr>\n",
       "\t<tr><td>chr1        </td><td>179585426   </td><td>179591786   </td><td>Pachytene   </td><td>1-q25-2976  </td><td> 6360       </td></tr>\n",
       "\t<tr><td>chr1        </td><td>222471907   </td><td>222489700   </td><td>Prepachytene</td><td>1-q41-289   </td><td>17793       </td></tr>\n",
       "\t<tr><td>chr10       </td><td> 28789400   </td><td> 28795995   </td><td>Pachytene   </td><td>10-p11-10777</td><td> 6595       </td></tr>\n",
       "\t<tr><td>chr10       </td><td> 44997697   </td><td> 45000888   </td><td>Pachytene   </td><td>10-q11-242  </td><td> 3191       </td></tr>\n",
       "\t<tr><td>chr10       </td><td> 77763999   </td><td> 77783913   </td><td>Pachytene   </td><td>10-q22-16903</td><td>19914       </td></tr>\n",
       "</tbody>\n",
       "</table>\n"
      ],
      "text/latex": [
       "\\begin{tabular}{r|llllll}\n",
       " V1 & V2 & V3 & V4 & V5 & len\\\\\n",
       "\\hline\n",
       "\t chr1         &  24251429    &  24335724    & Pachytene    & 1-p36-1107   & 84295       \\\\\n",
       "\t chr1         & 179585426    & 179591786    & Pachytene    & 1-q25-2976   &  6360       \\\\\n",
       "\t chr1         & 222471907    & 222489700    & Prepachytene & 1-q41-289    & 17793       \\\\\n",
       "\t chr10        &  28789400    &  28795995    & Pachytene    & 10-p11-10777 &  6595       \\\\\n",
       "\t chr10        &  44997697    &  45000888    & Pachytene    & 10-q11-242   &  3191       \\\\\n",
       "\t chr10        &  77763999    &  77783913    & Pachytene    & 10-q22-16903 & 19914       \\\\\n",
       "\\end{tabular}\n"
      ],
      "text/markdown": [
       "\n",
       "| V1 | V2 | V3 | V4 | V5 | len |\n",
       "|---|---|---|---|---|---|\n",
       "| chr1         |  24251429    |  24335724    | Pachytene    | 1-p36-1107   | 84295        |\n",
       "| chr1         | 179585426    | 179591786    | Pachytene    | 1-q25-2976   |  6360        |\n",
       "| chr1         | 222471907    | 222489700    | Prepachytene | 1-q41-289    | 17793        |\n",
       "| chr10        |  28789400    |  28795995    | Pachytene    | 10-p11-10777 |  6595        |\n",
       "| chr10        |  44997697    |  45000888    | Pachytene    | 10-q11-242   |  3191        |\n",
       "| chr10        |  77763999    |  77783913    | Pachytene    | 10-q22-16903 | 19914        |\n",
       "\n"
      ],
      "text/plain": [
       "  V1    V2        V3        V4           V5           len  \n",
       "1 chr1   24251429  24335724 Pachytene    1-p36-1107   84295\n",
       "2 chr1  179585426 179591786 Pachytene    1-q25-2976    6360\n",
       "3 chr1  222471907 222489700 Prepachytene 1-q41-289    17793\n",
       "4 chr10  28789400  28795995 Pachytene    10-p11-10777  6595\n",
       "5 chr10  44997697  45000888 Pachytene    10-q11-242    3191\n",
       "6 chr10  77763999  77783913 Pachytene    10-q22-16903 19914"
      ]
     },
     "metadata": {},
     "output_type": "display_data"
    }
   ],
   "source": [
    "head(h38_max)"
   ]
  },
  {
   "cell_type": "code",
   "execution_count": 119,
   "id": "148fcd30",
   "metadata": {},
   "outputs": [],
   "source": [
    "write.table(h38_max, file = \"h38.bed\", quote=FALSE, sep=\"\\t\", row.names = FALSE, col.names=FALSE)"
   ]
  },
  {
   "cell_type": "code",
   "execution_count": 4,
   "id": "1ed8fc3a",
   "metadata": {},
   "outputs": [],
   "source": [
    "#chromosome data\n",
    "setwd(\"~/piRNA/Workspaces/julia/PrimaryData/ref_data/human\")\n",
    "chromosome_data<- read.table(\"summary_chroms.tsv\", header=TRUE)"
   ]
  },
  {
   "cell_type": "code",
   "execution_count": 2,
   "id": "2f0e3331",
   "metadata": {},
   "outputs": [],
   "source": [
    "setwd(\"~/piRNA/Workspaces/julia/zamore_lab/coverage\")\n",
    "A1<- read.table(\"A1_coverage.bed\", header=FALSE)"
   ]
  },
  {
   "cell_type": "code",
   "execution_count": 3,
   "id": "e3b74180",
   "metadata": {},
   "outputs": [],
   "source": [
    "names(A1)[names(A1) == \"V1\"]<- \"REFSEQ_CHROM\"\n"
   ]
  },
  {
   "cell_type": "code",
   "execution_count": 4,
   "id": "91cb044a",
   "metadata": {},
   "outputs": [],
   "source": [
    "coverage<- merge(A1, chromosome_data, by= \"REFSEQ_CHROM\")"
   ]
  },
  {
   "cell_type": "code",
   "execution_count": 9,
   "id": "65d32164",
   "metadata": {},
   "outputs": [
    {
     "data": {
      "text/html": [
       "<table>\n",
       "<thead><tr><th scope=col>UCSC_CHROM</th><th scope=col>pos</th><th scope=col>V2</th><th scope=col>V3</th></tr></thead>\n",
       "<tbody>\n",
       "\t<tr><td>chr1 </td><td>10544</td><td>10545</td><td>1    </td></tr>\n",
       "\t<tr><td>chr1 </td><td>10545</td><td>10546</td><td>1    </td></tr>\n",
       "\t<tr><td>chr1 </td><td>10546</td><td>10547</td><td>1    </td></tr>\n",
       "\t<tr><td>chr1 </td><td>10547</td><td>10548</td><td>1    </td></tr>\n",
       "\t<tr><td>chr1 </td><td>10548</td><td>10549</td><td>1    </td></tr>\n",
       "\t<tr><td>chr1 </td><td>10549</td><td>10550</td><td>1    </td></tr>\n",
       "</tbody>\n",
       "</table>\n"
      ],
      "text/latex": [
       "\\begin{tabular}{r|llll}\n",
       " UCSC\\_CHROM & pos & V2 & V3\\\\\n",
       "\\hline\n",
       "\t chr1  & 10544 & 10545 & 1    \\\\\n",
       "\t chr1  & 10545 & 10546 & 1    \\\\\n",
       "\t chr1  & 10546 & 10547 & 1    \\\\\n",
       "\t chr1  & 10547 & 10548 & 1    \\\\\n",
       "\t chr1  & 10548 & 10549 & 1    \\\\\n",
       "\t chr1  & 10549 & 10550 & 1    \\\\\n",
       "\\end{tabular}\n"
      ],
      "text/markdown": [
       "\n",
       "| UCSC_CHROM | pos | V2 | V3 |\n",
       "|---|---|---|---|\n",
       "| chr1  | 10544 | 10545 | 1     |\n",
       "| chr1  | 10545 | 10546 | 1     |\n",
       "| chr1  | 10546 | 10547 | 1     |\n",
       "| chr1  | 10547 | 10548 | 1     |\n",
       "| chr1  | 10548 | 10549 | 1     |\n",
       "| chr1  | 10549 | 10550 | 1     |\n",
       "\n"
      ],
      "text/plain": [
       "  UCSC_CHROM pos   V2    V3\n",
       "1 chr1       10544 10545 1 \n",
       "2 chr1       10545 10546 1 \n",
       "3 chr1       10546 10547 1 \n",
       "4 chr1       10547 10548 1 \n",
       "5 chr1       10548 10549 1 \n",
       "6 chr1       10549 10550 1 "
      ]
     },
     "metadata": {},
     "output_type": "display_data"
    }
   ],
   "source": [
    "head(coverage)"
   ]
  },
  {
   "cell_type": "code",
   "execution_count": 6,
   "id": "d4e62e3b",
   "metadata": {},
   "outputs": [],
   "source": [
    "coverage$pos <- coverage$V2 - 1"
   ]
  },
  {
   "cell_type": "code",
   "execution_count": 8,
   "id": "efc55110",
   "metadata": {},
   "outputs": [],
   "source": [
    "coverage<- coverage[,c(5,7,2,3)]"
   ]
  },
  {
   "cell_type": "code",
   "execution_count": 10,
   "id": "160f8cc1",
   "metadata": {},
   "outputs": [],
   "source": [
    "options(scipen = 99999)"
   ]
  },
  {
   "cell_type": "code",
   "execution_count": 11,
   "id": "b4dc305a",
   "metadata": {},
   "outputs": [],
   "source": [
    "setwd(\"~/piRNA/Workspaces/julia/zamore_lab/coverage\")\n",
    "write.table(coverage, file = \"A1_coverage.bed\", quote=FALSE, sep=\"\\t\", row.names = FALSE, col.names=FALSE)"
   ]
  },
  {
   "cell_type": "code",
   "execution_count": 7,
   "id": "124146b7",
   "metadata": {},
   "outputs": [],
   "source": [
    "setwd(\"~/piRNA/Workspaces/julia/zamore_lab/coverage\")\n",
    "A2<- read.table(\"A2_coverage.bed\", header=FALSE)"
   ]
  },
  {
   "cell_type": "code",
   "execution_count": 8,
   "id": "88f3dc52",
   "metadata": {},
   "outputs": [],
   "source": [
    "names(A2)[names(A2) == \"V1\"]<- \"REFSEQ_CHROM\""
   ]
  },
  {
   "cell_type": "code",
   "execution_count": 9,
   "id": "31d4cf77",
   "metadata": {},
   "outputs": [],
   "source": [
    "coverage<- merge(A2, chromosome_data, by= \"REFSEQ_CHROM\")"
   ]
  },
  {
   "cell_type": "code",
   "execution_count": 10,
   "id": "d19fa620",
   "metadata": {},
   "outputs": [],
   "source": [
    "coverage$pos <- coverage$V2 - 1"
   ]
  },
  {
   "cell_type": "code",
   "execution_count": 11,
   "id": "c59e6a02",
   "metadata": {},
   "outputs": [],
   "source": [
    "coverage<- coverage[,c(5,7,2,3)]"
   ]
  },
  {
   "cell_type": "code",
   "execution_count": 12,
   "id": "14215e04",
   "metadata": {},
   "outputs": [],
   "source": [
    "options(scipen = 99999)"
   ]
  },
  {
   "cell_type": "code",
   "execution_count": 13,
   "id": "011c6adf",
   "metadata": {},
   "outputs": [],
   "source": [
    "setwd(\"~/piRNA/Workspaces/julia/zamore_lab/coverage\")\n",
    "write.table(coverage, file = \"A2_coverage.bed\", quote=FALSE, sep=\"\\t\", row.names = FALSE, col.names=FALSE)"
   ]
  },
  {
   "cell_type": "code",
   "execution_count": 2,
   "id": "996f78e7",
   "metadata": {},
   "outputs": [],
   "source": [
    "setwd(\"~/piRNA/Workspaces/julia/zamore_lab/coverage\")\n",
    "A3<- read.table(\"A3_coverage.bed\", header=FALSE)"
   ]
  },
  {
   "cell_type": "code",
   "execution_count": 5,
   "id": "9d1562d7",
   "metadata": {},
   "outputs": [],
   "source": [
    "names(A3)[names(A3) == \"V1\"]<- \"REFSEQ_CHROM\"\n",
    "coverage<- merge(A3, chromosome_data, by= \"REFSEQ_CHROM\")\n",
    "coverage$pos <- coverage$V2 - 1\n",
    "coverage<- coverage[,c(5,7,2,3)]\n",
    "options(scipen = 99999)"
   ]
  },
  {
   "cell_type": "code",
   "execution_count": 14,
   "id": "8cbcab98",
   "metadata": {},
   "outputs": [],
   "source": [
    "setwd(\"~/piRNA/Workspaces/julia/zamore_lab/coverage\")\n",
    "write.table(coverage, file = \"A4_coverage.bed\", quote=FALSE, sep=\"\\t\", row.names = FALSE, col.names=FALSE)"
   ]
  },
  {
   "cell_type": "code",
   "execution_count": 18,
   "id": "2cd63aae",
   "metadata": {},
   "outputs": [],
   "source": [
    "setwd(\"~/piRNA/Workspaces/julia/piRNA/unique_mapping/unique_coverage/Hum1\")\n",
    "Hum1<- read.table(\"Hum1_coverage\", header=FALSE)"
   ]
  },
  {
   "cell_type": "code",
   "execution_count": 19,
   "id": "7d1cf5db",
   "metadata": {},
   "outputs": [],
   "source": [
    "names(Hum1)[names(Hum1) == \"V1\"]<- \"REFSEQ_CHROM\"\n",
    "coverage<- merge(Hum1, chromosome_data, by= \"REFSEQ_CHROM\")\n",
    "coverage$pos <- coverage$V2 - 1\n",
    "coverage<- coverage[,c(5,7,2,3)]\n",
    "options(scipen = 99999)"
   ]
  },
  {
   "cell_type": "code",
   "execution_count": 20,
   "id": "312c9d85",
   "metadata": {},
   "outputs": [],
   "source": [
    "write.table(coverage, file = \"Hum1_coverage.bed\", quote=FALSE, sep=\"\\t\", row.names = FALSE, col.names=FALSE)"
   ]
  }
 ],
 "metadata": {
  "kernelspec": {
   "display_name": "R",
   "language": "R",
   "name": "ir"
  },
  "language_info": {
   "codemirror_mode": "r",
   "file_extension": ".r",
   "mimetype": "text/x-r-source",
   "name": "R",
   "pygments_lexer": "r",
   "version": "3.6.1"
  }
 },
 "nbformat": 4,
 "nbformat_minor": 5
}
