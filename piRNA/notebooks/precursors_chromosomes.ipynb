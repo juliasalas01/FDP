{
 "cells": [
  {
   "cell_type": "code",
   "execution_count": 2,
   "id": "d6ebef7c",
   "metadata": {},
   "outputs": [
    {
     "name": "stderr",
     "output_type": "stream",
     "text": [
      "\n",
      "Attaching package: ‘dplyr’\n",
      "\n",
      "The following objects are masked from ‘package:stats’:\n",
      "\n",
      "    filter, lag\n",
      "\n",
      "The following objects are masked from ‘package:base’:\n",
      "\n",
      "    intersect, setdiff, setequal, union\n",
      "\n"
     ]
    }
   ],
   "source": [
    "library(\"dplyr\")"
   ]
  },
  {
   "cell_type": "code",
   "execution_count": 1,
   "id": "06ae7359",
   "metadata": {},
   "outputs": [],
   "source": [
    "setwd(\"~/piRNA/Workspaces/julia/sequence_diversity/precursors\")\n",
    "h38<- read.table(\"h38.bed\", header=FALSE,sep=\"\\t\")"
   ]
  },
  {
   "cell_type": "code",
   "execution_count": 5,
   "id": "95ced1f9",
   "metadata": {},
   "outputs": [
    {
     "data": {
      "text/plain": [
       "\n",
       " chr1 chr10 chr11 chr12 chr13 chr14 chr15 chr16 chr17 chr18 chr19  chr2 chr20 \n",
       "    7     9     9    11     2     3    21    11    12     4     8    10     4 \n",
       "chr21 chr22  chr3  chr4  chr5  chr6  chr7  chr8  chr9  chrX \n",
       "    2     6    11     1     6    14     4     5    20     2 "
      ]
     },
     "metadata": {},
     "output_type": "display_data"
    }
   ],
   "source": [
    "table(h38$V1)"
   ]
  },
  {
   "cell_type": "code",
   "execution_count": 3,
   "id": "fd427f9d",
   "metadata": {},
   "outputs": [],
   "source": [
    "chr1<- h38 %>% filter(V1==\"chr1\")"
   ]
  },
  {
   "cell_type": "code",
   "execution_count": 4,
   "id": "305046fa",
   "metadata": {},
   "outputs": [
    {
     "data": {
      "text/html": [
       "7"
      ],
      "text/latex": [
       "7"
      ],
      "text/markdown": [
       "7"
      ],
      "text/plain": [
       "[1] 7"
      ]
     },
     "metadata": {},
     "output_type": "display_data"
    }
   ],
   "source": [
    "nrow(chr1)"
   ]
  },
  {
   "cell_type": "code",
   "execution_count": 6,
   "id": "133a15c4",
   "metadata": {},
   "outputs": [],
   "source": [
    "chr2<- h38 %>% filter(V1==\"chr2\")"
   ]
  },
  {
   "cell_type": "code",
   "execution_count": 7,
   "id": "0feb1ced",
   "metadata": {},
   "outputs": [],
   "source": [
    "chr3<- h38 %>% filter(V1==\"chr3\")"
   ]
  },
  {
   "cell_type": "code",
   "execution_count": 8,
   "id": "91df2339",
   "metadata": {},
   "outputs": [],
   "source": [
    "chr4<- h38 %>% filter(V1==\"chr4\")"
   ]
  },
  {
   "cell_type": "code",
   "execution_count": 9,
   "id": "39bfa90e",
   "metadata": {},
   "outputs": [],
   "source": [
    "chr5<- h38 %>% filter(V1==\"chr5\")"
   ]
  },
  {
   "cell_type": "code",
   "execution_count": 10,
   "id": "d4ec5af8",
   "metadata": {},
   "outputs": [],
   "source": [
    "chr6<- h38 %>% filter(V1==\"chr6\")"
   ]
  },
  {
   "cell_type": "code",
   "execution_count": 11,
   "id": "a5442140",
   "metadata": {},
   "outputs": [],
   "source": [
    "chr7<- h38 %>% filter(V1==\"chr7\")"
   ]
  },
  {
   "cell_type": "code",
   "execution_count": 12,
   "id": "4a685d6d",
   "metadata": {},
   "outputs": [],
   "source": [
    "chr8<- h38 %>% filter(V1==\"chr8\")"
   ]
  },
  {
   "cell_type": "code",
   "execution_count": 13,
   "id": "8de98d43",
   "metadata": {},
   "outputs": [],
   "source": [
    "chr9<- h38 %>% filter(V1==\"chr9\")"
   ]
  },
  {
   "cell_type": "code",
   "execution_count": 14,
   "id": "29b3ea17",
   "metadata": {},
   "outputs": [],
   "source": [
    "chr10<- h38 %>% filter(V1==\"chr10\")"
   ]
  },
  {
   "cell_type": "code",
   "execution_count": 15,
   "id": "affe6727",
   "metadata": {},
   "outputs": [],
   "source": [
    "chr11<- h38 %>% filter(V1==\"chr11\")"
   ]
  },
  {
   "cell_type": "code",
   "execution_count": 16,
   "id": "5f82cb51",
   "metadata": {},
   "outputs": [],
   "source": [
    "chr12<- h38 %>% filter(V1==\"chr12\")"
   ]
  },
  {
   "cell_type": "code",
   "execution_count": 17,
   "id": "9883f5b7",
   "metadata": {},
   "outputs": [],
   "source": [
    "chr13<- h38 %>% filter(V1==\"chr13\")"
   ]
  },
  {
   "cell_type": "code",
   "execution_count": 18,
   "id": "084efae5",
   "metadata": {},
   "outputs": [],
   "source": [
    "chr14<- h38 %>% filter(V1==\"chr14\")"
   ]
  },
  {
   "cell_type": "code",
   "execution_count": 19,
   "id": "1e22d48a",
   "metadata": {},
   "outputs": [],
   "source": [
    "chr15<- h38 %>% filter(V1==\"chr15\")"
   ]
  },
  {
   "cell_type": "code",
   "execution_count": 20,
   "id": "3ce14588",
   "metadata": {},
   "outputs": [],
   "source": [
    "chr16<- h38 %>% filter(V1==\"chr16\")"
   ]
  },
  {
   "cell_type": "code",
   "execution_count": 21,
   "id": "822c70b3",
   "metadata": {},
   "outputs": [],
   "source": [
    "chr17<- h38 %>% filter(V1==\"chr17\")"
   ]
  },
  {
   "cell_type": "code",
   "execution_count": 22,
   "id": "18126db7",
   "metadata": {},
   "outputs": [],
   "source": [
    "chr18<- h38 %>% filter(V1==\"chr18\")"
   ]
  },
  {
   "cell_type": "code",
   "execution_count": 23,
   "id": "b25a0778",
   "metadata": {},
   "outputs": [],
   "source": [
    "chr19<- h38 %>% filter(V1==\"chr19\")"
   ]
  },
  {
   "cell_type": "code",
   "execution_count": 24,
   "id": "8aaf7562",
   "metadata": {},
   "outputs": [],
   "source": [
    "chr20<- h38 %>% filter(V1==\"chr20\")"
   ]
  },
  {
   "cell_type": "code",
   "execution_count": 25,
   "id": "5ca1b3e7",
   "metadata": {},
   "outputs": [],
   "source": [
    "chr21<- h38 %>% filter(V1==\"chr21\")"
   ]
  },
  {
   "cell_type": "code",
   "execution_count": 26,
   "id": "78691461",
   "metadata": {},
   "outputs": [],
   "source": [
    "chr22<- h38 %>% filter(V1==\"chr22\")"
   ]
  },
  {
   "cell_type": "code",
   "execution_count": 27,
   "id": "1e5f07e8",
   "metadata": {},
   "outputs": [],
   "source": [
    "chrX<- h38 %>% filter(V1==\"chrX\")"
   ]
  },
  {
   "cell_type": "code",
   "execution_count": 53,
   "id": "9b8b85dd",
   "metadata": {},
   "outputs": [],
   "source": [
    "setwd(\"~/piRNA/Workspaces/julia/sequence_diversity/precursors\")\n",
    "write.table(chrX, file = \"chrX.bed\", quote=FALSE, sep=\"\\t\", row.names = FALSE, col.names=FALSE)"
   ]
  },
  {
   "cell_type": "code",
   "execution_count": null,
   "id": "3720a96f",
   "metadata": {},
   "outputs": [],
   "source": []
  }
 ],
 "metadata": {
  "kernelspec": {
   "display_name": "R",
   "language": "R",
   "name": "ir"
  },
  "language_info": {
   "codemirror_mode": "r",
   "file_extension": ".r",
   "mimetype": "text/x-r-source",
   "name": "R",
   "pygments_lexer": "r",
   "version": "3.6.1"
  }
 },
 "nbformat": 4,
 "nbformat_minor": 5
}
