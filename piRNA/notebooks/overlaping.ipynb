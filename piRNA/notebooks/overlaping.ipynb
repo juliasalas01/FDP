{
 "cells": [
  {
   "cell_type": "code",
   "execution_count": 1,
   "id": "d58ad687",
   "metadata": {},
   "outputs": [
    {
     "name": "stderr",
     "output_type": "stream",
     "text": [
      "\n",
      "Attaching package: ‘dplyr’\n",
      "\n",
      "The following objects are masked from ‘package:stats’:\n",
      "\n",
      "    filter, lag\n",
      "\n",
      "The following objects are masked from ‘package:base’:\n",
      "\n",
      "    intersect, setdiff, setequal, union\n",
      "\n"
     ]
    }
   ],
   "source": [
    "library(\"dplyr\")\n",
    "library(\"ggplot2\")\n",
    "library(\"tidyr\")\n"
   ]
  },
  {
   "cell_type": "code",
   "execution_count": 3,
   "id": "55581c95",
   "metadata": {},
   "outputs": [
    {
     "data": {
      "text/html": [
       "<table>\n",
       "<thead><tr><th scope=col>UCSC_CHROM</th><th scope=col>position</th><th scope=col>V3</th><th scope=col>V5</th></tr></thead>\n",
       "<tbody>\n",
       "\t<tr><td>chr1        </td><td> 1496227    </td><td> 1509964    </td><td>Prepachytene</td></tr>\n",
       "\t<tr><td>chr11       </td><td> 8040790    </td><td> 8127654    </td><td>Prepachytene</td></tr>\n",
       "\t<tr><td>chr6        </td><td>34857041    </td><td>35059190    </td><td>Prepachytene</td></tr>\n",
       "\t<tr><td>chr6        </td><td>38136226    </td><td>38607700    </td><td>Prepachytene</td></tr>\n",
       "\t<tr><td>chr6        </td><td>41757633    </td><td>41861898    </td><td>Prepachytene</td></tr>\n",
       "\t<tr><td>chr6        </td><td>41765382    </td><td>41863099    </td><td>Prepachytene</td></tr>\n",
       "</tbody>\n",
       "</table>\n"
      ],
      "text/latex": [
       "\\begin{tabular}{r|llll}\n",
       " UCSC\\_CHROM & position & V3 & V5\\\\\n",
       "\\hline\n",
       "\t chr1         &  1496227     &  1509964     & Prepachytene\\\\\n",
       "\t chr11        &  8040790     &  8127654     & Prepachytene\\\\\n",
       "\t chr6         & 34857041     & 35059190     & Prepachytene\\\\\n",
       "\t chr6         & 38136226     & 38607700     & Prepachytene\\\\\n",
       "\t chr6         & 41757633     & 41861898     & Prepachytene\\\\\n",
       "\t chr6         & 41765382     & 41863099     & Prepachytene\\\\\n",
       "\\end{tabular}\n"
      ],
      "text/markdown": [
       "\n",
       "| UCSC_CHROM | position | V3 | V5 |\n",
       "|---|---|---|---|\n",
       "| chr1         |  1496227     |  1509964     | Prepachytene |\n",
       "| chr11        |  8040790     |  8127654     | Prepachytene |\n",
       "| chr6         | 34857041     | 35059190     | Prepachytene |\n",
       "| chr6         | 38136226     | 38607700     | Prepachytene |\n",
       "| chr6         | 41757633     | 41861898     | Prepachytene |\n",
       "| chr6         | 41765382     | 41863099     | Prepachytene |\n",
       "\n"
      ],
      "text/plain": [
       "  UCSC_CHROM position V3       V5          \n",
       "1 chr1        1496227  1509964 Prepachytene\n",
       "2 chr11       8040790  8127654 Prepachytene\n",
       "3 chr6       34857041 35059190 Prepachytene\n",
       "4 chr6       38136226 38607700 Prepachytene\n",
       "5 chr6       41757633 41861898 Prepachytene\n",
       "6 chr6       41765382 41863099 Prepachytene"
      ]
     },
     "metadata": {},
     "output_type": "display_data"
    }
   ],
   "source": [
    "setwd(\"~/piRNA/Workspaces/julia/PrimaryData/ref_data/human\")\n",
    "#chromosome data\n",
    "chromosome_data<- read.table(\"summary_chroms.tsv\", header=TRUE)\n",
    "#Precursors\n",
    "data_precursors<- read.table(\"piRNA_prec.bed\", header=FALSE)\n",
    "names(data_precursors)[names(data_precursors) == \"V1\"]<- \"UCSC_CHROM\"\n",
    "data_precursors<- data_precursors[,(-4)]\n",
    "\n",
    "names(data_precursors)[names(data_precursors) == \"V2\"]<- \"position\"\n",
    "head(data_precursors)"
   ]
  },
  {
   "cell_type": "code",
   "execution_count": 4,
   "id": "f1f3db18",
   "metadata": {
    "scrolled": true
   },
   "outputs": [
    {
     "data": {
      "text/html": [
       "<table>\n",
       "<thead><tr><th scope=col>V1</th><th scope=col>V2</th><th scope=col>V3</th></tr></thead>\n",
       "<tbody>\n",
       "\t<tr><td>NC_000010.11</td><td>11738       </td><td>1           </td></tr>\n",
       "\t<tr><td>NC_000010.11</td><td>11739       </td><td>1           </td></tr>\n",
       "\t<tr><td>NC_000010.11</td><td>11740       </td><td>1           </td></tr>\n",
       "\t<tr><td>NC_000010.11</td><td>11741       </td><td>1           </td></tr>\n",
       "\t<tr><td>NC_000010.11</td><td>11742       </td><td>1           </td></tr>\n",
       "\t<tr><td>NC_000010.11</td><td>11743       </td><td>1           </td></tr>\n",
       "</tbody>\n",
       "</table>\n"
      ],
      "text/latex": [
       "\\begin{tabular}{r|lll}\n",
       " V1 & V2 & V3\\\\\n",
       "\\hline\n",
       "\t NC\\_000010.11 & 11738          & 1             \\\\\n",
       "\t NC\\_000010.11 & 11739          & 1             \\\\\n",
       "\t NC\\_000010.11 & 11740          & 1             \\\\\n",
       "\t NC\\_000010.11 & 11741          & 1             \\\\\n",
       "\t NC\\_000010.11 & 11742          & 1             \\\\\n",
       "\t NC\\_000010.11 & 11743          & 1             \\\\\n",
       "\\end{tabular}\n"
      ],
      "text/markdown": [
       "\n",
       "| V1 | V2 | V3 |\n",
       "|---|---|---|\n",
       "| NC_000010.11 | 11738        | 1            |\n",
       "| NC_000010.11 | 11739        | 1            |\n",
       "| NC_000010.11 | 11740        | 1            |\n",
       "| NC_000010.11 | 11741        | 1            |\n",
       "| NC_000010.11 | 11742        | 1            |\n",
       "| NC_000010.11 | 11743        | 1            |\n",
       "\n"
      ],
      "text/plain": [
       "  V1           V2    V3\n",
       "1 NC_000010.11 11738 1 \n",
       "2 NC_000010.11 11739 1 \n",
       "3 NC_000010.11 11740 1 \n",
       "4 NC_000010.11 11741 1 \n",
       "5 NC_000010.11 11742 1 \n",
       "6 NC_000010.11 11743 1 "
      ]
     },
     "metadata": {},
     "output_type": "display_data"
    },
    {
     "data": {
      "text/html": [
       "<table>\n",
       "<thead><tr><th scope=col>position</th><th scope=col>coverage</th><th scope=col>CHROM</th></tr></thead>\n",
       "<tbody>\n",
       "\t<tr><td>16217</td><td>1    </td><td>1    </td></tr>\n",
       "\t<tr><td>16218</td><td>1    </td><td>1    </td></tr>\n",
       "\t<tr><td>16219</td><td>1    </td><td>1    </td></tr>\n",
       "\t<tr><td>16220</td><td>1    </td><td>1    </td></tr>\n",
       "\t<tr><td>16221</td><td>1    </td><td>1    </td></tr>\n",
       "\t<tr><td>16222</td><td>1    </td><td>1    </td></tr>\n",
       "</tbody>\n",
       "</table>\n"
      ],
      "text/latex": [
       "\\begin{tabular}{r|lll}\n",
       " position & coverage & CHROM\\\\\n",
       "\\hline\n",
       "\t 16217 & 1     & 1    \\\\\n",
       "\t 16218 & 1     & 1    \\\\\n",
       "\t 16219 & 1     & 1    \\\\\n",
       "\t 16220 & 1     & 1    \\\\\n",
       "\t 16221 & 1     & 1    \\\\\n",
       "\t 16222 & 1     & 1    \\\\\n",
       "\\end{tabular}\n"
      ],
      "text/markdown": [
       "\n",
       "| position | coverage | CHROM |\n",
       "|---|---|---|\n",
       "| 16217 | 1     | 1     |\n",
       "| 16218 | 1     | 1     |\n",
       "| 16219 | 1     | 1     |\n",
       "| 16220 | 1     | 1     |\n",
       "| 16221 | 1     | 1     |\n",
       "| 16222 | 1     | 1     |\n",
       "\n"
      ],
      "text/plain": [
       "  position coverage CHROM\n",
       "1 16217    1        1    \n",
       "2 16218    1        1    \n",
       "3 16219    1        1    \n",
       "4 16220    1        1    \n",
       "5 16221    1        1    \n",
       "6 16222    1        1    "
      ]
     },
     "metadata": {},
     "output_type": "display_data"
    }
   ],
   "source": [
    "setwd(\"~/piRNA/Workspaces/julia/zamore_lab/plot\")\n",
    "unique_coverage<- read.table(\"A1_coverage\", header = FALSE)\n",
    "\n",
    "\n",
    "head(unique_data_new)"
   ]
  },
  {
   "cell_type": "code",
   "execution_count": 6,
   "id": "dab50148",
   "metadata": {},
   "outputs": [
    {
     "data": {
      "text/html": [
       "<table>\n",
       "<thead><tr><th scope=col>REFSEQ_CHROM</th><th scope=col>V2</th><th scope=col>V3</th><th scope=col>CHROM</th><th scope=col>UCSC_CHROM</th><th scope=col>NCBI_CHROM</th></tr></thead>\n",
       "<tbody>\n",
       "\t<tr><td>NC_000001.11    </td><td>16217           </td><td>1               </td><td>1               </td><td>chr1            </td><td>GCF_000001305.15</td></tr>\n",
       "\t<tr><td>NC_000001.11    </td><td>16218           </td><td>1               </td><td>1               </td><td>chr1            </td><td>GCF_000001305.15</td></tr>\n",
       "\t<tr><td>NC_000001.11    </td><td>16219           </td><td>1               </td><td>1               </td><td>chr1            </td><td>GCF_000001305.15</td></tr>\n",
       "\t<tr><td>NC_000001.11    </td><td>16220           </td><td>1               </td><td>1               </td><td>chr1            </td><td>GCF_000001305.15</td></tr>\n",
       "\t<tr><td>NC_000001.11    </td><td>16221           </td><td>1               </td><td>1               </td><td>chr1            </td><td>GCF_000001305.15</td></tr>\n",
       "\t<tr><td>NC_000001.11    </td><td>16222           </td><td>1               </td><td>1               </td><td>chr1            </td><td>GCF_000001305.15</td></tr>\n",
       "</tbody>\n",
       "</table>\n"
      ],
      "text/latex": [
       "\\begin{tabular}{r|llllll}\n",
       " REFSEQ\\_CHROM & V2 & V3 & CHROM & UCSC\\_CHROM & NCBI\\_CHROM\\\\\n",
       "\\hline\n",
       "\t NC\\_000001.11     & 16217              & 1                  & 1                  & chr1               & GCF\\_000001305.15\\\\\n",
       "\t NC\\_000001.11     & 16218              & 1                  & 1                  & chr1               & GCF\\_000001305.15\\\\\n",
       "\t NC\\_000001.11     & 16219              & 1                  & 1                  & chr1               & GCF\\_000001305.15\\\\\n",
       "\t NC\\_000001.11     & 16220              & 1                  & 1                  & chr1               & GCF\\_000001305.15\\\\\n",
       "\t NC\\_000001.11     & 16221              & 1                  & 1                  & chr1               & GCF\\_000001305.15\\\\\n",
       "\t NC\\_000001.11     & 16222              & 1                  & 1                  & chr1               & GCF\\_000001305.15\\\\\n",
       "\\end{tabular}\n"
      ],
      "text/markdown": [
       "\n",
       "| REFSEQ_CHROM | V2 | V3 | CHROM | UCSC_CHROM | NCBI_CHROM |\n",
       "|---|---|---|---|---|---|\n",
       "| NC_000001.11     | 16217            | 1                | 1                | chr1             | GCF_000001305.15 |\n",
       "| NC_000001.11     | 16218            | 1                | 1                | chr1             | GCF_000001305.15 |\n",
       "| NC_000001.11     | 16219            | 1                | 1                | chr1             | GCF_000001305.15 |\n",
       "| NC_000001.11     | 16220            | 1                | 1                | chr1             | GCF_000001305.15 |\n",
       "| NC_000001.11     | 16221            | 1                | 1                | chr1             | GCF_000001305.15 |\n",
       "| NC_000001.11     | 16222            | 1                | 1                | chr1             | GCF_000001305.15 |\n",
       "\n"
      ],
      "text/plain": [
       "  REFSEQ_CHROM V2    V3 CHROM UCSC_CHROM NCBI_CHROM      \n",
       "1 NC_000001.11 16217 1  1     chr1       GCF_000001305.15\n",
       "2 NC_000001.11 16218 1  1     chr1       GCF_000001305.15\n",
       "3 NC_000001.11 16219 1  1     chr1       GCF_000001305.15\n",
       "4 NC_000001.11 16220 1  1     chr1       GCF_000001305.15\n",
       "5 NC_000001.11 16221 1  1     chr1       GCF_000001305.15\n",
       "6 NC_000001.11 16222 1  1     chr1       GCF_000001305.15"
      ]
     },
     "metadata": {},
     "output_type": "display_data"
    }
   ],
   "source": [
    "names(unique_coverage)[names(unique_coverage) == \"V1\"]<- \"REFSEQ_CHROM\"\n",
    "unique_data<- merge(unique_coverage, chromosome_data, by= \"REFSEQ_CHROM\")\n",
    "head(unique_data)\n"
   ]
  },
  {
   "cell_type": "code",
   "execution_count": 7,
   "id": "3eac2dbc",
   "metadata": {},
   "outputs": [],
   "source": [
    "unique_data<- unique_data[,c(5,2,3,4,1,6)]"
   ]
  },
  {
   "cell_type": "code",
   "execution_count": 8,
   "id": "d98bfa4d",
   "metadata": {},
   "outputs": [
    {
     "data": {
      "text/html": [
       "<table>\n",
       "<thead><tr><th scope=col>UCSC_CHROM</th><th scope=col>V2</th><th scope=col>V3</th><th scope=col>CHROM</th><th scope=col>REFSEQ_CHROM</th><th scope=col>NCBI_CHROM</th></tr></thead>\n",
       "<tbody>\n",
       "\t<tr><td>chr1            </td><td>16217           </td><td>1               </td><td>1               </td><td>NC_000001.11    </td><td>GCF_000001305.15</td></tr>\n",
       "\t<tr><td>chr1            </td><td>16218           </td><td>1               </td><td>1               </td><td>NC_000001.11    </td><td>GCF_000001305.15</td></tr>\n",
       "\t<tr><td>chr1            </td><td>16219           </td><td>1               </td><td>1               </td><td>NC_000001.11    </td><td>GCF_000001305.15</td></tr>\n",
       "\t<tr><td>chr1            </td><td>16220           </td><td>1               </td><td>1               </td><td>NC_000001.11    </td><td>GCF_000001305.15</td></tr>\n",
       "\t<tr><td>chr1            </td><td>16221           </td><td>1               </td><td>1               </td><td>NC_000001.11    </td><td>GCF_000001305.15</td></tr>\n",
       "\t<tr><td>chr1            </td><td>16222           </td><td>1               </td><td>1               </td><td>NC_000001.11    </td><td>GCF_000001305.15</td></tr>\n",
       "</tbody>\n",
       "</table>\n"
      ],
      "text/latex": [
       "\\begin{tabular}{r|llllll}\n",
       " UCSC\\_CHROM & V2 & V3 & CHROM & REFSEQ\\_CHROM & NCBI\\_CHROM\\\\\n",
       "\\hline\n",
       "\t chr1               & 16217              & 1                  & 1                  & NC\\_000001.11     & GCF\\_000001305.15\\\\\n",
       "\t chr1               & 16218              & 1                  & 1                  & NC\\_000001.11     & GCF\\_000001305.15\\\\\n",
       "\t chr1               & 16219              & 1                  & 1                  & NC\\_000001.11     & GCF\\_000001305.15\\\\\n",
       "\t chr1               & 16220              & 1                  & 1                  & NC\\_000001.11     & GCF\\_000001305.15\\\\\n",
       "\t chr1               & 16221              & 1                  & 1                  & NC\\_000001.11     & GCF\\_000001305.15\\\\\n",
       "\t chr1               & 16222              & 1                  & 1                  & NC\\_000001.11     & GCF\\_000001305.15\\\\\n",
       "\\end{tabular}\n"
      ],
      "text/markdown": [
       "\n",
       "| UCSC_CHROM | V2 | V3 | CHROM | REFSEQ_CHROM | NCBI_CHROM |\n",
       "|---|---|---|---|---|---|\n",
       "| chr1             | 16217            | 1                | 1                | NC_000001.11     | GCF_000001305.15 |\n",
       "| chr1             | 16218            | 1                | 1                | NC_000001.11     | GCF_000001305.15 |\n",
       "| chr1             | 16219            | 1                | 1                | NC_000001.11     | GCF_000001305.15 |\n",
       "| chr1             | 16220            | 1                | 1                | NC_000001.11     | GCF_000001305.15 |\n",
       "| chr1             | 16221            | 1                | 1                | NC_000001.11     | GCF_000001305.15 |\n",
       "| chr1             | 16222            | 1                | 1                | NC_000001.11     | GCF_000001305.15 |\n",
       "\n"
      ],
      "text/plain": [
       "  UCSC_CHROM V2    V3 CHROM REFSEQ_CHROM NCBI_CHROM      \n",
       "1 chr1       16217 1  1     NC_000001.11 GCF_000001305.15\n",
       "2 chr1       16218 1  1     NC_000001.11 GCF_000001305.15\n",
       "3 chr1       16219 1  1     NC_000001.11 GCF_000001305.15\n",
       "4 chr1       16220 1  1     NC_000001.11 GCF_000001305.15\n",
       "5 chr1       16221 1  1     NC_000001.11 GCF_000001305.15\n",
       "6 chr1       16222 1  1     NC_000001.11 GCF_000001305.15"
      ]
     },
     "metadata": {},
     "output_type": "display_data"
    }
   ],
   "source": [
    "head(unique_data)"
   ]
  },
  {
   "cell_type": "code",
   "execution_count": 10,
   "id": "8e0e411b",
   "metadata": {},
   "outputs": [],
   "source": [
    "write.table(unique_data, file = \"A1_coverage.bed\", quote=FALSE, sep=\"\\t\", row.names = FALSE, col.names=FALSE)\n"
   ]
  },
  {
   "cell_type": "code",
   "execution_count": 24,
   "id": "c6c9363c",
   "metadata": {},
   "outputs": [],
   "source": [
    "# Define a function to check if a given position is within a range of start and end positions\n",
    "within_range <- function(pos, start, end) {\n",
    "  return(pos >= start & pos <= end)\n",
    "}"
   ]
  },
  {
   "cell_type": "code",
   "execution_count": 25,
   "id": "ad90e404",
   "metadata": {},
   "outputs": [],
   "source": [
    "# Initialize an empty dataframe to hold the merged results\n",
    "overlaping <- data.frame()"
   ]
  },
  {
   "cell_type": "code",
   "execution_count": 26,
   "id": "8e1c7c14",
   "metadata": {},
   "outputs": [],
   "source": [
    "# Loop through each row of the second dataframe\n",
    "for (i in 1:nrow(data_precursors)) {\n",
    "  # Get the start and end positions for this range\n",
    "  start_pos <- data_precursors$position[i]\n",
    "  end_pos <- data_precursors$V3[i]\n",
    "  \n",
    "  # Filter the rows from the first dataframe that fall within this range\n",
    "  range_rows <- unique_data_new[within_range(unique_data_new$position, start_pos, end_pos),]\n",
    "  \n",
    "  # Add a column to the filtered rows indicating which range they came from\n",
    "  range_rows$range <- i\n",
    "  \n",
    "  # Add the filtered rows to the merged dataframe\n",
    "  overlaping <- rbind(overlaping, range_rows)\n",
    "}\n"
   ]
  },
  {
   "cell_type": "code",
   "execution_count": 49,
   "id": "06591e67",
   "metadata": {},
   "outputs": [
    {
     "data": {
      "text/html": [
       "<table>\n",
       "<thead><tr><th></th><th scope=col>position</th><th scope=col>coverage</th><th scope=col>CHROM</th><th scope=col>range</th></tr></thead>\n",
       "<tbody>\n",
       "\t<tr><th scope=row>74256</th><td>1501707</td><td>1      </td><td>1      </td><td>1      </td></tr>\n",
       "\t<tr><th scope=row>74257</th><td>1501708</td><td>1      </td><td>1      </td><td>1      </td></tr>\n",
       "\t<tr><th scope=row>74258</th><td>1501709</td><td>1      </td><td>1      </td><td>1      </td></tr>\n",
       "\t<tr><th scope=row>74259</th><td>1501710</td><td>1      </td><td>1      </td><td>1      </td></tr>\n",
       "\t<tr><th scope=row>74260</th><td>1501711</td><td>1      </td><td>1      </td><td>1      </td></tr>\n",
       "\t<tr><th scope=row>74261</th><td>1501712</td><td>1      </td><td>1      </td><td>1      </td></tr>\n",
       "</tbody>\n",
       "</table>\n"
      ],
      "text/latex": [
       "\\begin{tabular}{r|llll}\n",
       "  & position & coverage & CHROM & range\\\\\n",
       "\\hline\n",
       "\t74256 & 1501707 & 1       & 1       & 1      \\\\\n",
       "\t74257 & 1501708 & 1       & 1       & 1      \\\\\n",
       "\t74258 & 1501709 & 1       & 1       & 1      \\\\\n",
       "\t74259 & 1501710 & 1       & 1       & 1      \\\\\n",
       "\t74260 & 1501711 & 1       & 1       & 1      \\\\\n",
       "\t74261 & 1501712 & 1       & 1       & 1      \\\\\n",
       "\\end{tabular}\n"
      ],
      "text/markdown": [
       "\n",
       "| <!--/--> | position | coverage | CHROM | range |\n",
       "|---|---|---|---|---|\n",
       "| 74256 | 1501707 | 1       | 1       | 1       |\n",
       "| 74257 | 1501708 | 1       | 1       | 1       |\n",
       "| 74258 | 1501709 | 1       | 1       | 1       |\n",
       "| 74259 | 1501710 | 1       | 1       | 1       |\n",
       "| 74260 | 1501711 | 1       | 1       | 1       |\n",
       "| 74261 | 1501712 | 1       | 1       | 1       |\n",
       "\n"
      ],
      "text/plain": [
       "      position coverage CHROM range\n",
       "74256 1501707  1        1     1    \n",
       "74257 1501708  1        1     1    \n",
       "74258 1501709  1        1     1    \n",
       "74259 1501710  1        1     1    \n",
       "74260 1501711  1        1     1    \n",
       "74261 1501712  1        1     1    "
      ]
     },
     "metadata": {},
     "output_type": "display_data"
    },
    {
     "data": {
      "text/html": [
       "12472877"
      ],
      "text/latex": [
       "12472877"
      ],
      "text/markdown": [
       "12472877"
      ],
      "text/plain": [
       "[1] 12472877"
      ]
     },
     "metadata": {},
     "output_type": "display_data"
    },
    {
     "data": {
      "text/html": [
       "125058114"
      ],
      "text/latex": [
       "125058114"
      ],
      "text/markdown": [
       "125058114"
      ],
      "text/plain": [
       "[1] 125058114"
      ]
     },
     "metadata": {},
     "output_type": "display_data"
    }
   ],
   "source": [
    "head(overlaping)\n",
    "nrow(overlaping)\n",
    "nrow(unique_data_new)"
   ]
  },
  {
   "cell_type": "code",
   "execution_count": 2,
   "id": "0a1a146d",
   "metadata": {},
   "outputs": [],
   "source": [
    "setwd(\"~/piRNA/Workspaces/julia/zamore_lab/plot\")"
   ]
  },
  {
   "cell_type": "code",
   "execution_count": 3,
   "id": "d454c3e9",
   "metadata": {},
   "outputs": [],
   "source": [
    "overlap<- read.table(\"A1_overlaping.bed\", header = FALSE)"
   ]
  },
  {
   "cell_type": "code",
   "execution_count": 7,
   "id": "80a08cb8",
   "metadata": {},
   "outputs": [],
   "source": [
    "subset_overlap <- overlap[overlap$V4 > 5000,]"
   ]
  },
  {
   "cell_type": "code",
   "execution_count": 18,
   "id": "0c3946c9",
   "metadata": {},
   "outputs": [
    {
     "data": {
      "text/html": [
       "4952"
      ],
      "text/latex": [
       "4952"
      ],
      "text/markdown": [
       "4952"
      ],
      "text/plain": [
       "[1] 4952"
      ]
     },
     "metadata": {},
     "output_type": "display_data"
    }
   ],
   "source": [
    "max(subset_overlap$V4)"
   ]
  },
  {
   "cell_type": "code",
   "execution_count": 8,
   "id": "3dc449aa",
   "metadata": {},
   "outputs": [
    {
     "data": {
      "image/png": "[encoded data removed]",
      "text/plain": [
       "plot without title"
      ]
     },
     "metadata": {},
     "output_type": "display_data"
    }
   ],
   "source": [
    "ggplot(subset_overlap, aes(V4))+\n",
    "    geom_histogram(fill=\"light blue\",binwidth=50)"
   ]
  },
  {
   "cell_type": "code",
   "execution_count": null,
   "id": "0242bbe9",
   "metadata": {},
   "outputs": [],
   "source": [
    "nonoverlap<- read.table(\"A1_nonoverlaping.bed\", header = FALSE)"
   ]
  },
  {
   "cell_type": "code",
   "execution_count": 19,
   "id": "3834e74e",
   "metadata": {},
   "outputs": [],
   "source": [
    "subset_nonoverlap <- nonoverlap[nonoverlap$V4 < 5000,]"
   ]
  },
  {
   "cell_type": "code",
   "execution_count": 20,
   "id": "e7579d96",
   "metadata": {},
   "outputs": [
    {
     "data": {
      "text/html": [
       "4999"
      ],
      "text/latex": [
       "4999"
      ],
      "text/markdown": [
       "4999"
      ],
      "text/plain": [
       "[1] 4999"
      ]
     },
     "metadata": {},
     "output_type": "display_data"
    }
   ],
   "source": [
    "max(subset_nonoverlap$V4)"
   ]
  },
  {
   "cell_type": "code",
   "execution_count": 21,
   "id": "a77ac359",
   "metadata": {},
   "outputs": [],
   "source": [
    "subset_overlap$type<- \"Overlap\""
   ]
  },
  {
   "cell_type": "code",
   "execution_count": 22,
   "id": "aaf988f1",
   "metadata": {},
   "outputs": [],
   "source": [
    "subset_nonoverlap$type<- \"Non-overlap\""
   ]
  },
  {
   "cell_type": "code",
   "execution_count": 29,
   "id": "154f4d27",
   "metadata": {},
   "outputs": [
    {
     "data": {
      "image/png": "[encoded data removed]",
      "text/plain": [
       "plot without title"
      ]
     },
     "metadata": {},
     "output_type": "display_data"
    }
   ],
   "source": [
    "ggplot(subset_nonoverlap, aes(V4))+\n",
    "    geom_histogram(fill=\"light blue\",binwidth=50)"
   ]
  },
  {
   "cell_type": "code",
   "execution_count": 23,
   "id": "8a4db3b6",
   "metadata": {},
   "outputs": [],
   "source": [
    "final_df <- rbind(subset_overlap, subset_nonoverlap)"
   ]
  },
  {
   "cell_type": "code",
   "execution_count": 35,
   "id": "c4b46695",
   "metadata": {},
   "outputs": [
    {
     "name": "stderr",
     "output_type": "stream",
     "text": [
      "`stat_bin()` using `bins = 30`. Pick better value with `binwidth`.Warning message:\n",
      "“Removed 3 rows containing missing values (`geom_bar()`).”"
     ]
    },
    {
     "data": {
      "image/png": "[encoded data removed]",
      "text/plain": [
       "plot without title"
      ]
     },
     "metadata": {},
     "output_type": "display_data"
    }
   ],
   "source": [
    "ggplot(final_df, aes(x = V4, fill=type))+\n",
    "       geom_histogram(position=\"identity\", alpha=0.5)+ ylim(0, 200000)"
   ]
  },
  {
   "cell_type": "code",
   "execution_count": null,
   "id": "0b974c0d",
   "metadata": {},
   "outputs": [],
   "source": [
    "both<- rbind(overlaping, non_overlap_df)"
   ]
  },
  {
   "cell_type": "code",
   "execution_count": null,
   "id": "57622a60",
   "metadata": {},
   "outputs": [],
   "source": [
    "ggplot(both, aes(x=coverage, fill=O_NO, color=O_NO)) +\n",
    "  geom_histogram(position=\"identity\", alpha=0.5)\n",
    "    "
   ]
  }
 ],
 "metadata": {
  "kernelspec": {
   "display_name": "R",
   "language": "R",
   "name": "ir"
  },
  "language_info": {
   "codemirror_mode": "r",
   "file_extension": ".r",
   "mimetype": "text/x-r-source",
   "name": "R",
   "pygments_lexer": "r",
   "version": "3.6.1"
  }
 },
 "nbformat": 4,
 "nbformat_minor": 5
}
