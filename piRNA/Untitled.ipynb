{
 "cells": [
  {
   "cell_type": "code",
   "execution_count": 1,
   "id": "8ed801c1",
   "metadata": {},
   "outputs": [
    {
     "name": "stderr",
     "output_type": "stream",
     "text": [
      "\n",
      "Attaching package: ‘dplyr’\n",
      "\n",
      "The following objects are masked from ‘package:stats’:\n",
      "\n",
      "    filter, lag\n",
      "\n",
      "The following objects are masked from ‘package:base’:\n",
      "\n",
      "    intersect, setdiff, setequal, union\n",
      "\n"
     ]
    }
   ],
   "source": [
    "library(dplyr)\n",
    "library(ggplot2)\n"
   ]
  },
  {
   "cell_type": "code",
   "execution_count": 97,
   "id": "dafdfc29",
   "metadata": {},
   "outputs": [],
   "source": [
    "setwd(\"~/piRNA/Workspaces/julia/lnc\")"
   ]
  },
  {
   "cell_type": "code",
   "execution_count": 98,
   "id": "9d31a951",
   "metadata": {},
   "outputs": [],
   "source": [
    "precursors<- read.table(\"h38.bed\", header=FALSE)"
   ]
  },
  {
   "cell_type": "code",
   "execution_count": 102,
   "id": "59d894dd",
   "metadata": {},
   "outputs": [
    {
     "data": {
      "text/html": [
       "<table>\n",
       "<thead><tr><th scope=col>V1</th><th scope=col>V2</th><th scope=col>V3</th><th scope=col>type</th></tr></thead>\n",
       "<tbody>\n",
       "\t<tr><td>chr1     </td><td> 24251429</td><td> 24335724</td><td>precursor</td></tr>\n",
       "\t<tr><td>chr1     </td><td>179585426</td><td>179591786</td><td>precursor</td></tr>\n",
       "\t<tr><td>chr1     </td><td>222471907</td><td>222489700</td><td>precursor</td></tr>\n",
       "\t<tr><td>chr10    </td><td> 28789400</td><td> 28795995</td><td>precursor</td></tr>\n",
       "\t<tr><td>chr10    </td><td> 44997697</td><td> 45000888</td><td>precursor</td></tr>\n",
       "\t<tr><td>chr10    </td><td> 77763999</td><td> 77783913</td><td>precursor</td></tr>\n",
       "</tbody>\n",
       "</table>\n"
      ],
      "text/latex": [
       "\\begin{tabular}{r|llll}\n",
       " V1 & V2 & V3 & type\\\\\n",
       "\\hline\n",
       "\t chr1      &  24251429 &  24335724 & precursor\\\\\n",
       "\t chr1      & 179585426 & 179591786 & precursor\\\\\n",
       "\t chr1      & 222471907 & 222489700 & precursor\\\\\n",
       "\t chr10     &  28789400 &  28795995 & precursor\\\\\n",
       "\t chr10     &  44997697 &  45000888 & precursor\\\\\n",
       "\t chr10     &  77763999 &  77783913 & precursor\\\\\n",
       "\\end{tabular}\n"
      ],
      "text/markdown": [
       "\n",
       "| V1 | V2 | V3 | type |\n",
       "|---|---|---|---|\n",
       "| chr1      |  24251429 |  24335724 | precursor |\n",
       "| chr1      | 179585426 | 179591786 | precursor |\n",
       "| chr1      | 222471907 | 222489700 | precursor |\n",
       "| chr10     |  28789400 |  28795995 | precursor |\n",
       "| chr10     |  44997697 |  45000888 | precursor |\n",
       "| chr10     |  77763999 |  77783913 | precursor |\n",
       "\n"
      ],
      "text/plain": [
       "  V1    V2        V3        type     \n",
       "1 chr1   24251429  24335724 precursor\n",
       "2 chr1  179585426 179591786 precursor\n",
       "3 chr1  222471907 222489700 precursor\n",
       "4 chr10  28789400  28795995 precursor\n",
       "5 chr10  44997697  45000888 precursor\n",
       "6 chr10  77763999  77783913 precursor"
      ]
     },
     "metadata": {},
     "output_type": "display_data"
    }
   ],
   "source": [
    "head(precursors)"
   ]
  },
  {
   "cell_type": "code",
   "execution_count": 100,
   "id": "9e69f556",
   "metadata": {},
   "outputs": [],
   "source": [
    "precursors$type<- \"precursor\""
   ]
  },
  {
   "cell_type": "code",
   "execution_count": 101,
   "id": "08a96282",
   "metadata": {},
   "outputs": [],
   "source": [
    "precursors<-precursors[,c(1,2,3,7)]"
   ]
  },
  {
   "cell_type": "code",
   "execution_count": 103,
   "id": "6c3bbbae",
   "metadata": {},
   "outputs": [],
   "source": [
    "setwd(\"~/piRNA/Workspaces/julia/PrimaryData/ref_data/human\")\n",
    "annotation<- read.table(\"annotation_human.bed\", header=FALSE, sep=\"\\t\")"
   ]
  },
  {
   "cell_type": "code",
   "execution_count": 113,
   "id": "05eaa037",
   "metadata": {},
   "outputs": [
    {
     "data": {
      "text/html": [
       "<table>\n",
       "<thead><tr><th scope=col>V1</th><th scope=col>V2</th><th scope=col>V3</th><th scope=col>type</th></tr></thead>\n",
       "<tbody>\n",
       "\t<tr><td>chr1          </td><td>109399042     </td><td>109426448     </td><td>protein_coding</td></tr>\n",
       "\t<tr><td>chr1          </td><td>109466478     </td><td>109482142     </td><td>protein_coding</td></tr>\n",
       "\t<tr><td>chr1          </td><td>109309575     </td><td>109397940     </td><td>protein_coding</td></tr>\n",
       "\t<tr><td>chr1          </td><td>109598893     </td><td>109598967     </td><td>miRNA         </td></tr>\n",
       "\t<tr><td>chr1          </td><td>109603091     </td><td>109619616     </td><td>protein_coding</td></tr>\n",
       "\t<tr><td>chr1          </td><td>109619837     </td><td>109632055     </td><td>protein_coding</td></tr>\n",
       "</tbody>\n",
       "</table>\n"
      ],
      "text/latex": [
       "\\begin{tabular}{r|llll}\n",
       " V1 & V2 & V3 & type\\\\\n",
       "\\hline\n",
       "\t chr1             & 109399042        & 109426448        & protein\\_coding\\\\\n",
       "\t chr1             & 109466478        & 109482142        & protein\\_coding\\\\\n",
       "\t chr1             & 109309575        & 109397940        & protein\\_coding\\\\\n",
       "\t chr1           & 109598893      & 109598967      & miRNA         \\\\\n",
       "\t chr1             & 109603091        & 109619616        & protein\\_coding\\\\\n",
       "\t chr1             & 109619837        & 109632055        & protein\\_coding\\\\\n",
       "\\end{tabular}\n"
      ],
      "text/markdown": [
       "\n",
       "| V1 | V2 | V3 | type |\n",
       "|---|---|---|---|\n",
       "| chr1           | 109399042      | 109426448      | protein_coding |\n",
       "| chr1           | 109466478      | 109482142      | protein_coding |\n",
       "| chr1           | 109309575      | 109397940      | protein_coding |\n",
       "| chr1           | 109598893      | 109598967      | miRNA          |\n",
       "| chr1           | 109603091      | 109619616      | protein_coding |\n",
       "| chr1           | 109619837      | 109632055      | protein_coding |\n",
       "\n"
      ],
      "text/plain": [
       "  V1   V2        V3        type          \n",
       "1 chr1 109399042 109426448 protein_coding\n",
       "2 chr1 109466478 109482142 protein_coding\n",
       "3 chr1 109309575 109397940 protein_coding\n",
       "4 chr1 109598893 109598967 miRNA         \n",
       "5 chr1 109603091 109619616 protein_coding\n",
       "6 chr1 109619837 109632055 protein_coding"
      ]
     },
     "metadata": {},
     "output_type": "display_data"
    }
   ],
   "source": [
    "head(annotation)"
   ]
  },
  {
   "cell_type": "code",
   "execution_count": 105,
   "id": "d8b71eb8",
   "metadata": {},
   "outputs": [],
   "source": [
    "annotation<-annotation[,c(1,2,3,4)]"
   ]
  },
  {
   "cell_type": "code",
   "execution_count": 106,
   "id": "a342d488",
   "metadata": {},
   "outputs": [],
   "source": [
    "names(annotation)[names(annotation) == \"V4\"]<- \"type\""
   ]
  },
  {
   "cell_type": "code",
   "execution_count": 108,
   "id": "012767e3",
   "metadata": {},
   "outputs": [],
   "source": [
    "extracted_value <- gsub('.*gene_biotype\\\\s(\\\\w+).*', '\\\\1', annotation$type)\n"
   ]
  },
  {
   "cell_type": "code",
   "execution_count": 112,
   "id": "45fe3b35",
   "metadata": {},
   "outputs": [],
   "source": [
    "annotation$type <- extracted_value"
   ]
  },
  {
   "cell_type": "code",
   "execution_count": 114,
   "id": "657932c0",
   "metadata": {},
   "outputs": [],
   "source": [
    "annotation_precursors<-rbind(annotation,precursors)"
   ]
  },
  {
   "cell_type": "code",
   "execution_count": 115,
   "id": "fc570b69",
   "metadata": {},
   "outputs": [
    {
     "data": {
      "text/html": [
       "16825"
      ],
      "text/latex": [
       "16825"
      ],
      "text/markdown": [
       "16825"
      ],
      "text/plain": [
       "[1] 16825"
      ]
     },
     "metadata": {},
     "output_type": "display_data"
    },
    {
     "data": {
      "text/html": [
       "182"
      ],
      "text/latex": [
       "182"
      ],
      "text/markdown": [
       "182"
      ],
      "text/plain": [
       "[1] 182"
      ]
     },
     "metadata": {},
     "output_type": "display_data"
    },
    {
     "data": {
      "text/html": [
       "17007"
      ],
      "text/latex": [
       "17007"
      ],
      "text/markdown": [
       "17007"
      ],
      "text/plain": [
       "[1] 17007"
      ]
     },
     "metadata": {},
     "output_type": "display_data"
    },
    {
     "data": {
      "text/html": [
       "<table>\n",
       "<thead><tr><th scope=col>V1</th><th scope=col>V2</th><th scope=col>V3</th><th scope=col>type</th></tr></thead>\n",
       "<tbody>\n",
       "\t<tr><td>chr1          </td><td>109399042     </td><td>109426448     </td><td>protein_coding</td></tr>\n",
       "\t<tr><td>chr1          </td><td>109466478     </td><td>109482142     </td><td>protein_coding</td></tr>\n",
       "\t<tr><td>chr1          </td><td>109309575     </td><td>109397940     </td><td>protein_coding</td></tr>\n",
       "\t<tr><td>chr1          </td><td>109598893     </td><td>109598967     </td><td>miRNA         </td></tr>\n",
       "\t<tr><td>chr1          </td><td>109603091     </td><td>109619616     </td><td>protein_coding</td></tr>\n",
       "\t<tr><td>chr1          </td><td>109619837     </td><td>109632055     </td><td>protein_coding</td></tr>\n",
       "</tbody>\n",
       "</table>\n"
      ],
      "text/latex": [
       "\\begin{tabular}{r|llll}\n",
       " V1 & V2 & V3 & type\\\\\n",
       "\\hline\n",
       "\t chr1             & 109399042        & 109426448        & protein\\_coding\\\\\n",
       "\t chr1             & 109466478        & 109482142        & protein\\_coding\\\\\n",
       "\t chr1             & 109309575        & 109397940        & protein\\_coding\\\\\n",
       "\t chr1           & 109598893      & 109598967      & miRNA         \\\\\n",
       "\t chr1             & 109603091        & 109619616        & protein\\_coding\\\\\n",
       "\t chr1             & 109619837        & 109632055        & protein\\_coding\\\\\n",
       "\\end{tabular}\n"
      ],
      "text/markdown": [
       "\n",
       "| V1 | V2 | V3 | type |\n",
       "|---|---|---|---|\n",
       "| chr1           | 109399042      | 109426448      | protein_coding |\n",
       "| chr1           | 109466478      | 109482142      | protein_coding |\n",
       "| chr1           | 109309575      | 109397940      | protein_coding |\n",
       "| chr1           | 109598893      | 109598967      | miRNA          |\n",
       "| chr1           | 109603091      | 109619616      | protein_coding |\n",
       "| chr1           | 109619837      | 109632055      | protein_coding |\n",
       "\n"
      ],
      "text/plain": [
       "  V1   V2        V3        type          \n",
       "1 chr1 109399042 109426448 protein_coding\n",
       "2 chr1 109466478 109482142 protein_coding\n",
       "3 chr1 109309575 109397940 protein_coding\n",
       "4 chr1 109598893 109598967 miRNA         \n",
       "5 chr1 109603091 109619616 protein_coding\n",
       "6 chr1 109619837 109632055 protein_coding"
      ]
     },
     "metadata": {},
     "output_type": "display_data"
    }
   ],
   "source": [
    "nrow(annotation)\n",
    "nrow(precursors)\n",
    "nrow(annotation_precursors)\n",
    "head(annotation_precursors)"
   ]
  },
  {
   "cell_type": "code",
   "execution_count": 116,
   "id": "fe279be6",
   "metadata": {},
   "outputs": [],
   "source": [
    "setwd(\"~/piRNA/Workspaces/julia/PrimaryData/ref_data/human\")\n",
    "write.table(annotation_precursors, file = \"ann_pre.bed\", quote=FALSE, sep=\"\\t\", row.names = FALSE, col.names=FALSE)"
   ]
  },
  {
   "cell_type": "code",
   "execution_count": 2,
   "id": "6b4fb670",
   "metadata": {},
   "outputs": [],
   "source": [
    "setwd(\"~/piRNA/Workspaces/julia/PrimaryData/ref_data/human\")\n",
    "#chromosome data\n",
    "chromosome_data_1<- read.table(\"summary_chroms.tsv\", header=TRUE)"
   ]
  },
  {
   "cell_type": "code",
   "execution_count": 95,
   "id": "e1d7899a",
   "metadata": {},
   "outputs": [
    {
     "data": {
      "text/html": [
       "<table>\n",
       "<thead><tr><th scope=col>CHROM</th><th scope=col>UCSC_CHROM</th><th scope=col>REFSEQ_CHROM</th><th scope=col>NCBI_CHROM</th></tr></thead>\n",
       "<tbody>\n",
       "\t<tr><td>1                     </td><td>chr1                  </td><td>NC_000001.11          </td><td>GCF_000001305.15      </td></tr>\n",
       "\t<tr><td>1                     </td><td>chr1_KI270706v1_random</td><td>NT_187361.1           </td><td>GCF_000001305.15      </td></tr>\n",
       "\t<tr><td>1                     </td><td>chr1_KI270707v1_random</td><td>NT_187362.1           </td><td>GCF_000001305.15      </td></tr>\n",
       "\t<tr><td>1                     </td><td>chr1_KI270708v1_random</td><td>NT_187363.1           </td><td>GCF_000001305.15      </td></tr>\n",
       "\t<tr><td>1                     </td><td>chr1_KI270709v1_random</td><td>NT_187364.1           </td><td>GCF_000001305.15      </td></tr>\n",
       "\t<tr><td>1                     </td><td>chr1_KI270710v1_random</td><td>NT_187365.1           </td><td>GCF_000001305.15      </td></tr>\n",
       "</tbody>\n",
       "</table>\n"
      ],
      "text/latex": [
       "\\begin{tabular}{r|llll}\n",
       " CHROM & UCSC\\_CHROM & REFSEQ\\_CHROM & NCBI\\_CHROM\\\\\n",
       "\\hline\n",
       "\t 1                      & chr1                   & NC\\_000001.11         & GCF\\_000001305.15    \\\\\n",
       "\t 1                          & chr1\\_KI270706v1\\_random & NT\\_187361.1              & GCF\\_000001305.15        \\\\\n",
       "\t 1                          & chr1\\_KI270707v1\\_random & NT\\_187362.1              & GCF\\_000001305.15        \\\\\n",
       "\t 1                          & chr1\\_KI270708v1\\_random & NT\\_187363.1              & GCF\\_000001305.15        \\\\\n",
       "\t 1                          & chr1\\_KI270709v1\\_random & NT\\_187364.1              & GCF\\_000001305.15        \\\\\n",
       "\t 1                          & chr1\\_KI270710v1\\_random & NT\\_187365.1              & GCF\\_000001305.15        \\\\\n",
       "\\end{tabular}\n"
      ],
      "text/markdown": [
       "\n",
       "| CHROM | UCSC_CHROM | REFSEQ_CHROM | NCBI_CHROM |\n",
       "|---|---|---|---|\n",
       "| 1                      | chr1                   | NC_000001.11           | GCF_000001305.15       |\n",
       "| 1                      | chr1_KI270706v1_random | NT_187361.1            | GCF_000001305.15       |\n",
       "| 1                      | chr1_KI270707v1_random | NT_187362.1            | GCF_000001305.15       |\n",
       "| 1                      | chr1_KI270708v1_random | NT_187363.1            | GCF_000001305.15       |\n",
       "| 1                      | chr1_KI270709v1_random | NT_187364.1            | GCF_000001305.15       |\n",
       "| 1                      | chr1_KI270710v1_random | NT_187365.1            | GCF_000001305.15       |\n",
       "\n"
      ],
      "text/plain": [
       "  CHROM UCSC_CHROM             REFSEQ_CHROM NCBI_CHROM      \n",
       "1 1     chr1                   NC_000001.11 GCF_000001305.15\n",
       "2 1     chr1_KI270706v1_random NT_187361.1  GCF_000001305.15\n",
       "3 1     chr1_KI270707v1_random NT_187362.1  GCF_000001305.15\n",
       "4 1     chr1_KI270708v1_random NT_187363.1  GCF_000001305.15\n",
       "5 1     chr1_KI270709v1_random NT_187364.1  GCF_000001305.15\n",
       "6 1     chr1_KI270710v1_random NT_187365.1  GCF_000001305.15"
      ]
     },
     "metadata": {},
     "output_type": "display_data"
    }
   ],
   "source": [
    "head(chromosome_data_1)"
   ]
  },
  {
   "cell_type": "code",
   "execution_count": 108,
   "id": "39c17257",
   "metadata": {},
   "outputs": [],
   "source": [
    "setwd(\"~/piRNA/Workspaces/julia/per_size/map/33\")\n",
    "hum<- read.table(\"Hum1_map.bed\", header=FALSE)"
   ]
  },
  {
   "cell_type": "code",
   "execution_count": 112,
   "id": "4826d496",
   "metadata": {},
   "outputs": [],
   "source": [
    "setwd(\"~/piRNA/Workspaces/julia/per_size/map/33\")\n",
    "hum2<- read.table(\"Hum2_map.bed\", header=FALSE)\n"
   ]
  },
  {
   "cell_type": "code",
   "execution_count": 83,
   "id": "d79d30c0",
   "metadata": {},
   "outputs": [
    {
     "data": {
      "text/html": [
       "<table>\n",
       "<thead><tr><th scope=col>V1</th><th scope=col>V2</th><th scope=col>V3</th><th scope=col>V4</th><th scope=col>V5</th><th scope=col>V6</th></tr></thead>\n",
       "<tbody>\n",
       "\t<tr><td>NC_000010.11                           </td><td> 10857                                 </td><td> 10877                                 </td><td>A00253:327:H3N37DRXY:2:2263:23005:18756</td><td>0                                      </td><td>+                                      </td></tr>\n",
       "\t<tr><td>NC_000010.11                           </td><td> 23181                                 </td><td> 23201                                 </td><td>A00253:327:H3N37DRXY:2:2229:16758:26099</td><td>0                                      </td><td>+                                      </td></tr>\n",
       "\t<tr><td>NC_000010.11                           </td><td> 46741                                 </td><td> 46761                                 </td><td>A00253:327:H3N37DRXY:2:2201:14832:34256</td><td>0                                      </td><td>-                                      </td></tr>\n",
       "\t<tr><td>NC_000010.11                           </td><td> 58816                                 </td><td> 58836                                 </td><td>A00253:327:H3N37DRXY:2:2125:26015:33489</td><td>0                                      </td><td>-                                      </td></tr>\n",
       "\t<tr><td>NC_000010.11                           </td><td> 74097                                 </td><td> 74117                                 </td><td>A00253:327:H3N37DRXY:2:2106:19434:33614</td><td>0                                      </td><td>-                                      </td></tr>\n",
       "\t<tr><td>NC_000010.11                           </td><td>135527                                 </td><td>135547                                 </td><td>A00253:327:H3N37DRXY:2:2142:1542:11146 </td><td>0                                      </td><td>+                                      </td></tr>\n",
       "</tbody>\n",
       "</table>\n"
      ],
      "text/latex": [
       "\\begin{tabular}{r|llllll}\n",
       " V1 & V2 & V3 & V4 & V5 & V6\\\\\n",
       "\\hline\n",
       "\t NC\\_000010.11                          &  10857                                  &  10877                                  & A00253:327:H3N37DRXY:2:2263:23005:18756 & 0                                       & +                                      \\\\\n",
       "\t NC\\_000010.11                          &  23181                                  &  23201                                  & A00253:327:H3N37DRXY:2:2229:16758:26099 & 0                                       & +                                      \\\\\n",
       "\t NC\\_000010.11                          &  46741                                  &  46761                                  & A00253:327:H3N37DRXY:2:2201:14832:34256 & 0                                       & -                                      \\\\\n",
       "\t NC\\_000010.11                          &  58816                                  &  58836                                  & A00253:327:H3N37DRXY:2:2125:26015:33489 & 0                                       & -                                      \\\\\n",
       "\t NC\\_000010.11                          &  74097                                  &  74117                                  & A00253:327:H3N37DRXY:2:2106:19434:33614 & 0                                       & -                                      \\\\\n",
       "\t NC\\_000010.11                          & 135527                                  & 135547                                  & A00253:327:H3N37DRXY:2:2142:1542:11146  & 0                                       & +                                      \\\\\n",
       "\\end{tabular}\n"
      ],
      "text/markdown": [
       "\n",
       "| V1 | V2 | V3 | V4 | V5 | V6 |\n",
       "|---|---|---|---|---|---|\n",
       "| NC_000010.11                            |  10857                                  |  10877                                  | A00253:327:H3N37DRXY:2:2263:23005:18756 | 0                                       | +                                       |\n",
       "| NC_000010.11                            |  23181                                  |  23201                                  | A00253:327:H3N37DRXY:2:2229:16758:26099 | 0                                       | +                                       |\n",
       "| NC_000010.11                            |  46741                                  |  46761                                  | A00253:327:H3N37DRXY:2:2201:14832:34256 | 0                                       | -                                       |\n",
       "| NC_000010.11                            |  58816                                  |  58836                                  | A00253:327:H3N37DRXY:2:2125:26015:33489 | 0                                       | -                                       |\n",
       "| NC_000010.11                            |  74097                                  |  74117                                  | A00253:327:H3N37DRXY:2:2106:19434:33614 | 0                                       | -                                       |\n",
       "| NC_000010.11                            | 135527                                  | 135547                                  | A00253:327:H3N37DRXY:2:2142:1542:11146  | 0                                       | +                                       |\n",
       "\n"
      ],
      "text/plain": [
       "  V1           V2     V3     V4                                      V5 V6\n",
       "1 NC_000010.11  10857  10877 A00253:327:H3N37DRXY:2:2263:23005:18756 0  + \n",
       "2 NC_000010.11  23181  23201 A00253:327:H3N37DRXY:2:2229:16758:26099 0  + \n",
       "3 NC_000010.11  46741  46761 A00253:327:H3N37DRXY:2:2201:14832:34256 0  - \n",
       "4 NC_000010.11  58816  58836 A00253:327:H3N37DRXY:2:2125:26015:33489 0  - \n",
       "5 NC_000010.11  74097  74117 A00253:327:H3N37DRXY:2:2106:19434:33614 0  - \n",
       "6 NC_000010.11 135527 135547 A00253:327:H3N37DRXY:2:2142:1542:11146  0  + "
      ]
     },
     "metadata": {},
     "output_type": "display_data"
    }
   ],
   "source": [
    "head(hum)"
   ]
  },
  {
   "cell_type": "code",
   "execution_count": 109,
   "id": "7da44b58",
   "metadata": {},
   "outputs": [],
   "source": [
    "names(hum)[names(hum) == \"V1\"]<- \"REFSEQ_CHROM\"\n",
    "data<- merge(hum, chromosome_data_1, by= \"REFSEQ_CHROM\")"
   ]
  },
  {
   "cell_type": "code",
   "execution_count": 101,
   "id": "8386f2b5",
   "metadata": {},
   "outputs": [
    {
     "data": {
      "text/html": [
       "1269808"
      ],
      "text/latex": [
       "1269808"
      ],
      "text/markdown": [
       "1269808"
      ],
      "text/plain": [
       "[1] 1269808"
      ]
     },
     "metadata": {},
     "output_type": "display_data"
    },
    {
     "data": {
      "text/html": [
       "1269608"
      ],
      "text/latex": [
       "1269608"
      ],
      "text/markdown": [
       "1269608"
      ],
      "text/plain": [
       "[1] 1269608"
      ]
     },
     "metadata": {},
     "output_type": "display_data"
    }
   ],
   "source": [
    "nrow(hum)\n",
    "nrow(data)"
   ]
  },
  {
   "cell_type": "code",
   "execution_count": 113,
   "id": "9aa86a45",
   "metadata": {},
   "outputs": [],
   "source": [
    "names(hum2)[names(hum2) == \"V1\"]<- \"REFSEQ_CHROM\"\n",
    "data<- merge(hum2, chromosome_data_1, by= \"REFSEQ_CHROM\")"
   ]
  },
  {
   "cell_type": "code",
   "execution_count": 99,
   "id": "3fb3cd16",
   "metadata": {},
   "outputs": [
    {
     "data": {
      "text/html": [
       "<table>\n",
       "<thead><tr><th scope=col>REFSEQ_CHROM</th><th scope=col>V2</th><th scope=col>V3</th><th scope=col>V4</th><th scope=col>V5</th><th scope=col>V6</th><th scope=col>CHROM</th><th scope=col>UCSC_CHROM</th><th scope=col>NCBI_CHROM</th></tr></thead>\n",
       "<tbody>\n",
       "\t<tr><td>NC_000001.11                           </td><td>629507                                 </td><td>629527                                 </td><td>A00253:327:H3N37DRXY:2:2255:10429:12602</td><td>0                                      </td><td>-                                      </td><td>1                                      </td><td>chr1                                   </td><td>GCF_000001305.15                       </td></tr>\n",
       "\t<tr><td>NC_000001.11                           </td><td>629507                                 </td><td>629527                                 </td><td>A00253:327:H3N37DRXY:2:2231:9751:10708 </td><td>0                                      </td><td>-                                      </td><td>1                                      </td><td>chr1                                   </td><td>GCF_000001305.15                       </td></tr>\n",
       "\t<tr><td>NC_000001.11                           </td><td>629507                                 </td><td>629527                                 </td><td>A00253:327:H3N37DRXY:2:2233:16062:17440</td><td>0                                      </td><td>-                                      </td><td>1                                      </td><td>chr1                                   </td><td>GCF_000001305.15                       </td></tr>\n",
       "\t<tr><td>NC_000001.11                           </td><td>629501                                 </td><td>629521                                 </td><td>A00253:327:H3N37DRXY:2:2175:2519:33379 </td><td>0                                      </td><td>+                                      </td><td>1                                      </td><td>chr1                                   </td><td>GCF_000001305.15                       </td></tr>\n",
       "\t<tr><td>NC_000001.11                           </td><td>629501                                 </td><td>629521                                 </td><td>A00253:327:H3N37DRXY:2:2248:29423:31407</td><td>0                                      </td><td>+                                      </td><td>1                                      </td><td>chr1                                   </td><td>GCF_000001305.15                       </td></tr>\n",
       "\t<tr><td>NC_000001.11                           </td><td>629502                                 </td><td>629522                                 </td><td>A00253:327:H3N37DRXY:2:2120:8106:36260 </td><td>0                                      </td><td>+                                      </td><td>1                                      </td><td>chr1                                   </td><td>GCF_000001305.15                       </td></tr>\n",
       "</tbody>\n",
       "</table>\n"
      ],
      "text/latex": [
       "\\begin{tabular}{r|lllllllll}\n",
       " REFSEQ\\_CHROM & V2 & V3 & V4 & V5 & V6 & CHROM & UCSC\\_CHROM & NCBI\\_CHROM\\\\\n",
       "\\hline\n",
       "\t NC\\_000001.11                          & 629507                                  & 629527                                  & A00253:327:H3N37DRXY:2:2255:10429:12602 & 0                                       & -                                       & 1                                       & chr1                                    & GCF\\_000001305.15                     \\\\\n",
       "\t NC\\_000001.11                          & 629507                                  & 629527                                  & A00253:327:H3N37DRXY:2:2231:9751:10708  & 0                                       & -                                       & 1                                       & chr1                                    & GCF\\_000001305.15                     \\\\\n",
       "\t NC\\_000001.11                          & 629507                                  & 629527                                  & A00253:327:H3N37DRXY:2:2233:16062:17440 & 0                                       & -                                       & 1                                       & chr1                                    & GCF\\_000001305.15                     \\\\\n",
       "\t NC\\_000001.11                          & 629501                                  & 629521                                  & A00253:327:H3N37DRXY:2:2175:2519:33379  & 0                                       & +                                       & 1                                       & chr1                                    & GCF\\_000001305.15                     \\\\\n",
       "\t NC\\_000001.11                          & 629501                                  & 629521                                  & A00253:327:H3N37DRXY:2:2248:29423:31407 & 0                                       & +                                       & 1                                       & chr1                                    & GCF\\_000001305.15                     \\\\\n",
       "\t NC\\_000001.11                          & 629502                                  & 629522                                  & A00253:327:H3N37DRXY:2:2120:8106:36260  & 0                                       & +                                       & 1                                       & chr1                                    & GCF\\_000001305.15                     \\\\\n",
       "\\end{tabular}\n"
      ],
      "text/markdown": [
       "\n",
       "| REFSEQ_CHROM | V2 | V3 | V4 | V5 | V6 | CHROM | UCSC_CHROM | NCBI_CHROM |\n",
       "|---|---|---|---|---|---|---|---|---|\n",
       "| NC_000001.11                            | 629507                                  | 629527                                  | A00253:327:H3N37DRXY:2:2255:10429:12602 | 0                                       | -                                       | 1                                       | chr1                                    | GCF_000001305.15                        |\n",
       "| NC_000001.11                            | 629507                                  | 629527                                  | A00253:327:H3N37DRXY:2:2231:9751:10708  | 0                                       | -                                       | 1                                       | chr1                                    | GCF_000001305.15                        |\n",
       "| NC_000001.11                            | 629507                                  | 629527                                  | A00253:327:H3N37DRXY:2:2233:16062:17440 | 0                                       | -                                       | 1                                       | chr1                                    | GCF_000001305.15                        |\n",
       "| NC_000001.11                            | 629501                                  | 629521                                  | A00253:327:H3N37DRXY:2:2175:2519:33379  | 0                                       | +                                       | 1                                       | chr1                                    | GCF_000001305.15                        |\n",
       "| NC_000001.11                            | 629501                                  | 629521                                  | A00253:327:H3N37DRXY:2:2248:29423:31407 | 0                                       | +                                       | 1                                       | chr1                                    | GCF_000001305.15                        |\n",
       "| NC_000001.11                            | 629502                                  | 629522                                  | A00253:327:H3N37DRXY:2:2120:8106:36260  | 0                                       | +                                       | 1                                       | chr1                                    | GCF_000001305.15                        |\n",
       "\n"
      ],
      "text/plain": [
       "  REFSEQ_CHROM V2     V3     V4                                      V5 V6\n",
       "1 NC_000001.11 629507 629527 A00253:327:H3N37DRXY:2:2255:10429:12602 0  - \n",
       "2 NC_000001.11 629507 629527 A00253:327:H3N37DRXY:2:2231:9751:10708  0  - \n",
       "3 NC_000001.11 629507 629527 A00253:327:H3N37DRXY:2:2233:16062:17440 0  - \n",
       "4 NC_000001.11 629501 629521 A00253:327:H3N37DRXY:2:2175:2519:33379  0  + \n",
       "5 NC_000001.11 629501 629521 A00253:327:H3N37DRXY:2:2248:29423:31407 0  + \n",
       "6 NC_000001.11 629502 629522 A00253:327:H3N37DRXY:2:2120:8106:36260  0  + \n",
       "  CHROM UCSC_CHROM NCBI_CHROM      \n",
       "1 1     chr1       GCF_000001305.15\n",
       "2 1     chr1       GCF_000001305.15\n",
       "3 1     chr1       GCF_000001305.15\n",
       "4 1     chr1       GCF_000001305.15\n",
       "5 1     chr1       GCF_000001305.15\n",
       "6 1     chr1       GCF_000001305.15"
      ]
     },
     "metadata": {},
     "output_type": "display_data"
    }
   ],
   "source": [
    "head(data)"
   ]
  },
  {
   "cell_type": "code",
   "execution_count": 114,
   "id": "a5428289",
   "metadata": {},
   "outputs": [],
   "source": [
    "data<-data[,c(8,2,3,4)]"
   ]
  },
  {
   "cell_type": "code",
   "execution_count": 27,
   "id": "da1b7a72",
   "metadata": {},
   "outputs": [
    {
     "data": {
      "text/html": [
       "<table>\n",
       "<thead><tr><th scope=col>UCSC_CHROM</th><th scope=col>V2</th><th scope=col>V3</th><th scope=col>V4</th></tr></thead>\n",
       "<tbody>\n",
       "\t<tr><td>chr1                                   </td><td>629507                                 </td><td>629527                                 </td><td>A00253:327:H3N37DRXY:2:2255:10429:12602</td></tr>\n",
       "\t<tr><td>chr1                                   </td><td>629507                                 </td><td>629527                                 </td><td>A00253:327:H3N37DRXY:2:2231:9751:10708 </td></tr>\n",
       "\t<tr><td>chr1                                   </td><td>629507                                 </td><td>629527                                 </td><td>A00253:327:H3N37DRXY:2:2233:16062:17440</td></tr>\n",
       "\t<tr><td>chr1                                   </td><td>629501                                 </td><td>629521                                 </td><td>A00253:327:H3N37DRXY:2:2175:2519:33379 </td></tr>\n",
       "\t<tr><td>chr1                                   </td><td>629501                                 </td><td>629521                                 </td><td>A00253:327:H3N37DRXY:2:2248:29423:31407</td></tr>\n",
       "\t<tr><td>chr1                                   </td><td>629502                                 </td><td>629522                                 </td><td>A00253:327:H3N37DRXY:2:2120:8106:36260 </td></tr>\n",
       "</tbody>\n",
       "</table>\n"
      ],
      "text/latex": [
       "\\begin{tabular}{r|llll}\n",
       " UCSC\\_CHROM & V2 & V3 & V4\\\\\n",
       "\\hline\n",
       "\t chr1                                    & 629507                                  & 629527                                  & A00253:327:H3N37DRXY:2:2255:10429:12602\\\\\n",
       "\t chr1                                    & 629507                                  & 629527                                  & A00253:327:H3N37DRXY:2:2231:9751:10708 \\\\\n",
       "\t chr1                                    & 629507                                  & 629527                                  & A00253:327:H3N37DRXY:2:2233:16062:17440\\\\\n",
       "\t chr1                                    & 629501                                  & 629521                                  & A00253:327:H3N37DRXY:2:2175:2519:33379 \\\\\n",
       "\t chr1                                    & 629501                                  & 629521                                  & A00253:327:H3N37DRXY:2:2248:29423:31407\\\\\n",
       "\t chr1                                    & 629502                                  & 629522                                  & A00253:327:H3N37DRXY:2:2120:8106:36260 \\\\\n",
       "\\end{tabular}\n"
      ],
      "text/markdown": [
       "\n",
       "| UCSC_CHROM | V2 | V3 | V4 |\n",
       "|---|---|---|---|\n",
       "| chr1                                    | 629507                                  | 629527                                  | A00253:327:H3N37DRXY:2:2255:10429:12602 |\n",
       "| chr1                                    | 629507                                  | 629527                                  | A00253:327:H3N37DRXY:2:2231:9751:10708  |\n",
       "| chr1                                    | 629507                                  | 629527                                  | A00253:327:H3N37DRXY:2:2233:16062:17440 |\n",
       "| chr1                                    | 629501                                  | 629521                                  | A00253:327:H3N37DRXY:2:2175:2519:33379  |\n",
       "| chr1                                    | 629501                                  | 629521                                  | A00253:327:H3N37DRXY:2:2248:29423:31407 |\n",
       "| chr1                                    | 629502                                  | 629522                                  | A00253:327:H3N37DRXY:2:2120:8106:36260  |\n",
       "\n"
      ],
      "text/plain": [
       "  UCSC_CHROM V2     V3     V4                                     \n",
       "1 chr1       629507 629527 A00253:327:H3N37DRXY:2:2255:10429:12602\n",
       "2 chr1       629507 629527 A00253:327:H3N37DRXY:2:2231:9751:10708 \n",
       "3 chr1       629507 629527 A00253:327:H3N37DRXY:2:2233:16062:17440\n",
       "4 chr1       629501 629521 A00253:327:H3N37DRXY:2:2175:2519:33379 \n",
       "5 chr1       629501 629521 A00253:327:H3N37DRXY:2:2248:29423:31407\n",
       "6 chr1       629502 629522 A00253:327:H3N37DRXY:2:2120:8106:36260 "
      ]
     },
     "metadata": {},
     "output_type": "display_data"
    }
   ],
   "source": [
    "head(data)"
   ]
  },
  {
   "cell_type": "code",
   "execution_count": 49,
   "id": "730ddf2e",
   "metadata": {},
   "outputs": [],
   "source": [
    "filtered_df <- data %>%\n",
    "  distinct(V2, V3, .keep_all = TRUE)\n",
    "\n"
   ]
  },
  {
   "cell_type": "code",
   "execution_count": 60,
   "id": "c10ca5e0",
   "metadata": {},
   "outputs": [
    {
     "data": {
      "text/html": [
       "177435"
      ],
      "text/latex": [
       "177435"
      ],
      "text/markdown": [
       "177435"
      ],
      "text/plain": [
       "[1] 177435"
      ]
     },
     "metadata": {},
     "output_type": "display_data"
    },
    {
     "data": {
      "text/html": [
       "12229691"
      ],
      "text/latex": [
       "12229691"
      ],
      "text/markdown": [
       "12229691"
      ],
      "text/plain": [
       "[1] 12229691"
      ]
     },
     "metadata": {},
     "output_type": "display_data"
    },
    {
     "data": {
      "text/html": [
       "<table>\n",
       "<thead><tr><th scope=col>UCSC_CHROM</th><th scope=col>V2</th><th scope=col>V3</th><th scope=col>V4</th></tr></thead>\n",
       "<tbody>\n",
       "\t<tr><td>chr1                                   </td><td> 12663                                 </td><td> 12684                                 </td><td>A00253:327:H3N37DRXY:2:2254:10827:7059 </td></tr>\n",
       "\t<tr><td>chr1                                   </td><td> 10531                                 </td><td> 10552                                 </td><td>A00253:327:H3N37DRXY:2:2231:19877:34914</td></tr>\n",
       "\t<tr><td>chr1                                   </td><td> 26113                                 </td><td> 26134                                 </td><td>A00253:327:H3N37DRXY:2:2225:27299:29011</td></tr>\n",
       "\t<tr><td>chr1                                   </td><td>110958                                 </td><td>110979                                 </td><td>A00253:327:H3N37DRXY:2:2144:15239:34334</td></tr>\n",
       "\t<tr><td>chr1                                   </td><td>113303                                 </td><td>113324                                 </td><td>A00253:327:H3N37DRXY:2:2172:21160:26522</td></tr>\n",
       "\t<tr><td>chr1                                   </td><td>129204                                 </td><td>129225                                 </td><td>A00253:327:H3N37DRXY:2:2213:22968:36918</td></tr>\n",
       "</tbody>\n",
       "</table>\n"
      ],
      "text/latex": [
       "\\begin{tabular}{r|llll}\n",
       " UCSC\\_CHROM & V2 & V3 & V4\\\\\n",
       "\\hline\n",
       "\t chr1                                    &  12663                                  &  12684                                  & A00253:327:H3N37DRXY:2:2254:10827:7059 \\\\\n",
       "\t chr1                                    &  10531                                  &  10552                                  & A00253:327:H3N37DRXY:2:2231:19877:34914\\\\\n",
       "\t chr1                                    &  26113                                  &  26134                                  & A00253:327:H3N37DRXY:2:2225:27299:29011\\\\\n",
       "\t chr1                                    & 110958                                  & 110979                                  & A00253:327:H3N37DRXY:2:2144:15239:34334\\\\\n",
       "\t chr1                                    & 113303                                  & 113324                                  & A00253:327:H3N37DRXY:2:2172:21160:26522\\\\\n",
       "\t chr1                                    & 129204                                  & 129225                                  & A00253:327:H3N37DRXY:2:2213:22968:36918\\\\\n",
       "\\end{tabular}\n"
      ],
      "text/markdown": [
       "\n",
       "| UCSC_CHROM | V2 | V3 | V4 |\n",
       "|---|---|---|---|\n",
       "| chr1                                    |  12663                                  |  12684                                  | A00253:327:H3N37DRXY:2:2254:10827:7059  |\n",
       "| chr1                                    |  10531                                  |  10552                                  | A00253:327:H3N37DRXY:2:2231:19877:34914 |\n",
       "| chr1                                    |  26113                                  |  26134                                  | A00253:327:H3N37DRXY:2:2225:27299:29011 |\n",
       "| chr1                                    | 110958                                  | 110979                                  | A00253:327:H3N37DRXY:2:2144:15239:34334 |\n",
       "| chr1                                    | 113303                                  | 113324                                  | A00253:327:H3N37DRXY:2:2172:21160:26522 |\n",
       "| chr1                                    | 129204                                  | 129225                                  | A00253:327:H3N37DRXY:2:2213:22968:36918 |\n",
       "\n"
      ],
      "text/plain": [
       "  UCSC_CHROM V2     V3     V4                                     \n",
       "1 chr1        12663  12684 A00253:327:H3N37DRXY:2:2254:10827:7059 \n",
       "2 chr1        10531  10552 A00253:327:H3N37DRXY:2:2231:19877:34914\n",
       "3 chr1        26113  26134 A00253:327:H3N37DRXY:2:2225:27299:29011\n",
       "4 chr1       110958 110979 A00253:327:H3N37DRXY:2:2144:15239:34334\n",
       "5 chr1       113303 113324 A00253:327:H3N37DRXY:2:2172:21160:26522\n",
       "6 chr1       129204 129225 A00253:327:H3N37DRXY:2:2213:22968:36918"
      ]
     },
     "metadata": {},
     "output_type": "display_data"
    }
   ],
   "source": [
    "nrow(filtered_df)\n",
    "nrow(data)\n",
    "head(filtered_df)"
   ]
  },
  {
   "cell_type": "code",
   "execution_count": 115,
   "id": "cdb86f10",
   "metadata": {},
   "outputs": [],
   "source": [
    "setwd(\"~/piRNA/Workspaces/julia/per_size/map/33\")\n",
    "write.table(data, file = \"Hum2_map_all.bed\", quote=FALSE, sep=\"\\t\", row.names = FALSE, col.names=FALSE)"
   ]
  },
  {
   "cell_type": "code",
   "execution_count": 117,
   "id": "d9ef3678",
   "metadata": {},
   "outputs": [],
   "source": [
    "setwd(\"~/piRNA/Workspaces/julia/per_size/map/20\")\n",
    "hum<- read.table(\"intersect_Hum1.bed\", header=FALSE, sep=\"\\t\", fill=TRUE)"
   ]
  },
  {
   "cell_type": "code",
   "execution_count": 118,
   "id": "d2b1c7be",
   "metadata": {},
   "outputs": [
    {
     "data": {
      "text/html": [
       "<table>\n",
       "<thead><tr><th scope=col>V1</th><th scope=col>V2</th><th scope=col>V3</th><th scope=col>V4</th></tr></thead>\n",
       "<tbody>\n",
       "\t<tr><td>chr1          </td><td>109401828     </td><td>109401848     </td><td>protein_coding</td></tr>\n",
       "\t<tr><td>chr1          </td><td>109409078     </td><td>109409098     </td><td>protein_coding</td></tr>\n",
       "\t<tr><td>chr1          </td><td>109474392     </td><td>109474412     </td><td>protein_coding</td></tr>\n",
       "\t<tr><td>chr1          </td><td>109480021     </td><td>109480041     </td><td>protein_coding</td></tr>\n",
       "\t<tr><td>chr1          </td><td>109482033     </td><td>109482053     </td><td>protein_coding</td></tr>\n",
       "\t<tr><td>chr1          </td><td>109310856     </td><td>109310876     </td><td>protein_coding</td></tr>\n",
       "</tbody>\n",
       "</table>\n"
      ],
      "text/latex": [
       "\\begin{tabular}{r|llll}\n",
       " V1 & V2 & V3 & V4\\\\\n",
       "\\hline\n",
       "\t chr1             & 109401828        & 109401848        & protein\\_coding\\\\\n",
       "\t chr1             & 109409078        & 109409098        & protein\\_coding\\\\\n",
       "\t chr1             & 109474392        & 109474412        & protein\\_coding\\\\\n",
       "\t chr1             & 109480021        & 109480041        & protein\\_coding\\\\\n",
       "\t chr1             & 109482033        & 109482053        & protein\\_coding\\\\\n",
       "\t chr1             & 109310856        & 109310876        & protein\\_coding\\\\\n",
       "\\end{tabular}\n"
      ],
      "text/markdown": [
       "\n",
       "| V1 | V2 | V3 | V4 |\n",
       "|---|---|---|---|\n",
       "| chr1           | 109401828      | 109401848      | protein_coding |\n",
       "| chr1           | 109409078      | 109409098      | protein_coding |\n",
       "| chr1           | 109474392      | 109474412      | protein_coding |\n",
       "| chr1           | 109480021      | 109480041      | protein_coding |\n",
       "| chr1           | 109482033      | 109482053      | protein_coding |\n",
       "| chr1           | 109310856      | 109310876      | protein_coding |\n",
       "\n"
      ],
      "text/plain": [
       "  V1   V2        V3        V4            \n",
       "1 chr1 109401828 109401848 protein_coding\n",
       "2 chr1 109409078 109409098 protein_coding\n",
       "3 chr1 109474392 109474412 protein_coding\n",
       "4 chr1 109480021 109480041 protein_coding\n",
       "5 chr1 109482033 109482053 protein_coding\n",
       "6 chr1 109310856 109310876 protein_coding"
      ]
     },
     "metadata": {},
     "output_type": "display_data"
    }
   ],
   "source": [
    "head(hum)"
   ]
  },
  {
   "cell_type": "code",
   "execution_count": 123,
   "id": "97eccdda",
   "metadata": {},
   "outputs": [
    {
     "data": {
      "text/plain": [
       "\n",
       "         antisense_RNA              guide_RNA                 lncRNA \n",
       "                     8                     23                  15971 \n",
       "                 miRNA               misc_RNA              precursor \n",
       "                   644                     67                  27592 \n",
       "        protein_coding             pseudogene          RNase_MRP_RNA \n",
       "                 42474                    232                      6 \n",
       "                  rRNA                 snoRNA                  snRNA \n",
       "                  4653                    349                    194 \n",
       "        telomerase_RNA transcribed_pseudogene                   tRNA \n",
       "                     1                   3807                    725 \n",
       "                 Y_RNA \n",
       "                    21 "
      ]
     },
     "metadata": {},
     "output_type": "display_data"
    }
   ],
   "source": [
    "(table(hum$V4))"
   ]
  },
  {
   "cell_type": "code",
   "execution_count": 124,
   "id": "f9c1d94e",
   "metadata": {
    "scrolled": true
   },
   "outputs": [],
   "source": [
    "setwd(\"~/piRNA/Workspaces/julia/per_size/map/20\")\n",
    "hum<- read.table(\"intersect_Hum2.bed\", header=FALSE, sep=\"\\t\", fill=TRUE)"
   ]
  },
  {
   "cell_type": "code",
   "execution_count": 125,
   "id": "9119f9a5",
   "metadata": {
    "scrolled": true
   },
   "outputs": [
    {
     "data": {
      "text/plain": [
       "\n",
       "         antisense_RNA              guide_RNA                 lncRNA \n",
       "                     2                     32                  11806 \n",
       "                 miRNA               misc_RNA              precursor \n",
       "                   584                     35                  15274 \n",
       "        protein_coding             pseudogene          RNase_MRP_RNA \n",
       "                 28106                    319                     14 \n",
       "                  rRNA                 snoRNA                  snRNA \n",
       "                  7965                    643                    329 \n",
       "        telomerase_RNA transcribed_pseudogene                   tRNA \n",
       "                     1                   2685                    766 \n",
       "             V_segment                  Y_RNA \n",
       "                     2                     27 "
      ]
     },
     "metadata": {},
     "output_type": "display_data"
    }
   ],
   "source": [
    "(table(hum$V4))"
   ]
  },
  {
   "cell_type": "code",
   "execution_count": 126,
   "id": "b05e9c4f",
   "metadata": {
    "scrolled": true
   },
   "outputs": [
    {
     "data": {
      "text/html": [
       "<ol class=list-inline>\n",
       "\t<li>2</li>\n",
       "\t<li>32</li>\n",
       "\t<li>11806</li>\n",
       "\t<li>584</li>\n",
       "\t<li>35</li>\n",
       "\t<li>15274</li>\n",
       "\t<li>28106</li>\n",
       "\t<li>319</li>\n",
       "\t<li>14</li>\n",
       "\t<li>7965</li>\n",
       "\t<li>643</li>\n",
       "\t<li>329</li>\n",
       "\t<li>1</li>\n",
       "\t<li>2685</li>\n",
       "\t<li>766</li>\n",
       "\t<li>2</li>\n",
       "\t<li>27</li>\n",
       "</ol>\n"
      ],
      "text/latex": [
       "\\begin{enumerate*}\n",
       "\\item 2\n",
       "\\item 32\n",
       "\\item 11806\n",
       "\\item 584\n",
       "\\item 35\n",
       "\\item 15274\n",
       "\\item 28106\n",
       "\\item 319\n",
       "\\item 14\n",
       "\\item 7965\n",
       "\\item 643\n",
       "\\item 329\n",
       "\\item 1\n",
       "\\item 2685\n",
       "\\item 766\n",
       "\\item 2\n",
       "\\item 27\n",
       "\\end{enumerate*}\n"
      ],
      "text/markdown": [
       "1. 2\n",
       "2. 32\n",
       "3. 11806\n",
       "4. 584\n",
       "5. 35\n",
       "6. 15274\n",
       "7. 28106\n",
       "8. 319\n",
       "9. 14\n",
       "10. 7965\n",
       "11. 643\n",
       "12. 329\n",
       "13. 1\n",
       "14. 2685\n",
       "15. 766\n",
       "16. 2\n",
       "17. 27\n",
       "\n",
       "\n"
      ],
      "text/plain": [
       " [1]     2    32 11806   584    35 15274 28106   319    14  7965   643   329\n",
       "[13]     1  2685   766     2    27"
      ]
     },
     "metadata": {},
     "output_type": "display_data"
    }
   ],
   "source": [
    "as.numeric(table(hum$V4))"
   ]
  },
  {
   "cell_type": "code",
   "execution_count": 127,
   "id": "c1790a3b",
   "metadata": {
    "scrolled": true
   },
   "outputs": [],
   "source": [
    "setwd(\"~/piRNA/Workspaces/julia/per_size/map/21\")\n",
    "hum<- read.table(\"intersect_Hum1.bed\", header=FALSE, sep=\"\\t\", fill=TRUE)"
   ]
  },
  {
   "cell_type": "code",
   "execution_count": 128,
   "id": "b7c3a1f0",
   "metadata": {
    "scrolled": true
   },
   "outputs": [
    {
     "data": {
      "text/plain": [
       "\n",
       "         antisense_RNA              guide_RNA                 lncRNA \n",
       "                     7                     25                  15111 \n",
       "                 miRNA               misc_RNA              precursor \n",
       "                   785                     49                  25094 \n",
       "        protein_coding             pseudogene          RNase_MRP_RNA \n",
       "                 41377                    275                      5 \n",
       "                  rRNA                 snoRNA                  snRNA \n",
       "                  4467                    358                    216 \n",
       "        telomerase_RNA transcribed_pseudogene                   tRNA \n",
       "                     3                   3506                    672 \n",
       "             V_segment                  Y_RNA \n",
       "                     1                     19 "
      ]
     },
     "metadata": {},
     "output_type": "display_data"
    }
   ],
   "source": [
    "(table(hum$V4))"
   ]
  },
  {
   "cell_type": "code",
   "execution_count": 129,
   "id": "1505a039",
   "metadata": {},
   "outputs": [
    {
     "data": {
      "text/html": [
       "<ol class=list-inline>\n",
       "\t<li>7</li>\n",
       "\t<li>25</li>\n",
       "\t<li>15111</li>\n",
       "\t<li>785</li>\n",
       "\t<li>49</li>\n",
       "\t<li>25094</li>\n",
       "\t<li>41377</li>\n",
       "\t<li>275</li>\n",
       "\t<li>5</li>\n",
       "\t<li>4467</li>\n",
       "\t<li>358</li>\n",
       "\t<li>216</li>\n",
       "\t<li>3</li>\n",
       "\t<li>3506</li>\n",
       "\t<li>672</li>\n",
       "\t<li>1</li>\n",
       "\t<li>19</li>\n",
       "</ol>\n"
      ],
      "text/latex": [
       "\\begin{enumerate*}\n",
       "\\item 7\n",
       "\\item 25\n",
       "\\item 15111\n",
       "\\item 785\n",
       "\\item 49\n",
       "\\item 25094\n",
       "\\item 41377\n",
       "\\item 275\n",
       "\\item 5\n",
       "\\item 4467\n",
       "\\item 358\n",
       "\\item 216\n",
       "\\item 3\n",
       "\\item 3506\n",
       "\\item 672\n",
       "\\item 1\n",
       "\\item 19\n",
       "\\end{enumerate*}\n"
      ],
      "text/markdown": [
       "1. 7\n",
       "2. 25\n",
       "3. 15111\n",
       "4. 785\n",
       "5. 49\n",
       "6. 25094\n",
       "7. 41377\n",
       "8. 275\n",
       "9. 5\n",
       "10. 4467\n",
       "11. 358\n",
       "12. 216\n",
       "13. 3\n",
       "14. 3506\n",
       "15. 672\n",
       "16. 1\n",
       "17. 19\n",
       "\n",
       "\n"
      ],
      "text/plain": [
       " [1]     7    25 15111   785    49 25094 41377   275     5  4467   358   216\n",
       "[13]     3  3506   672     1    19"
      ]
     },
     "metadata": {},
     "output_type": "display_data"
    }
   ],
   "source": [
    "as.numeric(table(hum$V4))"
   ]
  },
  {
   "cell_type": "code",
   "execution_count": 137,
   "id": "802f6050",
   "metadata": {
    "scrolled": true
   },
   "outputs": [],
   "source": [
    "setwd(\"~/piRNA/Workspaces/julia/per_size/map/21\")\n",
    "hum<- read.table(\"intersect_Hum2.bed\", header=FALSE, sep=\"\\t\", fill=TRUE)"
   ]
  },
  {
   "cell_type": "code",
   "execution_count": 138,
   "id": "c714b61f",
   "metadata": {
    "scrolled": true
   },
   "outputs": [
    {
     "data": {
      "text/plain": [
       "\n",
       "         antisense_RNA              guide_RNA                 lncRNA \n",
       "                     4                     49                  14247 \n",
       "                 miRNA               misc_RNA              precursor \n",
       "                   744                     34                  18188 \n",
       "        protein_coding             pseudogene          RNase_MRP_RNA \n",
       "                 35648                    381                     19 \n",
       "                  rRNA                 snoRNA                  snRNA \n",
       "                  8783                    725                    328 \n",
       "        telomerase_RNA transcribed_pseudogene                   tRNA \n",
       "                     7                   3511                    861 \n",
       "             V_segment                  Y_RNA \n",
       "                     2                     37 "
      ]
     },
     "metadata": {},
     "output_type": "display_data"
    }
   ],
   "source": [
    "(table(hum$V4))"
   ]
  },
  {
   "cell_type": "code",
   "execution_count": 139,
   "id": "d3a1af21",
   "metadata": {},
   "outputs": [
    {
     "data": {
      "text/html": [
       "<ol class=list-inline>\n",
       "\t<li>4</li>\n",
       "\t<li>49</li>\n",
       "\t<li>14247</li>\n",
       "\t<li>744</li>\n",
       "\t<li>34</li>\n",
       "\t<li>18188</li>\n",
       "\t<li>35648</li>\n",
       "\t<li>381</li>\n",
       "\t<li>19</li>\n",
       "\t<li>8783</li>\n",
       "\t<li>725</li>\n",
       "\t<li>328</li>\n",
       "\t<li>7</li>\n",
       "\t<li>3511</li>\n",
       "\t<li>861</li>\n",
       "\t<li>2</li>\n",
       "\t<li>37</li>\n",
       "</ol>\n"
      ],
      "text/latex": [
       "\\begin{enumerate*}\n",
       "\\item 4\n",
       "\\item 49\n",
       "\\item 14247\n",
       "\\item 744\n",
       "\\item 34\n",
       "\\item 18188\n",
       "\\item 35648\n",
       "\\item 381\n",
       "\\item 19\n",
       "\\item 8783\n",
       "\\item 725\n",
       "\\item 328\n",
       "\\item 7\n",
       "\\item 3511\n",
       "\\item 861\n",
       "\\item 2\n",
       "\\item 37\n",
       "\\end{enumerate*}\n"
      ],
      "text/markdown": [
       "1. 4\n",
       "2. 49\n",
       "3. 14247\n",
       "4. 744\n",
       "5. 34\n",
       "6. 18188\n",
       "7. 35648\n",
       "8. 381\n",
       "9. 19\n",
       "10. 8783\n",
       "11. 725\n",
       "12. 328\n",
       "13. 7\n",
       "14. 3511\n",
       "15. 861\n",
       "16. 2\n",
       "17. 37\n",
       "\n",
       "\n"
      ],
      "text/plain": [
       " [1]     4    49 14247   744    34 18188 35648   381    19  8783   725   328\n",
       "[13]     7  3511   861     2    37"
      ]
     },
     "metadata": {},
     "output_type": "display_data"
    }
   ],
   "source": [
    "as.numeric(table(hum$V4))"
   ]
  },
  {
   "cell_type": "code",
   "execution_count": null,
   "id": "88b955ef",
   "metadata": {},
   "outputs": [],
   "source": []
  },
  {
   "cell_type": "code",
   "execution_count": 102,
   "id": "4e727293",
   "metadata": {
    "scrolled": true
   },
   "outputs": [],
   "source": [
    "setwd(\"~/piRNA/Workspaces/julia/per_size/map/33\")\n",
    "hum<- read.table(\"intersect_hum2.bed\", header=FALSE, sep=\"\\t\", fill=TRUE)"
   ]
  },
  {
   "cell_type": "code",
   "execution_count": 103,
   "id": "fbd53dcf",
   "metadata": {},
   "outputs": [
    {
     "data": {
      "text/html": [
       "1150781"
      ],
      "text/latex": [
       "1150781"
      ],
      "text/markdown": [
       "1150781"
      ],
      "text/plain": [
       "[1] 1150781"
      ]
     },
     "metadata": {},
     "output_type": "display_data"
    }
   ],
   "source": [
    "nrow(hum)"
   ]
  },
  {
   "cell_type": "code",
   "execution_count": 104,
   "id": "5c8b875d",
   "metadata": {
    "scrolled": true
   },
   "outputs": [
    {
     "data": {
      "text/plain": [
       "\n",
       "         antisense_RNA              guide_RNA                 lncRNA \n",
       "                     5                    849                 114810 \n",
       "                 miRNA               misc_RNA              precursor \n",
       "                   209                     25                 106215 \n",
       "        protein_coding             pseudogene          RNase_MRP_RNA \n",
       "                105301                    699                   2015 \n",
       "                  rRNA                 snoRNA                  snRNA \n",
       "                268099                  25086                   2118 \n",
       "        telomerase_RNA transcribed_pseudogene                   tRNA \n",
       "                    35                  32681                 468159 \n",
       "                 Y_RNA \n",
       "                 24475 "
      ]
     },
     "metadata": {},
     "output_type": "display_data"
    }
   ],
   "source": [
    "(table(hum$V4))"
   ]
  },
  {
   "cell_type": "code",
   "execution_count": 105,
   "id": "8c7d3182",
   "metadata": {},
   "outputs": [
    {
     "data": {
      "text/html": [
       "<ol class=list-inline>\n",
       "\t<li>5</li>\n",
       "\t<li>849</li>\n",
       "\t<li>114810</li>\n",
       "\t<li>209</li>\n",
       "\t<li>25</li>\n",
       "\t<li>106215</li>\n",
       "\t<li>105301</li>\n",
       "\t<li>699</li>\n",
       "\t<li>2015</li>\n",
       "\t<li>268099</li>\n",
       "\t<li>25086</li>\n",
       "\t<li>2118</li>\n",
       "\t<li>35</li>\n",
       "\t<li>32681</li>\n",
       "\t<li>468159</li>\n",
       "\t<li>24475</li>\n",
       "</ol>\n"
      ],
      "text/latex": [
       "\\begin{enumerate*}\n",
       "\\item 5\n",
       "\\item 849\n",
       "\\item 114810\n",
       "\\item 209\n",
       "\\item 25\n",
       "\\item 106215\n",
       "\\item 105301\n",
       "\\item 699\n",
       "\\item 2015\n",
       "\\item 268099\n",
       "\\item 25086\n",
       "\\item 2118\n",
       "\\item 35\n",
       "\\item 32681\n",
       "\\item 468159\n",
       "\\item 24475\n",
       "\\end{enumerate*}\n"
      ],
      "text/markdown": [
       "1. 5\n",
       "2. 849\n",
       "3. 114810\n",
       "4. 209\n",
       "5. 25\n",
       "6. 106215\n",
       "7. 105301\n",
       "8. 699\n",
       "9. 2015\n",
       "10. 268099\n",
       "11. 25086\n",
       "12. 2118\n",
       "13. 35\n",
       "14. 32681\n",
       "15. 468159\n",
       "16. 24475\n",
       "\n",
       "\n"
      ],
      "text/plain": [
       " [1]      5    849 114810    209     25 106215 105301    699   2015 268099\n",
       "[11]  25086   2118     35  32681 468159  24475"
      ]
     },
     "metadata": {},
     "output_type": "display_data"
    }
   ],
   "source": [
    "as.numeric(table(hum$V4))"
   ]
  },
  {
   "cell_type": "code",
   "execution_count": 4,
   "id": "4209aac6",
   "metadata": {},
   "outputs": [],
   "source": [
    "setwd(\"~/piRNA/Workspaces/julia/PrimaryData/ref_data/human\")\n",
    "#chromosome data\n",
    "chromosome_data<- read.table(\"summary_chroms.tsv\", header=TRUE, sep=\"\\t\")\n",
    "setwd(\"~/piRNA/Workspaces/julia/piRNA_reads/mapping_human/Kat34\")\n",
    "coverage<- read.table(\"Kat34_coverage\", header = FALSE)\n",
    "names(coverage)[names(coverage) == \"V1\"]<- \"REFSEQ_CHROM\"\n",
    "data<- merge(coverage, chromosome_data, by= \"REFSEQ_CHROM\")\n",
    "data$position<- data$V2-1\n",
    "data<- data[,c(5,7,2,3)]\n",
    "write.table(data, file = \"Kat34_coverage.bed\", quote=FALSE, sep=\"\\t\", row.names = FALSE, col.names=FALSE)"
   ]
  },
  {
   "cell_type": "code",
   "execution_count": null,
   "id": "ab8a1551",
   "metadata": {},
   "outputs": [],
   "source": []
  }
 ],
 "metadata": {
  "kernelspec": {
   "display_name": "R",
   "language": "R",
   "name": "ir"
  },
  "language_info": {
   "codemirror_mode": "r",
   "file_extension": ".r",
   "mimetype": "text/x-r-source",
   "name": "R",
   "pygments_lexer": "r",
   "version": "3.6.1"
  }
 },
 "nbformat": 4,
 "nbformat_minor": 5
}
